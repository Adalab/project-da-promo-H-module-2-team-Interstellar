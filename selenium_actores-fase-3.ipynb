{
 "cells": [
  {
   "cell_type": "code",
   "execution_count": 8,
   "metadata": {},
   "outputs": [],
   "source": [
    "#  Importar librerías para tratamiento de datos\n",
    "# -----------------------------------------------------------------------\n",
    "import pandas as pd  # Pandas es una poderosa librería para manipulación y análisis de datos en Python.\n",
    "\n",
    "# Importar librerías para web scraping y manipulación de datos\n",
    "# -----------------------------------------------------------------------\n",
    "from bs4 import BeautifulSoup\n",
    "import requests\n",
    "\n",
    "# Importar librerías para automatización de navegadores web con Selenium\n",
    "# -----------------------------------------------------------------------\n",
    "from selenium import webdriver  # Selenium es una herramienta para automatizar la interacción con navegadores web.\n",
    "from webdriver_manager.chrome import ChromeDriverManager  # ChromeDriverManager gestiona la instalación del controlador de Chrome.\n",
    "from selenium.webdriver.common.keys import Keys  # Keys es útil para simular eventos de teclado en Selenium.\n",
    "from selenium.webdriver.support.ui import Select  # Select se utiliza para interactuar con elementos <select> en páginas web.\n",
    "\n",
    "# Importar librerías para pausar la ejecución\n",
    "# -----------------------------------------------------------------------\n",
    "from time import sleep  # Sleep se utiliza para pausar la ejecución del programa por un número de segundos.\n",
    "\n",
    "# Configuraciones\n",
    "# -----------------------------------------------------------------------\n",
    "pd.set_option('display.max_columns', None)  # Establece una opción de Pandas para mostrar todas las columnas de un DataFrame."
   ]
  },
  {
   "cell_type": "code",
   "execution_count": 9,
   "metadata": {},
   "outputs": [
    {
     "ename": "ElementClickInterceptedException",
     "evalue": "Message: element click intercepted: Element is not clickable at point (127, 1140)\n  (Session info: chrome=122.0.6261.129)\nStacktrace:\n\tGetHandleVerifier [0x00007FF67215AD02+56930]\n\t(No symbol) [0x00007FF6720CF602]\n\t(No symbol) [0x00007FF671F842E5]\n\t(No symbol) [0x00007FF671FD0A80]\n\t(No symbol) [0x00007FF671FCE8AB]\n\t(No symbol) [0x00007FF671FCC0B4]\n\t(No symbol) [0x00007FF671FCAE45]\n\t(No symbol) [0x00007FF671FBF798]\n\t(No symbol) [0x00007FF671FEBC9A]\n\t(No symbol) [0x00007FF671FBF09A]\n\t(No symbol) [0x00007FF671FEBEB0]\n\t(No symbol) [0x00007FF6720081E2]\n\t(No symbol) [0x00007FF671FEBA43]\n\t(No symbol) [0x00007FF671FBD438]\n\t(No symbol) [0x00007FF671FBE4D1]\n\tGetHandleVerifier [0x00007FF6724D6F8D+3711213]\n\tGetHandleVerifier [0x00007FF6725304CD+4077101]\n\tGetHandleVerifier [0x00007FF67252865F+4044735]\n\tGetHandleVerifier [0x00007FF6721F9736+706710]\n\t(No symbol) [0x00007FF6720DB8DF]\n\t(No symbol) [0x00007FF6720D6AC4]\n\t(No symbol) [0x00007FF6720D6C1C]\n\t(No symbol) [0x00007FF6720C68D4]\n\tBaseThreadInitThunk [0x00007FFC1FA77344+20]\n\tRtlUserThreadStart [0x00007FFC1FC026B1+33]\n",
     "output_type": "error",
     "traceback": [
      "\u001b[1;31m---------------------------------------------------------------------------\u001b[0m",
      "\u001b[1;31mElementClickInterceptedException\u001b[0m          Traceback (most recent call last)",
      "Cell \u001b[1;32mIn[9], line 17\u001b[0m\n\u001b[0;32m     13\u001b[0m busqueda \u001b[38;5;241m=\u001b[39m driver\u001b[38;5;241m.\u001b[39mfind_element(\u001b[38;5;124m\"\u001b[39m\u001b[38;5;124mcss selector\u001b[39m\u001b[38;5;124m\"\u001b[39m,\u001b[38;5;124m\"\u001b[39m\u001b[38;5;124m#suggestion-search\u001b[39m\u001b[38;5;124m\"\u001b[39m)\u001b[38;5;241m.\u001b[39msend_keys(\u001b[38;5;28mid\u001b[39m , Keys\u001b[38;5;241m.\u001b[39mENTER)\n\u001b[0;32m     15\u001b[0m sleep(\u001b[38;5;241m5\u001b[39m)\n\u001b[1;32m---> 17\u001b[0m \u001b[43mdriver\u001b[49m\u001b[38;5;241;43m.\u001b[39;49m\u001b[43mfind_element\u001b[49m\u001b[43m(\u001b[49m\u001b[38;5;124;43m\"\u001b[39;49m\u001b[38;5;124;43mlink text\u001b[39;49m\u001b[38;5;124;43m\"\u001b[39;49m\u001b[43m,\u001b[49m\u001b[43m \u001b[49m\u001b[38;5;124;43m\"\u001b[39;49m\u001b[38;5;124;43mReparto principal\u001b[39;49m\u001b[38;5;124;43m\"\u001b[39;49m\u001b[43m)\u001b[49m\u001b[38;5;241;43m.\u001b[39;49m\u001b[43mclick\u001b[49m\u001b[43m(\u001b[49m\u001b[43m)\u001b[49m \u001b[38;5;66;03m# entre al desplegable de el cast\u001b[39;00m\n\u001b[0;32m     20\u001b[0m sleep(\u001b[38;5;241m3\u001b[39m)\n\u001b[0;32m     22\u001b[0m nombre \u001b[38;5;241m=\u001b[39m [] \n",
      "File \u001b[1;32m~\\AppData\\Local\\Packages\\PythonSoftwareFoundation.Python.3.9_qbz5n2kfra8p0\\LocalCache\\local-packages\\Python39\\site-packages\\selenium\\webdriver\\remote\\webelement.py:94\u001b[0m, in \u001b[0;36mWebElement.click\u001b[1;34m(self)\u001b[0m\n\u001b[0;32m     92\u001b[0m \u001b[38;5;28;01mdef\u001b[39;00m \u001b[38;5;21mclick\u001b[39m(\u001b[38;5;28mself\u001b[39m) \u001b[38;5;241m-\u001b[39m\u001b[38;5;241m>\u001b[39m \u001b[38;5;28;01mNone\u001b[39;00m:\n\u001b[0;32m     93\u001b[0m \u001b[38;5;250m    \u001b[39m\u001b[38;5;124;03m\"\"\"Clicks the element.\"\"\"\u001b[39;00m\n\u001b[1;32m---> 94\u001b[0m     \u001b[38;5;28;43mself\u001b[39;49m\u001b[38;5;241;43m.\u001b[39;49m\u001b[43m_execute\u001b[49m\u001b[43m(\u001b[49m\u001b[43mCommand\u001b[49m\u001b[38;5;241;43m.\u001b[39;49m\u001b[43mCLICK_ELEMENT\u001b[49m\u001b[43m)\u001b[49m\n",
      "File \u001b[1;32m~\\AppData\\Local\\Packages\\PythonSoftwareFoundation.Python.3.9_qbz5n2kfra8p0\\LocalCache\\local-packages\\Python39\\site-packages\\selenium\\webdriver\\remote\\webelement.py:395\u001b[0m, in \u001b[0;36mWebElement._execute\u001b[1;34m(self, command, params)\u001b[0m\n\u001b[0;32m    393\u001b[0m     params \u001b[38;5;241m=\u001b[39m {}\n\u001b[0;32m    394\u001b[0m params[\u001b[38;5;124m\"\u001b[39m\u001b[38;5;124mid\u001b[39m\u001b[38;5;124m\"\u001b[39m] \u001b[38;5;241m=\u001b[39m \u001b[38;5;28mself\u001b[39m\u001b[38;5;241m.\u001b[39m_id\n\u001b[1;32m--> 395\u001b[0m \u001b[38;5;28;01mreturn\u001b[39;00m \u001b[38;5;28;43mself\u001b[39;49m\u001b[38;5;241;43m.\u001b[39;49m\u001b[43m_parent\u001b[49m\u001b[38;5;241;43m.\u001b[39;49m\u001b[43mexecute\u001b[49m\u001b[43m(\u001b[49m\u001b[43mcommand\u001b[49m\u001b[43m,\u001b[49m\u001b[43m \u001b[49m\u001b[43mparams\u001b[49m\u001b[43m)\u001b[49m\n",
      "File \u001b[1;32m~\\AppData\\Local\\Packages\\PythonSoftwareFoundation.Python.3.9_qbz5n2kfra8p0\\LocalCache\\local-packages\\Python39\\site-packages\\selenium\\webdriver\\remote\\webdriver.py:347\u001b[0m, in \u001b[0;36mWebDriver.execute\u001b[1;34m(self, driver_command, params)\u001b[0m\n\u001b[0;32m    345\u001b[0m response \u001b[38;5;241m=\u001b[39m \u001b[38;5;28mself\u001b[39m\u001b[38;5;241m.\u001b[39mcommand_executor\u001b[38;5;241m.\u001b[39mexecute(driver_command, params)\n\u001b[0;32m    346\u001b[0m \u001b[38;5;28;01mif\u001b[39;00m response:\n\u001b[1;32m--> 347\u001b[0m     \u001b[38;5;28;43mself\u001b[39;49m\u001b[38;5;241;43m.\u001b[39;49m\u001b[43merror_handler\u001b[49m\u001b[38;5;241;43m.\u001b[39;49m\u001b[43mcheck_response\u001b[49m\u001b[43m(\u001b[49m\u001b[43mresponse\u001b[49m\u001b[43m)\u001b[49m\n\u001b[0;32m    348\u001b[0m     response[\u001b[38;5;124m\"\u001b[39m\u001b[38;5;124mvalue\u001b[39m\u001b[38;5;124m\"\u001b[39m] \u001b[38;5;241m=\u001b[39m \u001b[38;5;28mself\u001b[39m\u001b[38;5;241m.\u001b[39m_unwrap_value(response\u001b[38;5;241m.\u001b[39mget(\u001b[38;5;124m\"\u001b[39m\u001b[38;5;124mvalue\u001b[39m\u001b[38;5;124m\"\u001b[39m, \u001b[38;5;28;01mNone\u001b[39;00m))\n\u001b[0;32m    349\u001b[0m     \u001b[38;5;28;01mreturn\u001b[39;00m response\n",
      "File \u001b[1;32m~\\AppData\\Local\\Packages\\PythonSoftwareFoundation.Python.3.9_qbz5n2kfra8p0\\LocalCache\\local-packages\\Python39\\site-packages\\selenium\\webdriver\\remote\\errorhandler.py:229\u001b[0m, in \u001b[0;36mErrorHandler.check_response\u001b[1;34m(self, response)\u001b[0m\n\u001b[0;32m    227\u001b[0m         alert_text \u001b[38;5;241m=\u001b[39m value[\u001b[38;5;124m\"\u001b[39m\u001b[38;5;124malert\u001b[39m\u001b[38;5;124m\"\u001b[39m]\u001b[38;5;241m.\u001b[39mget(\u001b[38;5;124m\"\u001b[39m\u001b[38;5;124mtext\u001b[39m\u001b[38;5;124m\"\u001b[39m)\n\u001b[0;32m    228\u001b[0m     \u001b[38;5;28;01mraise\u001b[39;00m exception_class(message, screen, stacktrace, alert_text)  \u001b[38;5;66;03m# type: ignore[call-arg]  # mypy is not smart enough here\u001b[39;00m\n\u001b[1;32m--> 229\u001b[0m \u001b[38;5;28;01mraise\u001b[39;00m exception_class(message, screen, stacktrace)\n",
      "\u001b[1;31mElementClickInterceptedException\u001b[0m: Message: element click intercepted: Element is not clickable at point (127, 1140)\n  (Session info: chrome=122.0.6261.129)\nStacktrace:\n\tGetHandleVerifier [0x00007FF67215AD02+56930]\n\t(No symbol) [0x00007FF6720CF602]\n\t(No symbol) [0x00007FF671F842E5]\n\t(No symbol) [0x00007FF671FD0A80]\n\t(No symbol) [0x00007FF671FCE8AB]\n\t(No symbol) [0x00007FF671FCC0B4]\n\t(No symbol) [0x00007FF671FCAE45]\n\t(No symbol) [0x00007FF671FBF798]\n\t(No symbol) [0x00007FF671FEBC9A]\n\t(No symbol) [0x00007FF671FBF09A]\n\t(No symbol) [0x00007FF671FEBEB0]\n\t(No symbol) [0x00007FF6720081E2]\n\t(No symbol) [0x00007FF671FEBA43]\n\t(No symbol) [0x00007FF671FBD438]\n\t(No symbol) [0x00007FF671FBE4D1]\n\tGetHandleVerifier [0x00007FF6724D6F8D+3711213]\n\tGetHandleVerifier [0x00007FF6725304CD+4077101]\n\tGetHandleVerifier [0x00007FF67252865F+4044735]\n\tGetHandleVerifier [0x00007FF6721F9736+706710]\n\t(No symbol) [0x00007FF6720DB8DF]\n\t(No symbol) [0x00007FF6720D6AC4]\n\t(No symbol) [0x00007FF6720D6C1C]\n\t(No symbol) [0x00007FF6720C68D4]\n\tBaseThreadInitThunk [0x00007FFC1FA77344+20]\n\tRtlUserThreadStart [0x00007FFC1FC026B1+33]\n"
     ]
    }
   ],
   "source": [
    "driver = webdriver.Chrome() #abrir el navegador\n",
    "\n",
    "driver.get(\"https://www.imdb.com/\") # abrir pagina web\n",
    "\n",
    "driver.maximize_window() #maximizar ventana navegador\n",
    "\n",
    "driver.find_element(\"css selector\", \"#__next > div > div > div.sc-jrcTuL.bPmWiM > div > button.icb-btn.sc-bcXHqe.sc-dkrFOg.sc-iBYQkv.dcvrLS.ddtuHe.dRCGjd\").click() # acepto las coockies\n",
    "\n",
    "sleep(2)\n",
    "\n",
    "id = ['tt11097384'] #id mom's coming\n",
    "\n",
    "busqueda = driver.find_element(\"css selector\",\"#suggestion-search\").send_keys(id , Keys.ENTER)\n",
    "\n",
    "sleep(5)\n",
    "\n",
    "driver.find_element(\"link text\", \"Reparto principal\").click() # entre al desplegable de el cast\n",
    "\n",
    "\n",
    "sleep(3)\n",
    "\n",
    "nombre = [] \n",
    "\n",
    "nombre.append(driver.find_element( 'xpath', \"/html/body/div[1]/div/div[2]/div[1]/div[1]/div[1]/div[2]/table[3]/tbody/tr[2]/td[2]/a\").text) #aqui saque el nombre\n",
    "\n",
    "sleep(3)\n",
    "\n",
    "driver.find_element( 'xpath','/html/body/div[1]/div/div[2]/div[1]/div[1]/div[1]/div[2]/table[3]/tbody/tr[2]/td[2]/a') # intentando sacar el link\n",
    "\n",
    "# link = driver.find_element( 'xpath', '//*[@id=\"fullcredits_content\"]/table[3]/tbody/tr[2]/td[2]').get_attribute('href') "
   ]
  },
  {
   "cell_type": "code",
   "execution_count": null,
   "metadata": {},
   "outputs": [],
   "source": [
    "nombre\n"
   ]
  },
  {
   "cell_type": "markdown",
   "metadata": {},
   "source": [
    "## sacando etiquetas "
   ]
  },
  {
   "cell_type": "code",
   "execution_count": null,
   "metadata": {},
   "outputs": [],
   "source": [
    "# links_por_actor xpath peli love song and power\n",
    "#/html/body/div[1]/div/div[2]/div[1]/div[1]/div[1]/div[2]/table[3]/tbody/tr[2]/td[2]/a\n",
    "#/html/body/div[1]/div/div[2]/div[1]/div[1]/div[1]/div[2]/table[3]/tbody/tr[3]/td[2]/a\n",
    "\n",
    "\n",
    "#-------------------------------------------------------------------------------------------#\n",
    "\n",
    "# otra peli xpath  spaceman\n",
    "#/html/body/div[1]/div/div[2]/div[1]/div[1]/div[1]/div[2]/table[3]/tbody/tr[2]/td[2]/a\n",
    "#/html/body/div[1]/div/div[2]/div[1]/div[1]/div[1]/div[2]/table[3]/tbody/tr[3]/td[2]/a"
   ]
  },
  {
   "cell_type": "markdown",
   "metadata": {},
   "source": [
    "solo año de nacimiennto"
   ]
  },
  {
   "cell_type": "code",
   "execution_count": null,
   "metadata": {},
   "outputs": [],
   "source": [
    "# año nacimiento love song and  power Aaron jackson xpath\n",
    "#//*[@id=\"__next\"]/main/div/section[1]/section/div[3]/section/section/div[3]/div[2]/div[2]/section/aside/div/span[2]( el text)\n",
    "#\n",
    "\n",
    "#-------------------------------------------------------------------------------------------------------------------\n",
    "# año nacimiento spaceman Adam Sandler xpath\n",
    "#//*[@id=\"__next\"]/main/div/section[1]/section/div[3]/section/section/div[3]/div[2]/div[2]/section/aside/div/span[2].text\n",
    "# año nacimiento spaceman carey mulligan xpath\n",
    "#//*[@id=\"__next\"]/main/div/section[1]/section/div[3]/section/section/div[3]/div[2]/div[2]/section/aside/div/span[2].text"
   ]
  },
  {
   "cell_type": "markdown",
   "metadata": {},
   "source": [
    "texto que contiene año de nacimiento y conocido por"
   ]
  },
  {
   "cell_type": "code",
   "execution_count": null,
   "metadata": {},
   "outputs": [],
   "source": [
    "#conocido por AAron Jackson xpath TEXTO INTRODUCTORIO CON FECHA DE NACIMIENTO Y CONOCIDO POR \n",
    "#//*[@id=\"__next\"]/main/div/section[1]/section/div[3]/section/section/div[3]/div[2]/div[1]/section/div/div/div/div/div\n",
    "# conocido por Rose LaRue xpath \n",
    "#//*[@id=\"__next\"]/main/div/section[1]/section/div[3]/section/section/div[3]/div[2]/div[1]/section/div/div/div/div/div\n",
    "\n",
    "#---------------------------------------------------------------------------------------------------------------------------\n",
    "\n",
    "# spaceman  adam sandler\n",
    "\n",
    "# //*[@id=\"__next\"]/main/div/section[1]/section/div[3]/section/section/div[3]/div[2]/div[1]/section/div/div/div/div/div\n",
    "\n"
   ]
  },
  {
   "cell_type": "code",
   "execution_count": null,
   "metadata": {},
   "outputs": [],
   "source": []
  }
 ],
 "metadata": {
  "kernelspec": {
   "display_name": "Python 3",
   "language": "python",
   "name": "python3"
  },
  "language_info": {
   "codemirror_mode": {
    "name": "ipython",
    "version": 3
   },
   "file_extension": ".py",
   "mimetype": "text/x-python",
   "name": "python",
   "nbconvert_exporter": "python",
   "pygments_lexer": "ipython3",
   "version": "3.9.13"
  }
 },
 "nbformat": 4,
 "nbformat_minor": 2
}
