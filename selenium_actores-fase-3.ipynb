{
 "cells": [
  {
   "cell_type": "code",
   "execution_count": 1,
   "metadata": {},
   "outputs": [
    {
     "name": "stdout",
     "output_type": "stream",
     "text": [
      "Requirement already satisfied: selenium in c:\\users\\marg_\\anaconda3\\lib\\site-packages (4.19.0)\n",
      "Requirement already satisfied: urllib3<3,>=1.26 in c:\\users\\marg_\\anaconda3\\lib\\site-packages (from urllib3[socks]<3,>=1.26->selenium) (2.0.7)\n",
      "Requirement already satisfied: trio~=0.17 in c:\\users\\marg_\\anaconda3\\lib\\site-packages (from selenium) (0.25.0)\n",
      "Requirement already satisfied: trio-websocket~=0.9 in c:\\users\\marg_\\anaconda3\\lib\\site-packages (from selenium) (0.11.1)\n",
      "Requirement already satisfied: certifi>=2021.10.8 in c:\\users\\marg_\\anaconda3\\lib\\site-packages (from selenium) (2024.2.2)\n",
      "Requirement already satisfied: typing_extensions>=4.9.0 in c:\\users\\marg_\\anaconda3\\lib\\site-packages (from selenium) (4.9.0)\n",
      "Requirement already satisfied: attrs>=23.2.0 in c:\\users\\marg_\\anaconda3\\lib\\site-packages (from trio~=0.17->selenium) (23.2.0)\n",
      "Requirement already satisfied: sortedcontainers in c:\\users\\marg_\\anaconda3\\lib\\site-packages (from trio~=0.17->selenium) (2.4.0)\n",
      "Requirement already satisfied: idna in c:\\users\\marg_\\anaconda3\\lib\\site-packages (from trio~=0.17->selenium) (3.4)\n",
      "Requirement already satisfied: outcome in c:\\users\\marg_\\anaconda3\\lib\\site-packages (from trio~=0.17->selenium) (1.3.0.post0)\n",
      "Requirement already satisfied: sniffio>=1.3.0 in c:\\users\\marg_\\anaconda3\\lib\\site-packages (from trio~=0.17->selenium) (1.3.0)\n",
      "Requirement already satisfied: cffi>=1.14 in c:\\users\\marg_\\anaconda3\\lib\\site-packages (from trio~=0.17->selenium) (1.16.0)\n",
      "Requirement already satisfied: wsproto>=0.14 in c:\\users\\marg_\\anaconda3\\lib\\site-packages (from trio-websocket~=0.9->selenium) (1.2.0)\n",
      "Requirement already satisfied: pysocks!=1.5.7,<2.0,>=1.5.6 in c:\\users\\marg_\\anaconda3\\lib\\site-packages (from urllib3[socks]<3,>=1.26->selenium) (1.7.1)\n",
      "Requirement already satisfied: pycparser in c:\\users\\marg_\\anaconda3\\lib\\site-packages (from cffi>=1.14->trio~=0.17->selenium) (2.21)\n",
      "Requirement already satisfied: h11<1,>=0.9.0 in c:\\users\\marg_\\anaconda3\\lib\\site-packages (from wsproto>=0.14->trio-websocket~=0.9->selenium) (0.14.0)\n",
      "Requirement already satisfied: webdriver-manager in c:\\users\\marg_\\anaconda3\\lib\\site-packages (4.0.1)\n",
      "Requirement already satisfied: requests in c:\\users\\marg_\\anaconda3\\lib\\site-packages (from webdriver-manager) (2.31.0)\n",
      "Requirement already satisfied: python-dotenv in c:\\users\\marg_\\anaconda3\\lib\\site-packages (from webdriver-manager) (0.21.0)\n",
      "Requirement already satisfied: packaging in c:\\users\\marg_\\anaconda3\\lib\\site-packages (from webdriver-manager) (23.1)\n",
      "Requirement already satisfied: charset-normalizer<4,>=2 in c:\\users\\marg_\\anaconda3\\lib\\site-packages (from requests->webdriver-manager) (2.0.4)\n",
      "Requirement already satisfied: idna<4,>=2.5 in c:\\users\\marg_\\anaconda3\\lib\\site-packages (from requests->webdriver-manager) (3.4)\n",
      "Requirement already satisfied: urllib3<3,>=1.21.1 in c:\\users\\marg_\\anaconda3\\lib\\site-packages (from requests->webdriver-manager) (2.0.7)\n",
      "Requirement already satisfied: certifi>=2017.4.17 in c:\\users\\marg_\\anaconda3\\lib\\site-packages (from requests->webdriver-manager) (2024.2.2)\n",
      "Requirement already satisfied: requests in c:\\users\\marg_\\anaconda3\\lib\\site-packages (2.31.0)\n",
      "Requirement already satisfied: charset-normalizer<4,>=2 in c:\\users\\marg_\\anaconda3\\lib\\site-packages (from requests) (2.0.4)\n",
      "Requirement already satisfied: idna<4,>=2.5 in c:\\users\\marg_\\anaconda3\\lib\\site-packages (from requests) (3.4)\n",
      "Requirement already satisfied: urllib3<3,>=1.21.1 in c:\\users\\marg_\\anaconda3\\lib\\site-packages (from requests) (2.0.7)\n",
      "Requirement already satisfied: certifi>=2017.4.17 in c:\\users\\marg_\\anaconda3\\lib\\site-packages (from requests) (2024.2.2)\n",
      "Requirement already satisfied: pandas in c:\\users\\marg_\\anaconda3\\lib\\site-packages (2.1.4)\n",
      "Requirement already satisfied: numpy<2,>=1.23.2 in c:\\users\\marg_\\anaconda3\\lib\\site-packages (from pandas) (1.26.4)\n",
      "Requirement already satisfied: python-dateutil>=2.8.2 in c:\\users\\marg_\\anaconda3\\lib\\site-packages (from pandas) (2.8.2)\n",
      "Requirement already satisfied: pytz>=2020.1 in c:\\users\\marg_\\anaconda3\\lib\\site-packages (from pandas) (2023.3.post1)\n",
      "Requirement already satisfied: tzdata>=2022.1 in c:\\users\\marg_\\anaconda3\\lib\\site-packages (from pandas) (2023.3)\n",
      "Requirement already satisfied: six>=1.5 in c:\\users\\marg_\\anaconda3\\lib\\site-packages (from python-dateutil>=2.8.2->pandas) (1.16.0)\n"
     ]
    }
   ],
   "source": [
    "!pip install selenium\n",
    "!pip install webdriver-manager\n",
    "\n",
    "!pip install requests\n",
    "!pip install pandas"
   ]
  },
  {
   "cell_type": "code",
   "execution_count": 1,
   "metadata": {},
   "outputs": [],
   "source": [
    "#  Importar librerías para tratamiento de datos\n",
    "# -----------------------------------------------------------------------\n",
    "import pandas as pd  # Pandas es una poderosa librería para manipulación y análisis de datos en Python.\n",
    "\n",
    "# Importar librerías para web scraping y manipulación de datos\n",
    "# -----------------------------------------------------------------------\n",
    "from bs4 import BeautifulSoup\n",
    "import requests\n",
    "\n",
    "# Importar librerías para automatización de navegadores web con Selenium\n",
    "# -----------------------------------------------------------------------\n",
    "from selenium import webdriver  # Selenium es una herramienta para automatizar la interacción con navegadores web.\n",
    "from webdriver_manager.chrome import ChromeDriverManager  # ChromeDriverManager gestiona la instalación del controlador de Chrome.\n",
    "from selenium.webdriver.common.keys import Keys  # Keys es útil para simular eventos de teclado en Selenium.\n",
    "from selenium.webdriver.support.ui import Select  # Select se utiliza para interactuar con elementos <select> en páginas web.\n",
    "\n",
    "# Importar librerías para pausar la ejecución\n",
    "# -----------------------------------------------------------------------\n",
    "from time import sleep  # Sleep se utiliza para pausar la ejecución del programa por un número de segundos.\n",
    "from tqdm import tqdm\n",
    "import re\n",
    "# Configuraciones\n",
    "# -----------------------------------------------------------------------\n",
    "pd.set_option('display.max_columns', None)  # Establece una opción de Pandas para mostrar todas las columnas de un DataFrame."
   ]
  },
  {
   "cell_type": "code",
   "execution_count": 12,
   "metadata": {},
   "outputs": [
    {
     "ename": "NoSuchWindowException",
     "evalue": "Message: no such window: target window already closed\nfrom unknown error: web view not found\n  (Session info: chrome=124.0.6367.119)\nStacktrace:\n\tGetHandleVerifier [0x00007FF73AF91502+60802]\n\t(No symbol) [0x00007FF73AF0AC02]\n\t(No symbol) [0x00007FF73ADC7CE4]\n\t(No symbol) [0x00007FF73AD9DFDF]\n\t(No symbol) [0x00007FF73AE41E57]\n\t(No symbol) [0x00007FF73AE598D1]\n\t(No symbol) [0x00007FF73AE3A923]\n\t(No symbol) [0x00007FF73AE08FEC]\n\t(No symbol) [0x00007FF73AE09C21]\n\tGetHandleVerifier [0x00007FF73B29411D+3217821]\n\tGetHandleVerifier [0x00007FF73B2D60B7+3488055]\n\tGetHandleVerifier [0x00007FF73B2CF03F+3459263]\n\tGetHandleVerifier [0x00007FF73B04B846+823494]\n\t(No symbol) [0x00007FF73AF15F9F]\n\t(No symbol) [0x00007FF73AF10EC4]\n\t(No symbol) [0x00007FF73AF11052]\n\t(No symbol) [0x00007FF73AF018A4]\n\tBaseThreadInitThunk [0x00007FFFE92F257D+29]\n\tRtlUserThreadStart [0x00007FFFEB5AAA48+40]\n",
     "output_type": "error",
     "traceback": [
      "\u001b[1;31m---------------------------------------------------------------------------\u001b[0m",
      "\u001b[1;31mNoSuchWindowException\u001b[0m                     Traceback (most recent call last)",
      "Cell \u001b[1;32mIn[12], line 25\u001b[0m\n\u001b[0;32m     22\u001b[0m sleep(\u001b[38;5;241m5\u001b[39m)\n\u001b[0;32m     24\u001b[0m \u001b[38;5;66;03m#seleccionamos desplegable, para acceder a biografia y premios:\u001b[39;00m\n\u001b[1;32m---> 25\u001b[0m driver\u001b[38;5;241m.\u001b[39mfind_element(\u001b[38;5;124m\"\u001b[39m\u001b[38;5;124mxpath\u001b[39m\u001b[38;5;124m\"\u001b[39m, \u001b[38;5;124m'\u001b[39m\u001b[38;5;124m//*[@id=\u001b[39m\u001b[38;5;124m\"\u001b[39m\u001b[38;5;124m__next\u001b[39m\u001b[38;5;124m\"\u001b[39m\u001b[38;5;124m]/main/div/section[1]/section/div[3]/section/section/div[1]/div/div[2]/button/span\u001b[39m\u001b[38;5;124m'\u001b[39m)\u001b[38;5;241m.\u001b[39mclick()\u001b[38;5;66;03m#acceso a la biografia\u001b[39;00m\n\u001b[0;32m     26\u001b[0m sleep(\u001b[38;5;241m5\u001b[39m)\n\u001b[0;32m     29\u001b[0m \u001b[38;5;66;03m#acceso a la biografia\u001b[39;00m\n",
      "File \u001b[1;32mc:\\Users\\marg_\\anaconda3\\Lib\\site-packages\\selenium\\webdriver\\remote\\webdriver.py:741\u001b[0m, in \u001b[0;36mWebDriver.find_element\u001b[1;34m(self, by, value)\u001b[0m\n\u001b[0;32m    738\u001b[0m     by \u001b[38;5;241m=\u001b[39m By\u001b[38;5;241m.\u001b[39mCSS_SELECTOR\n\u001b[0;32m    739\u001b[0m     value \u001b[38;5;241m=\u001b[39m \u001b[38;5;124mf\u001b[39m\u001b[38;5;124m'\u001b[39m\u001b[38;5;124m[name=\u001b[39m\u001b[38;5;124m\"\u001b[39m\u001b[38;5;132;01m{\u001b[39;00mvalue\u001b[38;5;132;01m}\u001b[39;00m\u001b[38;5;124m\"\u001b[39m\u001b[38;5;124m]\u001b[39m\u001b[38;5;124m'\u001b[39m\n\u001b[1;32m--> 741\u001b[0m \u001b[38;5;28;01mreturn\u001b[39;00m \u001b[38;5;28mself\u001b[39m\u001b[38;5;241m.\u001b[39mexecute(Command\u001b[38;5;241m.\u001b[39mFIND_ELEMENT, {\u001b[38;5;124m\"\u001b[39m\u001b[38;5;124musing\u001b[39m\u001b[38;5;124m\"\u001b[39m: by, \u001b[38;5;124m\"\u001b[39m\u001b[38;5;124mvalue\u001b[39m\u001b[38;5;124m\"\u001b[39m: value})[\u001b[38;5;124m\"\u001b[39m\u001b[38;5;124mvalue\u001b[39m\u001b[38;5;124m\"\u001b[39m]\n",
      "File \u001b[1;32mc:\\Users\\marg_\\anaconda3\\Lib\\site-packages\\selenium\\webdriver\\remote\\webdriver.py:347\u001b[0m, in \u001b[0;36mWebDriver.execute\u001b[1;34m(self, driver_command, params)\u001b[0m\n\u001b[0;32m    345\u001b[0m response \u001b[38;5;241m=\u001b[39m \u001b[38;5;28mself\u001b[39m\u001b[38;5;241m.\u001b[39mcommand_executor\u001b[38;5;241m.\u001b[39mexecute(driver_command, params)\n\u001b[0;32m    346\u001b[0m \u001b[38;5;28;01mif\u001b[39;00m response:\n\u001b[1;32m--> 347\u001b[0m     \u001b[38;5;28mself\u001b[39m\u001b[38;5;241m.\u001b[39merror_handler\u001b[38;5;241m.\u001b[39mcheck_response(response)\n\u001b[0;32m    348\u001b[0m     response[\u001b[38;5;124m\"\u001b[39m\u001b[38;5;124mvalue\u001b[39m\u001b[38;5;124m\"\u001b[39m] \u001b[38;5;241m=\u001b[39m \u001b[38;5;28mself\u001b[39m\u001b[38;5;241m.\u001b[39m_unwrap_value(response\u001b[38;5;241m.\u001b[39mget(\u001b[38;5;124m\"\u001b[39m\u001b[38;5;124mvalue\u001b[39m\u001b[38;5;124m\"\u001b[39m, \u001b[38;5;28;01mNone\u001b[39;00m))\n\u001b[0;32m    349\u001b[0m     \u001b[38;5;28;01mreturn\u001b[39;00m response\n",
      "File \u001b[1;32mc:\\Users\\marg_\\anaconda3\\Lib\\site-packages\\selenium\\webdriver\\remote\\errorhandler.py:229\u001b[0m, in \u001b[0;36mErrorHandler.check_response\u001b[1;34m(self, response)\u001b[0m\n\u001b[0;32m    227\u001b[0m         alert_text \u001b[38;5;241m=\u001b[39m value[\u001b[38;5;124m\"\u001b[39m\u001b[38;5;124malert\u001b[39m\u001b[38;5;124m\"\u001b[39m]\u001b[38;5;241m.\u001b[39mget(\u001b[38;5;124m\"\u001b[39m\u001b[38;5;124mtext\u001b[39m\u001b[38;5;124m\"\u001b[39m)\n\u001b[0;32m    228\u001b[0m     \u001b[38;5;28;01mraise\u001b[39;00m exception_class(message, screen, stacktrace, alert_text)  \u001b[38;5;66;03m# type: ignore[call-arg]  # mypy is not smart enough here\u001b[39;00m\n\u001b[1;32m--> 229\u001b[0m \u001b[38;5;28;01mraise\u001b[39;00m exception_class(message, screen, stacktrace)\n",
      "\u001b[1;31mNoSuchWindowException\u001b[0m: Message: no such window: target window already closed\nfrom unknown error: web view not found\n  (Session info: chrome=124.0.6367.119)\nStacktrace:\n\tGetHandleVerifier [0x00007FF73AF91502+60802]\n\t(No symbol) [0x00007FF73AF0AC02]\n\t(No symbol) [0x00007FF73ADC7CE4]\n\t(No symbol) [0x00007FF73AD9DFDF]\n\t(No symbol) [0x00007FF73AE41E57]\n\t(No symbol) [0x00007FF73AE598D1]\n\t(No symbol) [0x00007FF73AE3A923]\n\t(No symbol) [0x00007FF73AE08FEC]\n\t(No symbol) [0x00007FF73AE09C21]\n\tGetHandleVerifier [0x00007FF73B29411D+3217821]\n\tGetHandleVerifier [0x00007FF73B2D60B7+3488055]\n\tGetHandleVerifier [0x00007FF73B2CF03F+3459263]\n\tGetHandleVerifier [0x00007FF73B04B846+823494]\n\t(No symbol) [0x00007FF73AF15F9F]\n\t(No symbol) [0x00007FF73AF10EC4]\n\t(No symbol) [0x00007FF73AF11052]\n\t(No symbol) [0x00007FF73AF018A4]\n\tBaseThreadInitThunk [0x00007FFFE92F257D+29]\n\tRtlUserThreadStart [0x00007FFFEB5AAA48+40]\n"
     ]
    }
   ],
   "source": [
    "driver = webdriver.Chrome() #abrir el navegador\n",
    "\n",
    "driver.get(\"https://www.imdb.com/\") # abrir pagina web\n",
    "\n",
    "driver.maximize_window() #maximizar ventana navegador\n",
    "\n",
    "driver.find_element(\"css selector\", \"#__next > div > div > div.sc-jrcTuL.bPmWiM > div > button.icb-btn.sc-bcXHqe.sc-dkrFOg.sc-iBYQkv.dcvrLS.ddtuHe.dRCGjd\").click() # acepto las coockies\n",
    "\n",
    "sleep(2)\n",
    "id = ['tt11097384'] #id mom's coming--- ESTE ID ABRE UNA L¿PELI LLAMADA 'EL ASTRONAUTA'\n",
    "busqueda = driver.find_element(\"css selector\",\"#suggestion-search\").send_keys(id , Keys.ENTER)\n",
    "sleep(3)\n",
    "driver.execute_script(\"window.scrollTo(0,2000)\")\n",
    "sleep(3)\n",
    "#BUSCANDO XPATH PARA ACCESO A LISTA DE REPARTO. ACCEDEMOS A 'REPARTO PRINCIPAL >'\n",
    "#driver.find_element(\"xpath\", '//*[@id=\"__next\"]/main/div/section[1]/div/section/div/div[1]/section[3]/div[1]/div/a/h3').click()\n",
    "#sleep(5)    EL XPATH CAMBIA PARA CADA PELICULA EL CSS NO\n",
    "driver.find_element(\"css selector\", '#__next > main > div > section.ipc-page-background.ipc-page-background--base.sc-304f99f6-0.fSJiHR > div > section > div > div.sc-978e9339-1.ihWZgK.ipc-page-grid__item.ipc-page-grid__item--span-2 > section.ipc-page-section.ipc-page-section--base.sc-bfec09a1-0.jgUBLM.title-cast.title-cast--movie.celwidget > div.ipc-title.ipc-title--base.ipc-title--section-title.ipc-title--on-textPrimary > div > a > h3').click()\n",
    "sleep(5)\n",
    "#accedemos a la informacion del actor/actriz:\n",
    "driver.find_element(\"xpath\", f'//*[@id=\"fullcredits_content\"]/table[3]/tbody/tr[{i}]/td[2]/a').click()\n",
    "sleep(5)\n",
    "\n",
    "#seleccionamos desplegable, para acceder a biografia y premios:\n",
    "driver.find_element(\"xpath\", '//*[@id=\"__next\"]/main/div/section[1]/section/div[3]/section/section/div[1]/div/div[2]/button/span').click()#acceso a la biografia\n",
    "sleep(5)\n",
    "\n",
    "\n",
    "#acceso a la biografia\n",
    "driver.find_element(\"xpath\", '/html/body/div[4]/div[2]/div/div[2]/div/div[2]/div/div[1]/ul/li[2]/a').click()\n",
    "sleep(5)\n",
    "\n",
    "\n",
    "nombre = []  # obtenemos el nombre del actor\n",
    "nombre.append(driver.find_element(\"xpath\",'//*[@id=\"__next\"]/main/div/section/section/div[3]/section/section/div[2]/hgroup/h2').text)\n",
    "print (nombre)\n",
    "\n",
    "año=[]\n",
    "año_sin_limp=driver.find_element(\"xpath\",'//*[@id=\"born\"]/div/div/div/a[1]').text\n",
    "año.append((re.findall('\\d{4}', año_sin_limp))[0]) #sacamos del texto cadena de texto con 4 digitos seguidos, con regex.\n",
    "print(año)\n",
    "sleep(3)\n",
    "\n",
    "print('=============================================================')\n",
    "\n",
    "#obtenemos el texto para filtrar informacion 'CONOCIDO POR' Y 'A QUE SE DEDICA':\n",
    "driver.execute_script(\"window.scrollTo(0,1000)\") #hacemos scroll para acceder al texto que necesitamos:\n",
    "sleep(6)\n",
    "#Obtenemos el texto:\n",
    "conocido_por = driver.find_element(\"xpath\",'//*[@id=\"mini_bio_0\"]/div/ul/div/div').text \n",
    "\n",
    "print('--------------------------------------------------------')\n",
    "#limpiamos el texto:\n",
    "patron_a='\\.'\n",
    "lista_strings_texto=re.split(patron_a,conocido_por) #dividimos el texto por '.', para trabajarlo por listas\n",
    "lista_strings_texto\n",
    "\n",
    "que_hace_lista=[]\n",
    "que_hace=re.split(', conocido por |, conocida por ', lista_strings_texto[1]) # seleccionamos el texto que empiece por 'conocido por'\n",
    "que_hace_limpio=re.sub(' Es un | Es una', '', que_hace[0]) # seleccionamos el texto que empiece por un/una ya que este codigo se aplica a varios actores y actrices\n",
    "que_hace_lista.append(que_hace_limpio)\n",
    "\n",
    "print(que_hace_lista)\n",
    "\n",
    "conocido_por_lista=[]\n",
    "conocido_por=que_hace[1]#quitamos los espacios al principio y final.\n",
    "conocido_por_lista.append(conocido_por)\n",
    "\n",
    "print(conocido_por_lista)\n",
    "\n",
    "print('============================================================')\n",
    "\n",
    "driver.back()\n",
    "\n",
    "#volvemos a pagina anterior, de nuevo vamos al desplegable\n",
    "#acceso a los premios\n",
    "driver.find_element(\"xpath\", '//*[@id=\"__next\"]/main/div/section[1]/section/div[3]/section/section/div[1]/div/div[2]/button/span').click()#acceso a la biografiasleep(5)\n",
    "sleep(3)\n",
    "driver.find_element(\"xpath\", '/html/body/div[4]/div[2]/div/div[2]/div/div[2]/div/div[1]/ul/li[4]/a').click()#acceso a la biografia\n",
    "sleep(5)\n",
    "\n",
    "\n",
    "#creamos ciclo for para sacar las los premios:\n",
    "premios=[]\n",
    "for i in range(1,6): #solo queremos 5 pelis\n",
    "    premio_sin_limpiar=driver.find_element(\"xpath\",f'//*[@id=\"__next\"]/main/div/section/div/section/div/div[1]/section[{i}]').text\n",
    "    premio_limpio= re.sub('\\n',' ', premio_sin_limpiar)\n",
    "    premios.append(premio_limpio)\n",
    "print(premios)\n",
    "\n",
    "sleep(6)\n",
    "driver.back()\n",
    "sleep(3)\n",
    "driver.back()\n"
   ]
  },
  {
   "cell_type": "code",
   "execution_count": null,
   "metadata": {},
   "outputs": [],
   "source": [
    "#__next > main > div > section.ipc-page-background.ipc-page-background--base.sc-304f99f6-0.fSJiHR > div > section > div > div.sc-978e9339-1.ihWZgK.ipc-page-grid__item.ipc-page-grid__item--span-2 > section.ipc-page-section.ipc-page-section--base.sc-bfec09a1-0.jgUBLM.title-cast.title-cast--movie.celwidget > div.ipc-title.ipc-title--base.ipc-title--section-title.ipc-title--on-textPrimary > div > a > h3\n",
    "#__next > main > div > section.ipc-page-background.ipc-page-background--base.sc-304f99f6-0.fSJiHR > div > section > div > div.sc-978e9339-1.ihWZgK.ipc-page-grid__item.ipc-page-grid__item--span-2 > section.ipc-page-section.ipc-page-section--base.sc-bfec09a1-0.jgUBLM.title-cast.title-cast--movie.celwidget > div.ipc-title.ipc-title--base.ipc-title--section-title.ipc-title--on-textPrimary > div > a > h3\n",
    "\n",
    "//*[@id=\"__next\"]/main/div/section[1]/div/section/div/div[1]/section[4]/div[1]/div/a/h3\n",
    "//*[@id=\"__next\"]/main/div/section[1]/div/section/div/div[1]/section[3]/div[1]/div/a/h3\n",
    "//*[@id=\"__next\"]/main/div/section[1]/div/section/div/div[1]/section[2]/div[1]/div/a/h3"
   ]
  },
  {
   "cell_type": "markdown",
   "metadata": {},
   "source": [
    "SE INTENTA SACAR URL DE CADA ACTOR PARA EXTRER INFORMACION POR BEAUTIFUL SOUP. ERRO 403. PERMISO DENEGADO"
   ]
  },
  {
   "cell_type": "code",
   "execution_count": null,
   "metadata": {},
   "outputs": [],
   "source": [
    "#comprobamos la xpath para sacar la url de cada actor y poder extaer informacion de la url.\n",
    "#'//*[@id=\"fullcredits_content\"]/table[3]/tbody/tr[2]/td[2]/a'\n",
    "#'//*[@id=\"fullcredits_content\"]/table[3]/tbody/tr[3]/td[2]/a'\n",
    "lista_url=[]\n",
    "\n",
    "lista_url.append(driver.find_element(\"xpath\", '//*[@id=\"fullcredits_content\"]/table[3]/tbody/tr[2]/td[2]/a').get_attribute(\"href\"))\n",
    "lista_url.append(driver.find_element(\"xpath\", '//*[@id=\"fullcredits_content\"]/table[3]/tbody/tr[3]/td[2]/a').get_attribute(\"href\"))\n",
    "\n",
    "print(lista_url)"
   ]
  },
  {
   "cell_type": "code",
   "execution_count": null,
   "metadata": {},
   "outputs": [
    {
     "name": "stdout",
     "output_type": "stream",
     "text": [
      "403\n"
     ]
    }
   ],
   "source": [
    "url='https://www.imdb.com/name/nm0001191/?ref_=ttfc_fc_cl_t1'\n",
    "respuesta_url_actor = requests.get(url)\n",
    "print(respuesta_url_actor.status_code)\n"
   ]
  },
  {
   "cell_type": "code",
   "execution_count": null,
   "metadata": {},
   "outputs": [],
   "source": [
    "#no nos da permiso para acceder."
   ]
  },
  {
   "cell_type": "code",
   "execution_count": null,
   "metadata": {},
   "outputs": [],
   "source": [
    "sopa_actores = BeautifulSoup(respuesta_url_actor.content, \"html.parser\")\n",
    "print(sopa_actores.prettify())"
   ]
  },
  {
   "cell_type": "code",
   "execution_count": null,
   "metadata": {},
   "outputs": [],
   "source": [
    "lista_url=[]\n",
    "# Iterar desde 1 hasta 10 (inclusive)\n",
    "for i in range(1, 11 ):\n",
    "    # En cada iteración, obtener la URL del producto y agregarla a la lista\n",
    "    lista_url.append(driver.find_element(\"xpath\", f'//*[@id=\"fullcredits_content\"]/table[3]/tbody/tr[{i}]/td[2]/a').get_attribute(\"href\"))\n",
    "\n",
    "nombre = [] \n",
    "nombre.append(driver.find_element( 'css selector', \"#__next > main > div > section.ipc-page-background.ipc-page-background--base.sc-304f99f6-0.fSJiHR > section > div:nth-child(5) > section > section > div.sc-92625f35-3.frxYSZ > div > h1 > span.hero__primary-text\").text) #aqui saque el nombre\n",
    "\n",
    "print (nombre)"
   ]
  },
  {
   "cell_type": "code",
   "execution_count": null,
   "metadata": {},
   "outputs": [],
   "source": []
  },
  {
   "cell_type": "code",
   "execution_count": null,
   "metadata": {},
   "outputs": [],
   "source": [
    "'//*[@id=\"__next\"]/main/div/section[1]/div/section/div/div[1]/div[4]/section[1]/div[2]/div/div[2]/div[1]/div[2]/div[1]/a'\n",
    "'//*[@id=\"__next\"]/main/div/section[1]/div/section/div/div[1]/div[3]/section[1]/div[2]/div/div[2]/div[2]/div[2]/div[1]/a'\n",
    "'//*[@id=\"__next\"]/main/div/section[1]/div/section/div/div[1]/div[3]/section[1]/div[2]/div/div[2]/div[3]/div[2]/div[1]/a'\n",
    "f'//*[@id=\"__next\"]/main/div/section[1]/div/section/div/div[1]/div[3]/section[1]/div[2]/div/div[2]/div[{i}]/div[2]/div[1]/a'"
   ]
  },
  {
   "cell_type": "code",
   "execution_count": null,
   "metadata": {},
   "outputs": [],
   "source": []
  },
  {
   "cell_type": "code",
   "execution_count": null,
   "metadata": {},
   "outputs": [],
   "source": []
  },
  {
   "cell_type": "code",
   "execution_count": null,
   "metadata": {},
   "outputs": [],
   "source": [
    "#creamos tuplas:\n",
    "tupla_actor=('nombre', 'año', 'por que es conocido','qué hace', 'premios')\n",
    "\n"
   ]
  },
  {
   "cell_type": "code",
   "execution_count": null,
   "metadata": {},
   "outputs": [
    {
     "ename": "NameError",
     "evalue": "name 'i' is not defined",
     "output_type": "error",
     "traceback": [
      "\u001b[1;31m---------------------------------------------------------------------------\u001b[0m",
      "\u001b[1;31mNameError\u001b[0m                                 Traceback (most recent call last)",
      "Cell \u001b[1;32mIn[5], line 3\u001b[0m\n\u001b[0;32m      1\u001b[0m \u001b[38;5;66;03m#xPATH DE los actores. \u001b[39;00m\n\u001b[0;32m      2\u001b[0m \u001b[38;5;124m'\u001b[39m\u001b[38;5;124m//*[@id=\u001b[39m\u001b[38;5;124m\"\u001b[39m\u001b[38;5;124mfullcredits_content\u001b[39m\u001b[38;5;124m\"\u001b[39m\u001b[38;5;124m]/table[3]/tbody/tr[2]/td[2]/a\u001b[39m\u001b[38;5;124m'\u001b[39m\n\u001b[1;32m----> 3\u001b[0m \u001b[38;5;124mf\u001b[39m\u001b[38;5;124m'\u001b[39m\u001b[38;5;124m//*[@id=\u001b[39m\u001b[38;5;124m\"\u001b[39m\u001b[38;5;124mfullcredits_content\u001b[39m\u001b[38;5;124m\"\u001b[39m\u001b[38;5;124m]/table[3]/tbody/tr[\u001b[39m\u001b[38;5;132;01m{\u001b[39;00mi\u001b[38;5;132;01m}\u001b[39;00m\u001b[38;5;124m]/td[2]/a\u001b[39m\u001b[38;5;124m'\u001b[39m\n",
      "\u001b[1;31mNameError\u001b[0m: name 'i' is not defined"
     ]
    }
   ],
   "source": [
    "#xPATH DE los actores. \n",
    "'//*[@id=\"fullcredits_content\"]/table[3]/tbody/tr[2]/td[2]/a'\n",
    "f'//*[@id=\"fullcredits_content\"]/table[3]/tbody/tr[{i}]/td[2]/a'\n",
    "#recordar añadir un driver.back() ya que en el ciclo for debe volver atras.\n",
    "#posibilidad de que acceda a las 10 url al mismo tiempo?"
   ]
  },
  {
   "cell_type": "code",
   "execution_count": null,
   "metadata": {},
   "outputs": [
    {
     "ename": "NoSuchElementException",
     "evalue": "Message: no such element: Unable to locate element: {\"method\":\"xpath\",\"selector\":\"/html/body/div[1]/div/div[2]/div[1]/div[1]/div[1]/div[2]/table[3]/tbody/tr[2]/td[2]/a\"}\n  (Session info: chrome=124.0.6367.119); For documentation on this error, please visit: https://www.selenium.dev/documentation/webdriver/troubleshooting/errors#no-such-element-exception\nStacktrace:\n\tGetHandleVerifier [0x00007FF700C31502+60802]\n\t(No symbol) [0x00007FF700BAAC02]\n\t(No symbol) [0x00007FF700A67CE4]\n\t(No symbol) [0x00007FF700AB6D4D]\n\t(No symbol) [0x00007FF700AB6E1C]\n\t(No symbol) [0x00007FF700AFCE37]\n\t(No symbol) [0x00007FF700ADABBF]\n\t(No symbol) [0x00007FF700AFA224]\n\t(No symbol) [0x00007FF700ADA923]\n\t(No symbol) [0x00007FF700AA8FEC]\n\t(No symbol) [0x00007FF700AA9C21]\n\tGetHandleVerifier [0x00007FF700F3411D+3217821]\n\tGetHandleVerifier [0x00007FF700F760B7+3488055]\n\tGetHandleVerifier [0x00007FF700F6F03F+3459263]\n\tGetHandleVerifier [0x00007FF700CEB846+823494]\n\t(No symbol) [0x00007FF700BB5F9F]\n\t(No symbol) [0x00007FF700BB0EC4]\n\t(No symbol) [0x00007FF700BB1052]\n\t(No symbol) [0x00007FF700BA18A4]\n\tBaseThreadInitThunk [0x00007FFFE92F257D+29]\n\tRtlUserThreadStart [0x00007FFFEB5AAA48+40]\n",
     "output_type": "error",
     "traceback": [
      "\u001b[1;31m---------------------------------------------------------------------------\u001b[0m",
      "\u001b[1;31mNoSuchElementException\u001b[0m                    Traceback (most recent call last)",
      "Cell \u001b[1;32mIn[6], line 7\u001b[0m\n\u001b[0;32m      1\u001b[0m \u001b[38;5;28mid\u001b[39m \u001b[38;5;241m=\u001b[39m [\u001b[38;5;124m'\u001b[39m\u001b[38;5;124mtt11097384\u001b[39m\u001b[38;5;124m'\u001b[39m] \u001b[38;5;66;03m#id mom's coming \u001b[39;00m\n\u001b[0;32m      5\u001b[0m nombre \u001b[38;5;241m=\u001b[39m [] \n\u001b[1;32m----> 7\u001b[0m nombre\u001b[38;5;241m.\u001b[39mappend(driver\u001b[38;5;241m.\u001b[39mfind_element( \u001b[38;5;124m'\u001b[39m\u001b[38;5;124mxpath\u001b[39m\u001b[38;5;124m'\u001b[39m, \u001b[38;5;124m\"\u001b[39m\u001b[38;5;124m/html/body/div[1]/div/div[2]/div[1]/div[1]/div[1]/div[2]/table[3]/tbody/tr[2]/td[2]/a\u001b[39m\u001b[38;5;124m\"\u001b[39m)\u001b[38;5;241m.\u001b[39mtext) \u001b[38;5;66;03m#aqui saque el nombre\u001b[39;00m\n\u001b[0;32m      9\u001b[0m sleep(\u001b[38;5;241m3\u001b[39m)\n\u001b[0;32m     11\u001b[0m driver\u001b[38;5;241m.\u001b[39mfind_element( \u001b[38;5;124m'\u001b[39m\u001b[38;5;124mxpath\u001b[39m\u001b[38;5;124m'\u001b[39m,\u001b[38;5;124m'\u001b[39m\u001b[38;5;124m/html/body/div[1]/div/div[2]/div[1]/div[1]/div[1]/div[2]/table[3]/tbody/tr[2]/td[2]/a\u001b[39m\u001b[38;5;124m'\u001b[39m)\n",
      "File \u001b[1;32mc:\\Users\\marg_\\anaconda3\\Lib\\site-packages\\selenium\\webdriver\\remote\\webdriver.py:741\u001b[0m, in \u001b[0;36mWebDriver.find_element\u001b[1;34m(self, by, value)\u001b[0m\n\u001b[0;32m    738\u001b[0m     by \u001b[38;5;241m=\u001b[39m By\u001b[38;5;241m.\u001b[39mCSS_SELECTOR\n\u001b[0;32m    739\u001b[0m     value \u001b[38;5;241m=\u001b[39m \u001b[38;5;124mf\u001b[39m\u001b[38;5;124m'\u001b[39m\u001b[38;5;124m[name=\u001b[39m\u001b[38;5;124m\"\u001b[39m\u001b[38;5;132;01m{\u001b[39;00mvalue\u001b[38;5;132;01m}\u001b[39;00m\u001b[38;5;124m\"\u001b[39m\u001b[38;5;124m]\u001b[39m\u001b[38;5;124m'\u001b[39m\n\u001b[1;32m--> 741\u001b[0m \u001b[38;5;28;01mreturn\u001b[39;00m \u001b[38;5;28mself\u001b[39m\u001b[38;5;241m.\u001b[39mexecute(Command\u001b[38;5;241m.\u001b[39mFIND_ELEMENT, {\u001b[38;5;124m\"\u001b[39m\u001b[38;5;124musing\u001b[39m\u001b[38;5;124m\"\u001b[39m: by, \u001b[38;5;124m\"\u001b[39m\u001b[38;5;124mvalue\u001b[39m\u001b[38;5;124m\"\u001b[39m: value})[\u001b[38;5;124m\"\u001b[39m\u001b[38;5;124mvalue\u001b[39m\u001b[38;5;124m\"\u001b[39m]\n",
      "File \u001b[1;32mc:\\Users\\marg_\\anaconda3\\Lib\\site-packages\\selenium\\webdriver\\remote\\webdriver.py:347\u001b[0m, in \u001b[0;36mWebDriver.execute\u001b[1;34m(self, driver_command, params)\u001b[0m\n\u001b[0;32m    345\u001b[0m response \u001b[38;5;241m=\u001b[39m \u001b[38;5;28mself\u001b[39m\u001b[38;5;241m.\u001b[39mcommand_executor\u001b[38;5;241m.\u001b[39mexecute(driver_command, params)\n\u001b[0;32m    346\u001b[0m \u001b[38;5;28;01mif\u001b[39;00m response:\n\u001b[1;32m--> 347\u001b[0m     \u001b[38;5;28mself\u001b[39m\u001b[38;5;241m.\u001b[39merror_handler\u001b[38;5;241m.\u001b[39mcheck_response(response)\n\u001b[0;32m    348\u001b[0m     response[\u001b[38;5;124m\"\u001b[39m\u001b[38;5;124mvalue\u001b[39m\u001b[38;5;124m\"\u001b[39m] \u001b[38;5;241m=\u001b[39m \u001b[38;5;28mself\u001b[39m\u001b[38;5;241m.\u001b[39m_unwrap_value(response\u001b[38;5;241m.\u001b[39mget(\u001b[38;5;124m\"\u001b[39m\u001b[38;5;124mvalue\u001b[39m\u001b[38;5;124m\"\u001b[39m, \u001b[38;5;28;01mNone\u001b[39;00m))\n\u001b[0;32m    349\u001b[0m     \u001b[38;5;28;01mreturn\u001b[39;00m response\n",
      "File \u001b[1;32mc:\\Users\\marg_\\anaconda3\\Lib\\site-packages\\selenium\\webdriver\\remote\\errorhandler.py:229\u001b[0m, in \u001b[0;36mErrorHandler.check_response\u001b[1;34m(self, response)\u001b[0m\n\u001b[0;32m    227\u001b[0m         alert_text \u001b[38;5;241m=\u001b[39m value[\u001b[38;5;124m\"\u001b[39m\u001b[38;5;124malert\u001b[39m\u001b[38;5;124m\"\u001b[39m]\u001b[38;5;241m.\u001b[39mget(\u001b[38;5;124m\"\u001b[39m\u001b[38;5;124mtext\u001b[39m\u001b[38;5;124m\"\u001b[39m)\n\u001b[0;32m    228\u001b[0m     \u001b[38;5;28;01mraise\u001b[39;00m exception_class(message, screen, stacktrace, alert_text)  \u001b[38;5;66;03m# type: ignore[call-arg]  # mypy is not smart enough here\u001b[39;00m\n\u001b[1;32m--> 229\u001b[0m \u001b[38;5;28;01mraise\u001b[39;00m exception_class(message, screen, stacktrace)\n",
      "\u001b[1;31mNoSuchElementException\u001b[0m: Message: no such element: Unable to locate element: {\"method\":\"xpath\",\"selector\":\"/html/body/div[1]/div/div[2]/div[1]/div[1]/div[1]/div[2]/table[3]/tbody/tr[2]/td[2]/a\"}\n  (Session info: chrome=124.0.6367.119); For documentation on this error, please visit: https://www.selenium.dev/documentation/webdriver/troubleshooting/errors#no-such-element-exception\nStacktrace:\n\tGetHandleVerifier [0x00007FF700C31502+60802]\n\t(No symbol) [0x00007FF700BAAC02]\n\t(No symbol) [0x00007FF700A67CE4]\n\t(No symbol) [0x00007FF700AB6D4D]\n\t(No symbol) [0x00007FF700AB6E1C]\n\t(No symbol) [0x00007FF700AFCE37]\n\t(No symbol) [0x00007FF700ADABBF]\n\t(No symbol) [0x00007FF700AFA224]\n\t(No symbol) [0x00007FF700ADA923]\n\t(No symbol) [0x00007FF700AA8FEC]\n\t(No symbol) [0x00007FF700AA9C21]\n\tGetHandleVerifier [0x00007FF700F3411D+3217821]\n\tGetHandleVerifier [0x00007FF700F760B7+3488055]\n\tGetHandleVerifier [0x00007FF700F6F03F+3459263]\n\tGetHandleVerifier [0x00007FF700CEB846+823494]\n\t(No symbol) [0x00007FF700BB5F9F]\n\t(No symbol) [0x00007FF700BB0EC4]\n\t(No symbol) [0x00007FF700BB1052]\n\t(No symbol) [0x00007FF700BA18A4]\n\tBaseThreadInitThunk [0x00007FFFE92F257D+29]\n\tRtlUserThreadStart [0x00007FFFEB5AAA48+40]\n"
     ]
    }
   ],
   "source": [
    "id = ['tt11097384'] #id mom's coming \n",
    "\n",
    "\n",
    "\n",
    "nombre = [] \n",
    "\n",
    "nombre.append(driver.find_element( 'xpath', \"/html/body/div[1]/div/div[2]/div[1]/div[1]/div[1]/div[2]/table[3]/tbody/tr[2]/td[2]/a\").text) #aqui saque el nombre\n",
    "\n",
    "sleep(3)\n",
    "\n",
    "driver.find_element( 'xpath','/html/body/div[1]/div/div[2]/div[1]/div[1]/div[1]/div[2]/table[3]/tbody/tr[2]/td[2]/a') # intentando sacar el link\n",
    "\n",
    "# link = driver.find_element( 'xpath', '//*[@id=\"fullcredits_content\"]/table[3]/tbody/tr[2]/td[2]').get_attribute('href') "
   ]
  },
  {
   "cell_type": "code",
   "execution_count": null,
   "metadata": {},
   "outputs": [],
   "source": [
    "nombre\n"
   ]
  },
  {
   "cell_type": "markdown",
   "metadata": {},
   "source": [
    "## sacando etiquetas "
   ]
  },
  {
   "cell_type": "code",
   "execution_count": null,
   "metadata": {},
   "outputs": [],
   "source": [
    "# links_por_actor xpath peli love song and power\n",
    "#/html/body/div[1]/div/div[2]/div[1]/div[1]/div[1]/div[2]/table[3]/tbody/tr[2]/td[2]/a\n",
    "#/html/body/div[1]/div/div[2]/div[1]/div[1]/div[1]/div[2]/table[3]/tbody/tr[3]/td[2]/a\n",
    "\n",
    "\n",
    "#-------------------------------------------------------------------------------------------#\n",
    "\n",
    "# otra peli xpath  spaceman\n",
    "#/html/body/div[1]/div/div[2]/div[1]/div[1]/div[1]/div[2]/table[3]/tbody/tr[2]/td[2]/a\n",
    "#/html/body/div[1]/div/div[2]/div[1]/div[1]/div[1]/div[2]/table[3]/tbody/tr[3]/td[2]/a"
   ]
  },
  {
   "cell_type": "markdown",
   "metadata": {},
   "source": [
    "solo año de nacimiennto"
   ]
  },
  {
   "cell_type": "code",
   "execution_count": null,
   "metadata": {},
   "outputs": [],
   "source": [
    "# año nacimiento love song and  power Aaron jackson xpath\n",
    "#//*[@id=\"__next\"]/main/div/section[1]/section/div[3]/section/section/div[3]/div[2]/div[2]/section/aside/div/span[2]( el text)\n",
    "#\n",
    "\n",
    "#-------------------------------------------------------------------------------------------------------------------\n",
    "# año nacimiento spaceman Adam Sandler xpath\n",
    "#//*[@id=\"__next\"]/main/div/section[1]/section/div[3]/section/section/div[3]/div[2]/div[2]/section/aside/div/span[2].text\n",
    "# año nacimiento spaceman carey mulligan xpath\n",
    "#//*[@id=\"__next\"]/main/div/section[1]/section/div[3]/section/section/div[3]/div[2]/div[2]/section/aside/div/span[2].text"
   ]
  },
  {
   "cell_type": "markdown",
   "metadata": {},
   "source": [
    "texto que contiene año de nacimiento y conocido por"
   ]
  },
  {
   "cell_type": "code",
   "execution_count": null,
   "metadata": {},
   "outputs": [],
   "source": [
    "#conocido por AAron Jackson xpath TEXTO INTRODUCTORIO CON FECHA DE NACIMIENTO Y CONOCIDO POR \n",
    "#//*[@id=\"__next\"]/main/div/section[1]/section/div[3]/section/section/div[3]/div[2]/div[1]/section/div/div/div/div/div\n",
    "# conocido por Rose LaRue xpath \n",
    "#//*[@id=\"__next\"]/main/div/section[1]/section/div[3]/section/section/div[3]/div[2]/div[1]/section/div/div/div/div/div\n",
    "\n",
    "#---------------------------------------------------------------------------------------------------------------------------\n",
    "\n",
    "# spaceman  adam sandler\n",
    "\n",
    "# //*[@id=\"__next\"]/main/div/section[1]/section/div[3]/section/section/div[3]/div[2]/div[1]/section/div/div/div/div/div\n",
    "\n"
   ]
  },
  {
   "cell_type": "code",
   "execution_count": null,
   "metadata": {},
   "outputs": [],
   "source": []
  }
 ],
 "metadata": {
  "kernelspec": {
   "display_name": "Python 3",
   "language": "python",
   "name": "python3"
  },
  "language_info": {
   "codemirror_mode": {
    "name": "ipython",
    "version": 3
   },
   "file_extension": ".py",
   "mimetype": "text/x-python",
   "name": "python",
   "nbconvert_exporter": "python",
   "pygments_lexer": "ipython3",
   "version": "3.11.7"
  }
 },
 "nbformat": 4,
 "nbformat_minor": 2
}
