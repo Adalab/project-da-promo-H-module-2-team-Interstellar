{
 "cells": [
  {
   "cell_type": "code",
   "execution_count": 1,
   "metadata": {},
   "outputs": [
    {
     "name": "stdout",
     "output_type": "stream",
     "text": [
      "Requirement already satisfied: selenium in c:\\users\\marg_\\anaconda3\\lib\\site-packages (4.19.0)\n",
      "Requirement already satisfied: urllib3<3,>=1.26 in c:\\users\\marg_\\anaconda3\\lib\\site-packages (from urllib3[socks]<3,>=1.26->selenium) (2.0.7)\n",
      "Requirement already satisfied: trio~=0.17 in c:\\users\\marg_\\anaconda3\\lib\\site-packages (from selenium) (0.25.0)\n",
      "Requirement already satisfied: trio-websocket~=0.9 in c:\\users\\marg_\\anaconda3\\lib\\site-packages (from selenium) (0.11.1)\n",
      "Requirement already satisfied: certifi>=2021.10.8 in c:\\users\\marg_\\anaconda3\\lib\\site-packages (from selenium) (2024.2.2)\n",
      "Requirement already satisfied: typing_extensions>=4.9.0 in c:\\users\\marg_\\anaconda3\\lib\\site-packages (from selenium) (4.9.0)\n",
      "Requirement already satisfied: attrs>=23.2.0 in c:\\users\\marg_\\anaconda3\\lib\\site-packages (from trio~=0.17->selenium) (23.2.0)\n",
      "Requirement already satisfied: sortedcontainers in c:\\users\\marg_\\anaconda3\\lib\\site-packages (from trio~=0.17->selenium) (2.4.0)\n",
      "Requirement already satisfied: idna in c:\\users\\marg_\\anaconda3\\lib\\site-packages (from trio~=0.17->selenium) (3.4)\n",
      "Requirement already satisfied: outcome in c:\\users\\marg_\\anaconda3\\lib\\site-packages (from trio~=0.17->selenium) (1.3.0.post0)\n",
      "Requirement already satisfied: sniffio>=1.3.0 in c:\\users\\marg_\\anaconda3\\lib\\site-packages (from trio~=0.17->selenium) (1.3.0)\n",
      "Requirement already satisfied: cffi>=1.14 in c:\\users\\marg_\\anaconda3\\lib\\site-packages (from trio~=0.17->selenium) (1.16.0)\n",
      "Requirement already satisfied: wsproto>=0.14 in c:\\users\\marg_\\anaconda3\\lib\\site-packages (from trio-websocket~=0.9->selenium) (1.2.0)\n",
      "Requirement already satisfied: pysocks!=1.5.7,<2.0,>=1.5.6 in c:\\users\\marg_\\anaconda3\\lib\\site-packages (from urllib3[socks]<3,>=1.26->selenium) (1.7.1)\n",
      "Requirement already satisfied: pycparser in c:\\users\\marg_\\anaconda3\\lib\\site-packages (from cffi>=1.14->trio~=0.17->selenium) (2.21)\n",
      "Requirement already satisfied: h11<1,>=0.9.0 in c:\\users\\marg_\\anaconda3\\lib\\site-packages (from wsproto>=0.14->trio-websocket~=0.9->selenium) (0.14.0)\n",
      "Requirement already satisfied: webdriver-manager in c:\\users\\marg_\\anaconda3\\lib\\site-packages (4.0.1)\n",
      "Requirement already satisfied: requests in c:\\users\\marg_\\anaconda3\\lib\\site-packages (from webdriver-manager) (2.31.0)\n",
      "Requirement already satisfied: python-dotenv in c:\\users\\marg_\\anaconda3\\lib\\site-packages (from webdriver-manager) (0.21.0)\n",
      "Requirement already satisfied: packaging in c:\\users\\marg_\\anaconda3\\lib\\site-packages (from webdriver-manager) (23.1)\n",
      "Requirement already satisfied: charset-normalizer<4,>=2 in c:\\users\\marg_\\anaconda3\\lib\\site-packages (from requests->webdriver-manager) (2.0.4)\n",
      "Requirement already satisfied: idna<4,>=2.5 in c:\\users\\marg_\\anaconda3\\lib\\site-packages (from requests->webdriver-manager) (3.4)\n",
      "Requirement already satisfied: urllib3<3,>=1.21.1 in c:\\users\\marg_\\anaconda3\\lib\\site-packages (from requests->webdriver-manager) (2.0.7)\n",
      "Requirement already satisfied: certifi>=2017.4.17 in c:\\users\\marg_\\anaconda3\\lib\\site-packages (from requests->webdriver-manager) (2024.2.2)\n",
      "Requirement already satisfied: requests in c:\\users\\marg_\\anaconda3\\lib\\site-packages (2.31.0)\n",
      "Requirement already satisfied: charset-normalizer<4,>=2 in c:\\users\\marg_\\anaconda3\\lib\\site-packages (from requests) (2.0.4)\n",
      "Requirement already satisfied: idna<4,>=2.5 in c:\\users\\marg_\\anaconda3\\lib\\site-packages (from requests) (3.4)\n",
      "Requirement already satisfied: urllib3<3,>=1.21.1 in c:\\users\\marg_\\anaconda3\\lib\\site-packages (from requests) (2.0.7)\n",
      "Requirement already satisfied: certifi>=2017.4.17 in c:\\users\\marg_\\anaconda3\\lib\\site-packages (from requests) (2024.2.2)\n",
      "Requirement already satisfied: pandas in c:\\users\\marg_\\anaconda3\\lib\\site-packages (2.1.4)\n",
      "Requirement already satisfied: numpy<2,>=1.23.2 in c:\\users\\marg_\\anaconda3\\lib\\site-packages (from pandas) (1.26.4)\n",
      "Requirement already satisfied: python-dateutil>=2.8.2 in c:\\users\\marg_\\anaconda3\\lib\\site-packages (from pandas) (2.8.2)\n",
      "Requirement already satisfied: pytz>=2020.1 in c:\\users\\marg_\\anaconda3\\lib\\site-packages (from pandas) (2023.3.post1)\n",
      "Requirement already satisfied: tzdata>=2022.1 in c:\\users\\marg_\\anaconda3\\lib\\site-packages (from pandas) (2023.3)\n",
      "Requirement already satisfied: six>=1.5 in c:\\users\\marg_\\anaconda3\\lib\\site-packages (from python-dateutil>=2.8.2->pandas) (1.16.0)\n"
     ]
    }
   ],
   "source": [
    "!pip install selenium\n",
    "!pip install webdriver-manager\n",
    "\n",
    "!pip install requests\n",
    "!pip install pandas"
   ]
  },
  {
   "cell_type": "code",
   "execution_count": 4,
   "metadata": {},
   "outputs": [],
   "source": [
    "#  Importar librerías para tratamiento de datos\n",
    "# -----------------------------------------------------------------------\n",
    "import pandas as pd  # Pandas es una poderosa librería para manipulación y análisis de datos en Python.\n",
    "\n",
    "# Importar librerías para web scraping y manipulación de datos\n",
    "# -----------------------------------------------------------------------\n",
    "from bs4 import BeautifulSoup\n",
    "import requests\n",
    "\n",
    "# Importar librerías para automatización de navegadores web con Selenium\n",
    "# -----------------------------------------------------------------------\n",
    "from selenium import webdriver  # Selenium es una herramienta para automatizar la interacción con navegadores web.\n",
    "from webdriver_manager.chrome import ChromeDriverManager  # ChromeDriverManager gestiona la instalación del controlador de Chrome.\n",
    "from selenium.webdriver.common.keys import Keys  # Keys es útil para simular eventos de teclado en Selenium.\n",
    "from selenium.webdriver.support.ui import Select  # Select se utiliza para interactuar con elementos <select> en páginas web.\n",
    "from selenium.webdriver.common.by import By\n",
    "# Importar librerías para pausar la ejecución\n",
    "# -----------------------------------------------------------------------\n",
    "from time import sleep  # Sleep se utiliza para pausar la ejecución del programa por un número de segundos.\n",
    "from tqdm import tqdm, trange\n",
    "import re\n",
    "# Configuraciones\n",
    "# -----------------------------------------------------------------------\n",
    "pd.set_option('display.max_columns', None)  # Establece una opción de Pandas para mostrar todas las columnas de un DataFrame."
   ]
  },
  {
   "cell_type": "code",
   "execution_count": 29,
   "metadata": {},
   "outputs": [],
   "source": [
    "def tuplas_actores(id_pelicula):\n",
    "    #accedemos a la página IMDB:\n",
    "    #accedemos a la página IMDB:\n",
    "    driver = webdriver.Chrome() #abrir el navegador\n",
    "    driver.get(\"https://www.imdb.com/\") # abrir pagina web\n",
    "    driver.maximize_window() #maximizar ventana navegador\n",
    "    driver.find_element(\"css selector\", \"#__next > div > div > div.sc-jrcTuL.bPmWiM > div > button.icb-btn.sc-bcXHqe.sc-dkrFOg.sc-iBYQkv.dcvrLS.ddtuHe.dRCGjd\").click() # acepto las coockies\n",
    "    sleep(2)\n",
    "    #Buscamos pelicula por el id, en la barra buscador:\n",
    "\n",
    "    busqueda = driver.find_element(\"css selector\",\"#suggestion-search\").send_keys(id_pelicula , Keys.ENTER)\n",
    "    sleep(2)\n",
    "\n",
    "    #quiero que haga scroll hasta donde ponga 'rparto principal'\n",
    "\n",
    "    xpath_i='//*[@id=\"__next\"]/main/div/section[1]/div/section/div/div[1]/section[3]/div[1]'\n",
    "    pyhton= driver.find_element(By.XPATH, xpath_i)\n",
    "    driver.execute_script('arguments[0].scrollIntoView(true)', pyhton)\n",
    "\n",
    "    #driver.execute_script(\"window.scrollTo(0,1500)\")\n",
    "    sleep(2)\n",
    "\n",
    "        #ACCEDEMOS A 'REPARTO PRINCIPAL >'\n",
    "    driver.find_element(\"css selector\", '#__next > main > div > section.ipc-page-background.ipc-page-background--base.sc-c41b9732-0.NeSef > div > section > div > div.sc-978e9339-1.ihWZgK.ipc-page-grid__item.ipc-page-grid__item--span-2 > section.ipc-page-section.ipc-page-section--base.sc-bfec09a1-0.jgUBLM.title-cast.title-cast--movie.celwidget > div.ipc-title.ipc-title--base.ipc-title--section-title.ipc-title--on-textPrimary > div > a > h3 > svg').click()\n",
    "    sleep(2)\n",
    "    #except:\n",
    "        #driver.execute_script(\"window.scrollTo(0,1000)\") #si hay problemas con el scroll, probar con uno mas corto.\n",
    "        #sleep(3)\n",
    "        #ACCEDEMOS A 'REPARTO PRINCIPAL >'\n",
    "        #driver.find_element(\"xpath\", '//*[@id=\"__next\"]/main/div/section[1]/div/section/div/div[1]/section[3]/div[1]/div/a/h3').click()\n",
    "        #sleep(5)\n",
    "    \n",
    "\n",
    "    lista_actores_peli_i=[]\n",
    "\n",
    "    #ciclo for para los 10 primeros actores: range(1,12):\n",
    "    for i in range(2,3):\n",
    "        \n",
    "        #sleep(5)\n",
    "        #accedemos a la informacion del actor/actriz:\n",
    "        driver.find_element(\"xpath\", f'//*[@id=\"fullcredits_content\"]/table[3]/tbody/tr[{i}]/td[2]/a').click()\n",
    "        sleep(2)\n",
    "        #seleccionamos desplegable, para acceder a biografia y premios:\n",
    "        driver.find_element(\"xpath\", '//*[@id=\"__next\"]/main/div/section[1]/section/div[3]/section/section/div[1]/div/div[2]/button/span').click()#acceso a la biografia\n",
    "        sleep(2)\n",
    "        #acceso a la biografia\n",
    "        driver.find_element(\"xpath\", '/html/body/div[4]/div[2]/div/div[2]/div/div[2]/div/div[1]/ul/li[2]/a').click()\n",
    "        sleep(2)\n",
    "        \n",
    "        # obtenemos el NOMBRE del actor\n",
    "        nombre= driver.find_element(\"xpath\",'//*[@id=\"__next\"]/main/div/section/section/div[3]/section/section/div[2]/hgroup/h2').text\n",
    "        \n",
    "        try:\n",
    "            #obtenemos AÑO\n",
    "            año_sin_limp=driver.find_element(\"xpath\",'//*[@id=\"born\"]/div/div/div/a[1]').text\n",
    "            año=(re.findall('\\d{4}', año_sin_limp))[0] #sacamos del texto cadena de texto con 4 digitos seguidos, con regex.\n",
    "        except:\n",
    "            año='NULL'\n",
    "        sleep(2)\n",
    "\n",
    "        driver.back()\n",
    "        #volvemos a pagina anterior, de nuevo vamos al desplegable\n",
    "        #acceso a los PREMIOS\n",
    "        driver.find_element(\"xpath\", '//*[@id=\"__next\"]/main/div/section[1]/section/div[3]/section/section/div[1]/div/div[2]/button/span').click()#acceso a la biografiasleep(5)\n",
    "        sleep(2)\n",
    "        driver.find_element(\"xpath\", '/html/body/div[4]/div[2]/div/div[2]/div/div[2]/div/div[1]/ul/li[4]/a').click()#acceso a la biografia\n",
    "        sleep(2)\n",
    "        #creamos ciclo for para sacar las los premios:\n",
    "\n",
    "        try:\n",
    "            premios=[]\n",
    "            for i in range(1,6): #solo queremos 5 pelis\n",
    "                premio_sin_limpiar=driver.find_element(\"xpath\",f'//*[@id=\"__next\"]/main/div/section/div/section/div/div[1]/section[{i}]').text\n",
    "                premio_limpio= re.sub('\\n',' ', premio_sin_limpiar)\n",
    "                premios.append(premio_limpio)\n",
    "            sleep(6)\n",
    "        except:\n",
    "            premios='NULL'\n",
    "\n",
    "        sleep(2)\n",
    "        driver.back()\n",
    "        sleep(2)\n",
    "\n",
    "        #hacemos scroll hasta CONOCIDO_POR:\n",
    "        driver.execute_script(\"window.scrollTo(0,1000)\")\n",
    "        #xpath_d='//*[@id=\"__next\"]/main/div/section[1]/div/section/div/div[1]/div[3]/section[1]/div[1]/hgroup/h3/span'\n",
    "        #pyhton_d= driver.find_element(By.XPATH, xpath_d)\n",
    "        #driver.execute_script('arguments[0].scrollIntoView(true)', pyhton_d)\n",
    "        #extraemos no mas de 4 pelis por las que sea conocido:\n",
    "        sleep(6)\n",
    "\n",
    "        conocido_por=[]\n",
    "        try:\n",
    "            for i in range(1,5):\n",
    "                try:\n",
    "                    peli_conocido=driver.find_element(\"xpath\",f'//*[@id=\"__next\"]/main/div/section[1]/div/section/div/div[1]/div[3]/section[1]/div[2]/div/div[2]/div[{i}]/div[2]/div[1]/a').text\n",
    "                    conocido_por.append(peli_conocido)\n",
    "                    sleep(6)\n",
    "                except:\n",
    "                    continue\n",
    "        except:\n",
    "            conocido_por='NULL'\n",
    "        sleep(10)\n",
    "     \n",
    "        #volvemos arriba:\n",
    "        driver.execute_script(\"window.scrollTo(0,0)\")\n",
    "        sleep(5)\n",
    "        #extraemos informacion que hace.\n",
    "\n",
    "        que_hace=[]\n",
    "        try:\n",
    "            try:\n",
    "                for z in range(1,4):\n",
    "                    peli_hace=driver.find_element(\"xpath\",f'//*[@id=\"__next\"]/main/div/section[1]/section/div[3]/section/section/div[2]/div/ul/li[{z}]').text\n",
    "                    que_hace.append(peli_hace)\n",
    "                    sleep(2)\n",
    "            except:\n",
    "                    peli_hace=driver.find_element(\"xpath\",'//*[@id=\"__next\"]/main/div/section[1]/section/div[3]/section/section/div[2]/div/ul/li').text\n",
    "                    que_hace.append(peli_hace)\n",
    "                    sleep(2)\n",
    "        except:\n",
    "            que_hace='NULL'\n",
    "\n",
    "        #sacamos tupla de cada actor\n",
    "        lista_infor_actor=[nombre, año, que_hace, conocido_por,premios]\n",
    "        tupla_x=tuple(lista_infor_actor)\n",
    "        lista_actores_peli_i.append(tupla_x)#apendeamos a la lista de actores pelicula\n",
    "\n",
    "        sleep(6)\n",
    "        driver.back()\n",
    "        sleep(3)\n",
    "        #volvemos a la página principal \n",
    "\n",
    "    return lista_actores_peli_i #obtenemos una lista con tuplas informativas de los 10 principales actores.\n"
   ]
  },
  {
   "cell_type": "code",
   "execution_count": 27,
   "metadata": {},
   "outputs": [],
   "source": [
    "lista_id=['tt0411951',\n",
    "'tt10090058']\n",
    "#'tt10023150',\n",
    "#'tt0425785']"
   ]
  },
  {
   "cell_type": "code",
   "execution_count": 28,
   "metadata": {},
   "outputs": [
    {
     "name": "stderr",
     "output_type": "stream",
     "text": [
      " 50%|█████     | 1/2 [02:02<02:02, 122.49s/it]"
     ]
    },
    {
     "name": "stdout",
     "output_type": "stream",
     "text": [
      "[('Jon Foo', '1982', ['Reparto', 'Especialistas', 'Reparto'], ['Tekken', 'Thai Dragon', 'Soldado universal: Regeneración', 'Objetivo: La Casa Blanca'], 'NULL')]\n"
     ]
    },
    {
     "name": "stderr",
     "output_type": "stream",
     "text": [
      "100%|██████████| 2/2 [03:33<00:00, 106.59s/it]"
     ]
    },
    {
     "name": "stdout",
     "output_type": "stream",
     "text": [
      "[('Rizky Nazar', 'NULL', ['Reparto', 'Banda sonora', 'Reparto'], [], 'NULL')]\n"
     ]
    },
    {
     "name": "stderr",
     "output_type": "stream",
     "text": [
      "\n"
     ]
    }
   ],
   "source": [
    "\n",
    "for id_peli in tqdm(lista_id):\n",
    "    tupla_una_peli=tuplas_actores(id_peli)\n",
    "    print(tupla_una_peli)\n"
   ]
  },
  {
   "cell_type": "code",
   "execution_count": null,
   "metadata": {},
   "outputs": [],
   "source": [
    "#otro sitio para sacar el año\n",
    "'//*[@id=\"born\"]/div/div/div/a[1]' "
   ]
  }
 ],
 "metadata": {
  "kernelspec": {
   "display_name": "base",
   "language": "python",
   "name": "python3"
  },
  "language_info": {
   "codemirror_mode": {
    "name": "ipython",
    "version": 3
   },
   "file_extension": ".py",
   "mimetype": "text/x-python",
   "name": "python",
   "nbconvert_exporter": "python",
   "pygments_lexer": "ipython3",
   "version": "3.11.7"
  }
 },
 "nbformat": 4,
 "nbformat_minor": 2
}
