{
 "cells": [
  {
   "cell_type": "code",
   "execution_count": 7,
   "metadata": {},
   "outputs": [],
   "source": [
    "from selenium import webdriver\n",
    "from selenium.webdriver.common.keys import Keys\n",
    "from selenium.common.exceptions import NoSuchElementException\n",
    "from time import sleep\n",
    "import csv\n",
    "from tqdm import tqdm\n",
    "import pandas as pd\n"
   ]
  },
  {
   "cell_type": "code",
   "execution_count": 8,
   "metadata": {},
   "outputs": [],
   "source": [
    "# Importamos el csv de  para extraer los titulos y llamar a la funcion\n",
    "original_list_csv =pd.read_csv(r\"C:\\Users\\Jordy_000\\Desktop\\ADALAB\\Ejercicios_clases(pair,invertidas,exam)\\modulo-2\\proyecto\\API\\CSVs\\resultados_datos_fase2.csv\") \n"
   ]
  },
  {
   "cell_type": "code",
   "execution_count": 9,
   "metadata": {},
   "outputs": [
    {
     "name": "stdout",
     "output_type": "stream",
     "text": [
      "Index(['Nombre', 'Director', 'Guionista', 'Argumento', 'Duración',\n",
      "       'Puntuación IMDb', 'ID_Pelicula'],\n",
      "      dtype='object')\n"
     ]
    }
   ],
   "source": [
    "print(original_list_csv.columns)"
   ]
  },
  {
   "cell_type": "code",
   "execution_count": 10,
   "metadata": {},
   "outputs": [],
   "source": [
    "# Extraemos los titulos y posteriormente los convertiremos a una lista\n",
    "\n",
    "Titles= original_list_csv[\"Nombre\"] \n"
   ]
  },
  {
   "cell_type": "code",
   "execution_count": 11,
   "metadata": {},
   "outputs": [],
   "source": [
    "#convierto en listas\n",
    "\n",
    "list_Titles= Titles.to_list()\n"
   ]
  },
  {
   "cell_type": "code",
   "execution_count": 24,
   "metadata": {},
   "outputs": [],
   "source": [
    "def tomatometer(list_Titles):\n",
    "    # Initialize an empty list to store movie titles and their Tomatometer scores\n",
    "    list_tuple_tomatoes = []\n",
    "    \n",
    "    # Set up a Chrome WebDriver\n",
    "    driver = webdriver.Chrome()\n",
    "    driver.maximize_window()\n",
    "    driver.get(\"https://www.google.com/\")\n",
    "    driver.find_element(\"css selector\", '#L2AGLb > div').click()  # Click the \"I agree\" button for cookie consent\n",
    "    \n",
    "    # Process each movie title\n",
    "    for Title in tqdm(list_Titles):\n",
    "        sleep(3)\n",
    "        search_google = Title + ' Tomatometer'  # Construct search query\n",
    "        sleep(3)\n",
    "        search1 = driver.find_element(\"css selector\", '#APjFqb')\n",
    "        sleep(3)\n",
    "        search1.clear()\n",
    "        search1.send_keys(search_google,Keys.ENTER)  # Perform Google search\n",
    "        sleep(5)\n",
    "       \n",
    "        try:\n",
    "            # Extract Tomatometer score from search results\n",
    "            result1 = driver.find_element(\"css selector\", '#rso > div:nth-child(1) > div > div > div > div:nth-child(3) > div > span:nth-child(2)').text\n",
    "            tomatometer = result1.replace('Valoración', '').strip('%').replace(':','')\n",
    "        except:\n",
    "            tomatometer = 'Null'  # Assign \"Null\" if score extraction fails\n",
    "                    \n",
    "        # Create a tuple with movie title and its Tomatometer score\n",
    "        tuple_movie = (Title, tomatometer)\n",
    "        list_tuple_tomatoes.append(tuple_movie)\n",
    "        \n",
    "        for tuple in list_tuple_tomatoes:\n",
    "            print(tuple, end=\"\\n\")\n",
    "    # Close the WebDriver\n",
    "    driver.close()\n",
    "    \n",
    "    # Create a Pandas DataFrame and save it to a CSV file\n",
    "    df = pd.DataFrame(list_tuple_tomatoes, columns=['Title', 'Score'])\n",
    "    df.to_csv(\"list_tuple_tomates.csv\", index=False)"
   ]
  },
  {
   "cell_type": "code",
   "execution_count": null,
   "metadata": {},
   "outputs": [],
   "source": [
    "tomatometer(list_Titles)"
   ]
  }
 ],
 "metadata": {
  "kernelspec": {
   "display_name": "Python 3",
   "language": "python",
   "name": "python3"
  },
  "language_info": {
   "codemirror_mode": {
    "name": "ipython",
    "version": 3
   },
   "file_extension": ".py",
   "mimetype": "text/x-python",
   "name": "python",
   "nbconvert_exporter": "python",
   "pygments_lexer": "ipython3",
   "version": "3.9.13"
  }
 },
 "nbformat": 4,
 "nbformat_minor": 2
}
