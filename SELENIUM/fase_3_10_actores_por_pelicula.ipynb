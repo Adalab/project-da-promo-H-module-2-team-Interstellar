{
 "cells": [
  {
   "cell_type": "code",
   "execution_count": 4,
   "metadata": {},
   "outputs": [
    {
     "name": "stdout",
     "output_type": "stream",
     "text": [
      "Requirement already satisfied: selenium in c:\\users\\marg_\\anaconda3\\lib\\site-packages (4.19.0)\n",
      "Requirement already satisfied: urllib3<3,>=1.26 in c:\\users\\marg_\\anaconda3\\lib\\site-packages (from urllib3[socks]<3,>=1.26->selenium) (2.0.7)\n",
      "Requirement already satisfied: trio~=0.17 in c:\\users\\marg_\\anaconda3\\lib\\site-packages (from selenium) (0.25.0)\n",
      "Requirement already satisfied: trio-websocket~=0.9 in c:\\users\\marg_\\anaconda3\\lib\\site-packages (from selenium) (0.11.1)\n",
      "Requirement already satisfied: certifi>=2021.10.8 in c:\\users\\marg_\\anaconda3\\lib\\site-packages (from selenium) (2024.2.2)\n",
      "Requirement already satisfied: typing_extensions>=4.9.0 in c:\\users\\marg_\\anaconda3\\lib\\site-packages (from selenium) (4.9.0)\n",
      "Requirement already satisfied: attrs>=23.2.0 in c:\\users\\marg_\\anaconda3\\lib\\site-packages (from trio~=0.17->selenium) (23.2.0)\n",
      "Requirement already satisfied: sortedcontainers in c:\\users\\marg_\\anaconda3\\lib\\site-packages (from trio~=0.17->selenium) (2.4.0)\n",
      "Requirement already satisfied: idna in c:\\users\\marg_\\anaconda3\\lib\\site-packages (from trio~=0.17->selenium) (3.4)\n",
      "Requirement already satisfied: outcome in c:\\users\\marg_\\anaconda3\\lib\\site-packages (from trio~=0.17->selenium) (1.3.0.post0)\n",
      "Requirement already satisfied: sniffio>=1.3.0 in c:\\users\\marg_\\anaconda3\\lib\\site-packages (from trio~=0.17->selenium) (1.3.0)\n",
      "Requirement already satisfied: cffi>=1.14 in c:\\users\\marg_\\anaconda3\\lib\\site-packages (from trio~=0.17->selenium) (1.16.0)\n",
      "Requirement already satisfied: wsproto>=0.14 in c:\\users\\marg_\\anaconda3\\lib\\site-packages (from trio-websocket~=0.9->selenium) (1.2.0)\n",
      "Requirement already satisfied: pysocks!=1.5.7,<2.0,>=1.5.6 in c:\\users\\marg_\\anaconda3\\lib\\site-packages (from urllib3[socks]<3,>=1.26->selenium) (1.7.1)\n",
      "Requirement already satisfied: pycparser in c:\\users\\marg_\\anaconda3\\lib\\site-packages (from cffi>=1.14->trio~=0.17->selenium) (2.21)\n",
      "Requirement already satisfied: h11<1,>=0.9.0 in c:\\users\\marg_\\anaconda3\\lib\\site-packages (from wsproto>=0.14->trio-websocket~=0.9->selenium) (0.14.0)\n",
      "Requirement already satisfied: webdriver-manager in c:\\users\\marg_\\anaconda3\\lib\\site-packages (4.0.1)\n",
      "Requirement already satisfied: requests in c:\\users\\marg_\\anaconda3\\lib\\site-packages (from webdriver-manager) (2.31.0)\n",
      "Requirement already satisfied: python-dotenv in c:\\users\\marg_\\anaconda3\\lib\\site-packages (from webdriver-manager) (0.21.0)\n",
      "Requirement already satisfied: packaging in c:\\users\\marg_\\anaconda3\\lib\\site-packages (from webdriver-manager) (23.1)\n",
      "Requirement already satisfied: charset-normalizer<4,>=2 in c:\\users\\marg_\\anaconda3\\lib\\site-packages (from requests->webdriver-manager) (2.0.4)\n",
      "Requirement already satisfied: idna<4,>=2.5 in c:\\users\\marg_\\anaconda3\\lib\\site-packages (from requests->webdriver-manager) (3.4)\n",
      "Requirement already satisfied: urllib3<3,>=1.21.1 in c:\\users\\marg_\\anaconda3\\lib\\site-packages (from requests->webdriver-manager) (2.0.7)\n",
      "Requirement already satisfied: certifi>=2017.4.17 in c:\\users\\marg_\\anaconda3\\lib\\site-packages (from requests->webdriver-manager) (2024.2.2)\n",
      "Requirement already satisfied: requests in c:\\users\\marg_\\anaconda3\\lib\\site-packages (2.31.0)\n",
      "Requirement already satisfied: charset-normalizer<4,>=2 in c:\\users\\marg_\\anaconda3\\lib\\site-packages (from requests) (2.0.4)\n",
      "Requirement already satisfied: idna<4,>=2.5 in c:\\users\\marg_\\anaconda3\\lib\\site-packages (from requests) (3.4)\n",
      "Requirement already satisfied: urllib3<3,>=1.21.1 in c:\\users\\marg_\\anaconda3\\lib\\site-packages (from requests) (2.0.7)\n",
      "Requirement already satisfied: certifi>=2017.4.17 in c:\\users\\marg_\\anaconda3\\lib\\site-packages (from requests) (2024.2.2)\n",
      "Requirement already satisfied: pandas in c:\\users\\marg_\\anaconda3\\lib\\site-packages (2.1.4)\n",
      "Requirement already satisfied: numpy<2,>=1.23.2 in c:\\users\\marg_\\anaconda3\\lib\\site-packages (from pandas) (1.26.4)\n",
      "Requirement already satisfied: python-dateutil>=2.8.2 in c:\\users\\marg_\\anaconda3\\lib\\site-packages (from pandas) (2.8.2)\n",
      "Requirement already satisfied: pytz>=2020.1 in c:\\users\\marg_\\anaconda3\\lib\\site-packages (from pandas) (2023.3.post1)\n",
      "Requirement already satisfied: tzdata>=2022.1 in c:\\users\\marg_\\anaconda3\\lib\\site-packages (from pandas) (2023.3)\n",
      "Requirement already satisfied: six>=1.5 in c:\\users\\marg_\\anaconda3\\lib\\site-packages (from python-dateutil>=2.8.2->pandas) (1.16.0)\n"
     ]
    }
   ],
   "source": [
    "!pip install selenium\n",
    "!pip install webdriver-manager\n",
    "\n",
    "!pip install requests\n",
    "!pip install pandas"
   ]
  },
  {
   "cell_type": "code",
   "execution_count": 5,
   "metadata": {},
   "outputs": [],
   "source": [
    "#  Importar librerías para tratamiento de datos\n",
    "# -----------------------------------------------------------------------\n",
    "import pandas as pd  # Pandas es una poderosa librería para manipulación y análisis de datos en Python.\n",
    "\n",
    "# Importar librerías para web scraping y manipulación de datos\n",
    "# -----------------------------------------------------------------------\n",
    "from bs4 import BeautifulSoup\n",
    "import requests\n",
    "\n",
    "# Importar librerías para automatización de navegadores web con Selenium\n",
    "# -----------------------------------------------------------------------\n",
    "from selenium import webdriver  # Selenium es una herramienta para automatizar la interacción con navegadores web.\n",
    "from webdriver_manager.chrome import ChromeDriverManager  # ChromeDriverManager gestiona la instalación del controlador de Chrome.\n",
    "from selenium.webdriver.common.keys import Keys  # Keys es útil para simular eventos de teclado en Selenium.\n",
    "from selenium.webdriver.support.ui import Select  # Select se utiliza para interactuar con elementos <select> en páginas web.\n",
    "from selenium.webdriver.common.by import By\n",
    "# Importar librerías para pausar la ejecución\n",
    "# -----------------------------------------------------------------------\n",
    "from time import sleep  # Sleep se utiliza para pausar la ejecución del programa por un número de segundos.\n",
    "from tqdm import tqdm, trange\n",
    "import re\n",
    "# Configuraciones\n",
    "# -----------------------------------------------------------------------\n",
    "pd.set_option('display.max_columns', None)  # Establece una opción de Pandas para mostrar todas las columnas de un DataFrame."
   ]
  },
  {
   "cell_type": "code",
   "execution_count": 9,
   "metadata": {},
   "outputs": [],
   "source": [
    "def tuplas_actores(id_pelicula):\n",
    "    #accedemos a la página IMDB:\n",
    "    #accedemos a la página IMDB:\n",
    "    driver = webdriver.Chrome() #abrir el navegador\n",
    "    driver.get(\"https://www.imdb.com/\") # abrir pagina web\n",
    "    driver.maximize_window() #maximizar ventana navegador\n",
    "    driver.find_element(\"css selector\", \"#__next > div > div > div.sc-jrcTuL.bPmWiM > div > button.icb-btn.sc-bcXHqe.sc-dkrFOg.sc-iBYQkv.dcvrLS.ddtuHe.dRCGjd\").click() # acepto las coockies\n",
    "    sleep(2)\n",
    "    #Buscamos pelicula por el id, en la barra buscador:\n",
    "\n",
    "    busqueda = driver.find_element(\"css selector\",\"#suggestion-search\").send_keys(id_pelicula , Keys.ENTER)\n",
    "    sleep(2)\n",
    "\n",
    "    #quiero que haga scroll hasta donde ponga 'rparto principal'\n",
    "\n",
    "    xpath_i='//*[@id=\"__next\"]/main/div/section[1]/div/section/div/div[1]/section[3]/div[1]'\n",
    "    pyhton= driver.find_element(By.XPATH, xpath_i)\n",
    "    driver.execute_script('arguments[0].scrollIntoView(true)', pyhton)\n",
    "\n",
    "    #driver.execute_script(\"window.scrollTo(0,1500)\")\n",
    "    sleep(3)\n",
    "\n",
    "        #ACCEDEMOS A 'REPARTO PRINCIPAL >'\n",
    "    driver.find_element(\"css selector\", '#__next > main > div > section.ipc-page-background.ipc-page-background--base.sc-c41b9732-0.NeSef > div > section > div > div.sc-978e9339-1.ihWZgK.ipc-page-grid__item.ipc-page-grid__item--span-2 > section.ipc-page-section.ipc-page-section--base.sc-bfec09a1-0.jgUBLM.title-cast.title-cast--movie.celwidget > div.ipc-title.ipc-title--base.ipc-title--section-title.ipc-title--on-textPrimary > div > a > h3 > svg').click()\n",
    "    sleep(2)\n",
    "    #except:\n",
    "        #driver.execute_script(\"window.scrollTo(0,1000)\") #si hay problemas con el scroll, probar con uno mas corto.\n",
    "        #sleep(3)\n",
    "        #ACCEDEMOS A 'REPARTO PRINCIPAL >'\n",
    "        #driver.find_element(\"xpath\", '//*[@id=\"__next\"]/main/div/section[1]/div/section/div/div[1]/section[3]/div[1]/div/a/h3').click()\n",
    "        #sleep(5)\n",
    "    #__next > main > div > section.ipc-page-background.ipc-page-background--base.sc-c41b9732-0.NeSef > div > section > div > div.sc-978e9339-1.ihWZgK.ipc-page-grid__item.ipc-page-grid__item--span-2 > section.ipc-page-section.ipc-page-section--base.sc-bfec09a1-0.jgUBLM.title-cast.title-cast--movie.celwidget > div.ipc-title.ipc-title--base.ipc-title--section-title.ipc-title--on-textPrimary > div > a > h3 > svg\n",
    "\n",
    "    lista_actores_peli_i=[]\n",
    "\n",
    "    #ciclo for para los 10 primeros actores: range(1,12):\n",
    "    for i in range(6,7):\n",
    "        \n",
    "        #sleep(5)\n",
    "        #accedemos a la informacion del actor/actriz:\n",
    "        driver.find_element(\"xpath\", f'//*[@id=\"fullcredits_content\"]/table[3]/tbody/tr[{i}]/td[2]/a').click()\n",
    "        sleep(2)\n",
    "        #seleccionamos desplegable, para acceder a biografia y premios:\n",
    "        driver.find_element(\"xpath\", '//*[@id=\"__next\"]/main/div/section[1]/section/div[3]/section/section/div[1]/div/div[2]/button/span').click()#acceso a la biografia\n",
    "        sleep(2)\n",
    "        #acceso a la biografia\n",
    "        driver.find_element(\"xpath\", '/html/body/div[4]/div[2]/div/div[2]/div/div[2]/div/div[1]/ul/li[2]/a').click()\n",
    "        sleep(2)\n",
    "        \n",
    "        # obtenemos el NOMBRE del actor\n",
    "        nombre= driver.find_element(\"xpath\",'//*[@id=\"__next\"]/main/div/section/section/div[3]/section/section/div[2]/hgroup/h2').text\n",
    "        \n",
    "        try:\n",
    "            #obtenemos AÑO\n",
    "            año_sin_limp=driver.find_element(\"xpath\",'//*[@id=\"born\"]/div/div/div/a[1]').text\n",
    "            año=(re.findall('\\d{4}', año_sin_limp))[0] #sacamos del texto cadena de texto con 4 digitos seguidos, con regex.\n",
    "        except:\n",
    "            año='NULL'\n",
    "        sleep(2)\n",
    "\n",
    "        driver.back()\n",
    "        #volvemos a pagina anterior, de nuevo vamos al desplegable\n",
    "        #acceso a los PREMIOS\n",
    "        driver.find_element(\"xpath\", '//*[@id=\"__next\"]/main/div/section[1]/section/div[3]/section/section/div[1]/div/div[2]/button/span').click()#acceso a la biografiasleep(5)\n",
    "        sleep(2)\n",
    "        driver.find_element(\"xpath\", '/html/body/div[4]/div[2]/div/div[2]/div/div[2]/div/div[1]/ul/li[4]/a').click()#acceso a la biografia\n",
    "        sleep(2)\n",
    "        #creamos ciclo for para sacar las los premios:\n",
    "\n",
    "        try:\n",
    "            premios=[]\n",
    "            for i in range(1,6): #solo queremos 5 pelis\n",
    "                premio_sin_limpiar=driver.find_element(\"xpath\",f'//*[@id=\"__next\"]/main/div/section/div/section/div/div[1]/section[{i}]').text\n",
    "                premio_limpio= re.sub('\\n',' ', premio_sin_limpiar)\n",
    "                premios.append(premio_limpio)\n",
    "            sleep(6)\n",
    "        except:\n",
    "            premios='NULL'\n",
    "\n",
    "        sleep(2)\n",
    "        driver.back()\n",
    "        sleep(6)\n",
    "\n",
    "        #hacemos scroll hasta CONOCIDO_POR:\n",
    "        driver.execute_script(\"window.scrollTo(0,2000)\")\n",
    "        xpath_d='//*[@id=\"__next\"]/main/div/section[1]/div/section/div/div[1]/div[3]/section[1]'\n",
    "        pyhton_d= driver.find_element(By.XPATH, xpath_d)\n",
    "        driver.execute_script('arguments[0].scrollIntoView(true)', pyhton_d)\n",
    "        #extraemos no mas de 4 pelis por las que sea conocido:\n",
    "      \n",
    "        sleep(6)\n",
    "        conocido_por=[]\n",
    "        #while len(conocido_por)==0:\n",
    "        try:\n",
    "            #driver.find_element(\"xpath\",f'//*[@id=\"__next\"]/main/div/section[1]/div/section/div/div[1]/div[3]/section[1]').click()\n",
    "            for i in range(1,5):\n",
    "                \n",
    "                sleep(2)\n",
    "                peli_conocido=driver.find_element(\"xpath\",f'//*[@id=\"__next\"]/main/div/section[1]/div/section/div/div[1]/div[3]/section[1]/div[2]/div/div[2]/div[{i}]/div[2]/div[1]/a').text\n",
    "                conocido_por.append(peli_conocido)\n",
    "                 \n",
    "        except:\n",
    "            conocido_por='NULL'\n",
    "        sleep(6)\n",
    "     \n",
    "        #volvemos arriba:\n",
    "        driver.execute_script(\"window.scrollTo(0,0)\")\n",
    "        sleep(5)\n",
    "        #extraemos informacion que hace.\n",
    "\n",
    "        que_hace=[]\n",
    "        try:\n",
    "            try:\n",
    "                for z in range(1,4):\n",
    "                    peli_hace=driver.find_element(\"xpath\",f'//*[@id=\"__next\"]/main/div/section[1]/section/div[3]/section/section/div[2]/div/ul/li[{z}]').text\n",
    "                    que_hace.append(peli_hace)\n",
    "                    sleep(2)\n",
    "            except:\n",
    "                    peli_hace=driver.find_element(\"xpath\",'//*[@id=\"__next\"]/main/div/section[1]/section/div[3]/section/section/div[2]/div/ul/li').text\n",
    "                    que_hace.append(peli_hace)\n",
    "                    sleep(2)\n",
    "        except:\n",
    "            que_hace='NULL'\n",
    "\n",
    "        #sacamos tupla de cada actor\n",
    "        lista_infor_actor=[nombre, año, que_hace, conocido_por,premios]\n",
    "        tupla_x=tuple(lista_infor_actor)\n",
    "        lista_actores_peli_i.append(tupla_x)#apendeamos a la lista de actores pelicula\n",
    "\n",
    "        sleep(6)\n",
    "        driver.back()\n",
    "        sleep(3)\n",
    "        #volvemos a la página principal \n",
    "\n",
    "    return lista_actores_peli_i #obtenemos una lista con tuplas informativas de los 10 principales actores.\n"
   ]
  },
  {
   "cell_type": "code",
   "execution_count": 10,
   "metadata": {},
   "outputs": [
    {
     "name": "stdout",
     "output_type": "stream",
     "text": [
      "Index(['Género', 'Tipo', 'Título', 'Mes', 'Año', 'ID_IMDB'], dtype='object')\n"
     ]
    }
   ],
   "source": [
    "datos_accion_csv=pd.read_csv(r\"C:\\Users\\marg_\\Desktop\\Proyecto_lesion2\\project-da-promo-H-module-2-team-Interstellar\\API\\CSVs\\Películas_Acción_2010-2025.csv\")\n",
    "print(datos_accion_csv.columns)"
   ]
  },
  {
   "cell_type": "code",
   "execution_count": 11,
   "metadata": {},
   "outputs": [],
   "source": [
    "id_accion=datos_accion_csv[\"ID_IMDB\"]\n",
    "\n",
    "lista_id_accion=id_accion.tolist()\n"
   ]
  },
  {
   "cell_type": "code",
   "execution_count": 89,
   "metadata": {},
   "outputs": [
    {
     "name": "stderr",
     "output_type": "stream",
     "text": [
      "  0%|          | 1/5241 [01:36<140:00:12, 96.19s/it]"
     ]
    },
    {
     "name": "stdout",
     "output_type": "stream",
     "text": [
      "[('Cung Le', '1972', ['Reparto', 'Producción', 'Especialistas'], ['Pandorum', 'Tekken', 'The Grandmaster', 'El hombre de los puños de hierro'], 'NULL')]\n"
     ]
    },
    {
     "name": "stderr",
     "output_type": "stream",
     "text": [
      "  0%|          | 2/5241 [03:22<148:47:33, 102.24s/it]"
     ]
    },
    {
     "name": "stdout",
     "output_type": "stream",
     "text": [
      "[('Jaime Pressly', '1977', ['Reparto', 'Producción', 'Banda sonora'], 'NULL', ['Critics Choice Awards 2021 Nominado Critics Choice Award Best Supporting Actress in a Comedy Series Mom', 'Primetime Emmy Awards 2007 Ganador Primetime Emmy Outstanding Supporting Actress in a Comedy Series Me llamo Earl For playing: \"Joy Turner\". 2006 Nominado Primetime Emmy Outstanding Supporting Actress in a Comedy Series Me llamo Earl For playing: \"Joy Turner\".', 'Golden Globes, USA 2008 Nominado Golden Globe Best Performance by an Actress in a Supporting Role in a Series, Miniseries or Motion Picture Made for Television Me llamo Earl', 'Satellite Awards 2007 Nominado Satellite Award Best Actress in a Supporting Role in a Series, Mini-Series or Motion Picture Made for Television Me llamo Earl', 'Monte-Carlo TV Festival 2007 Ganador Golden Nymph Outstanding Actress - Comedy Series Me llamo Earl'])]\n"
     ]
    },
    {
     "name": "stderr",
     "output_type": "stream",
     "text": [
      "  0%|          | 3/5241 [05:12<154:07:50, 105.93s/it]"
     ]
    },
    {
     "name": "stdout",
     "output_type": "stream",
     "text": [
      "[('Sharlto Copley', '1973', ['Reparto', 'Producción', 'Dirección'], ['Distrito 9', 'Chappie', 'Hardcore Henry', 'El equipo A'], ['Chicago Film Critics Association Awards 2009 Nominado CFCA Award Most Promising Performer Distrito 9', 'MTV Movie + TV Awards 2010 Nominado MTV Movie Award Best Scared-As-S**t Performance Distrito 9', 'Online Film Critics Society Awards 2010 Nominado OFCS Award Best Actor Distrito 9', 'Teen Choice Awards 2010 Nominado Teen Choice Award Choice Movie Actor: Sci-Fi Distrito 9', 'Empire Awards, UK 2010 Nominado Empire Award Best Newcomer Distrito 9'])]\n"
     ]
    },
    {
     "name": "stderr",
     "output_type": "stream",
     "text": [
      "  0%|          | 4/5241 [06:44<146:04:43, 100.42s/it]"
     ]
    },
    {
     "name": "stdout",
     "output_type": "stream",
     "text": [
      "[('Gracindo Júnior', '1943', ['Reparto', 'Dirección', 'Guion'], 'NULL', 'NULL')]\n"
     ]
    },
    {
     "name": "stderr",
     "output_type": "stream",
     "text": [
      "  0%|          | 5/5241 [08:35<151:11:57, 103.96s/it]"
     ]
    },
    {
     "name": "stdout",
     "output_type": "stream",
     "text": [
      "[('Aubrey Plaza', '1984', ['Reparto', 'Producción', 'Guion'], ['Seguridad no garantizada', 'Emily la estafadora', 'Ingrid Goes West', 'Dirty Grandpa'], ['ALMA Awards 2012 Nominado ALMA Award Favorite TV Actress - Leading Role In A Comedy Parks and Recreation 2012 Ganador ALMA Award Favorite Movie Actress - Comedy/Musical Seguridad no garantizada 2011 Nominado ALMA Award Favorite TV Actress - Supporting Role Parks and Recreation', 'American Comedy Awards, USA 2014 Nominado American Comedy Award Best Comedy Supporting Actress - TV Parks and Recreation', 'Primetime Emmy Awards 2023 Nominado Primetime Emmy Outstanding Supporting Actress in a Drama Series The White Lotus', 'Golden Globes, USA 2023 Nominado Golden Globe Best Performance by an Actress in a Supporting Role in a Limited Series, Anthology Series or Motion Picture Made for Television The White Lotus', 'Gotham Awards 2022 Nominado Gotham Independent Film Award Outstanding Lead Performance Emily la estafadora 2012 Nominado Gotham Independent Film Award Best Ensemble Performance Seguridad no garantizada Compartido con: Mark Duplass · Jake Johnson · Karan Soni · Jenica Bergere · Kristen Bell · Jeff Garlin · Mary Lynn Rajskub'])]\n"
     ]
    },
    {
     "name": "stderr",
     "output_type": "stream",
     "text": [
      "  0%|          | 6/5241 [10:16<149:51:24, 103.05s/it]"
     ]
    },
    {
     "name": "stdout",
     "output_type": "stream",
     "text": [
      "[('Mohammad Ali', '1968', ['Reparto', 'Reparto'], ['Liger', 'Super', 'Oka Laila Kosam', 'S/O Satyamurthy'], ['Filmfare Awards South 2006 Ganador Filmfare Award - Telugu Film Industry Best Comedian Super', 'South Indian International Movie Awards 2016 Nominado SIIMA - Telugu Best Comic Actor S/O Satyamurthy 2013 Nominado SIIMA - Telugu Best Comic Actor Ishq', 'CineMAA Awards 2015 Ganador CineMAA Award Best Comedian Oka Laila Kosam', 'Contribuir a esta página Sugerir un cambio o añadir el contenido que falta Consulta nuestra guía para actualizar los premios Más información acerca de cómo contribuir', 'Más de esta persona'])]\n"
     ]
    },
    {
     "name": "stderr",
     "output_type": "stream",
     "text": [
      "  0%|          | 7/5241 [11:51<145:51:02, 100.32s/it]"
     ]
    },
    {
     "name": "stdout",
     "output_type": "stream",
     "text": [
      "[('Steve Toussaint', '1965', ['Reparto', 'Guion', 'Reparto'], 'NULL', 'NULL')]\n"
     ]
    },
    {
     "name": "stderr",
     "output_type": "stream",
     "text": [
      "  0%|          | 8/5241 [13:27<143:46:05, 98.90s/it] "
     ]
    },
    {
     "name": "stdout",
     "output_type": "stream",
     "text": [
      "[('Kevin Dunn', '1955', ['Reparto', 'Producción', 'Banda sonora'], 'NULL', 'NULL')]\n"
     ]
    },
    {
     "name": "stderr",
     "output_type": "stream",
     "text": [
      "  0%|          | 9/5241 [15:12<146:29:35, 100.80s/it]"
     ]
    },
    {
     "name": "stdout",
     "output_type": "stream",
     "text": [
      "[('Columbus Short', '1982', ['Reparto', 'Producción', 'Guion'], 'NULL', ['Image Awards (NAACP) 2014 Nominado Image Award Outstanding Supporting Actor in a Drama Series Scandal 2009 Ganador Image Award Outstanding Supporting Actor in a Motion Picture Cadillac Records 2008 Nominado Image Award Outstanding Actor in a Motion Picture Ritmo Salvaje', 'MTV Movie + TV Awards 2007 Nominado MTV Movie Award Breakthrough Performance Ritmo Salvaje 2007 Nominado MTV Movie Award Best Kiss Ritmo Salvaje Compartido con: Meagan Good', 'Teen Choice Awards 2007 Nominado Teen Choice Award Choice Movie: Dance Ritmo Salvaje', 'TV Guide Awards 2013 Ganador TV Guide Award Fan Favorite Awards Scandal Compartido con: Kerry Washington · Darby Stanchfield · Katie Lowes · Guillermo Diaz · Jeff Perry · Joshua Malina · · ·', 'Young Hollywood Awards 2009 Ganador Young Hollywood Award Action Star'])]\n"
     ]
    },
    {
     "name": "stderr",
     "output_type": "stream",
     "text": [
      "  0%|          | 10/5241 [16:58<148:58:16, 102.52s/it]"
     ]
    },
    {
     "name": "stdout",
     "output_type": "stream",
     "text": [
      "[('Gemma Arterton', '1986', ['Reparto', 'Producción', 'Banda sonora'], ['Prince of Persia: Las arenas del tiempo', 'Byzantium', 'Melanie: La chica con todos los dones', 'Furia de titanes'], ['BAFTA Awards 2011 Nominado Rising Star Award', 'British Independent Film Awards 2018 Nominado British Independent Film Award Best Actress La búsqueda de la felicidad 2016 Nominado British Independent Film Award Best Supporting Actress Melanie: La chica con todos los dones', \"Broadcasting Press Guild Awards 2009 Nominado Broadcasting Press Guild Award Best Actress Tess, la de los D'Urberville\", 'Teen Choice Awards 2010 Nominado Teen Choice Award Choice Movie: Breakout Female Furia de titanes 2010 Nominado Teen Choice Award Choice Movie Actress: Fantasy Furia de titanesPrince of Persia: Las arenas del tiempo', 'Empire Awards, UK 2009 Ganador Empire Award Best Newcomer 2008 Nominado Empire Award Best Newcomer Supercañeras: El internado puede ser una fiesta'])]\n"
     ]
    },
    {
     "name": "stderr",
     "output_type": "stream",
     "text": [
      "  0%|          | 11/5241 [18:32<145:15:15, 99.98s/it] "
     ]
    },
    {
     "name": "stdout",
     "output_type": "stream",
     "text": [
      "[('Tony Bassi', 'NULL', ['Vestuario', 'Efectos especiales', 'Reparto'], 'NULL', 'NULL')]\n"
     ]
    },
    {
     "name": "stderr",
     "output_type": "stream",
     "text": [
      "  0%|          | 12/5241 [20:07<142:57:47, 98.43s/it]"
     ]
    },
    {
     "name": "stdout",
     "output_type": "stream",
     "text": [
      "[('Jasmin Geljo', '1959', ['Reparto', 'Dirección', 'Producción'], 'NULL', 'NULL')]\n"
     ]
    },
    {
     "name": "stderr",
     "output_type": "stream",
     "text": [
      "  0%|          | 12/5241 [21:09<153:38:53, 105.78s/it]\n"
     ]
    },
    {
     "ename": "NoSuchWindowException",
     "evalue": "Message: no such window: target window already closed\nfrom unknown error: web view not found\n  (Session info: chrome=124.0.6367.119)\nStacktrace:\n\tGetHandleVerifier [0x00007FF6B9CC1562+60802]\n\t(No symbol) [0x00007FF6B9C3AC62]\n\t(No symbol) [0x00007FF6B9AF7CE4]\n\t(No symbol) [0x00007FF6B9ACDFDF]\n\t(No symbol) [0x00007FF6B9B71E57]\n\t(No symbol) [0x00007FF6B9B898D1]\n\t(No symbol) [0x00007FF6B9B6A923]\n\t(No symbol) [0x00007FF6B9B38FEC]\n\t(No symbol) [0x00007FF6B9B39C21]\n\tGetHandleVerifier [0x00007FF6B9FC41FD+3217949]\n\tGetHandleVerifier [0x00007FF6BA006197+3488183]\n\tGetHandleVerifier [0x00007FF6B9FFF11F+3459391]\n\tGetHandleVerifier [0x00007FF6B9D7B926+823622]\n\t(No symbol) [0x00007FF6B9C45FFF]\n\t(No symbol) [0x00007FF6B9C40F24]\n\t(No symbol) [0x00007FF6B9C410B2]\n\t(No symbol) [0x00007FF6B9C31904]\n\tBaseThreadInitThunk [0x00007FFFE92F257D+29]\n\tRtlUserThreadStart [0x00007FFFEB5AAA48+40]\n",
     "output_type": "error",
     "traceback": [
      "\u001b[1;31m---------------------------------------------------------------------------\u001b[0m",
      "\u001b[1;31mNoSuchWindowException\u001b[0m                     Traceback (most recent call last)",
      "Cell \u001b[1;32mIn[89], line 3\u001b[0m\n\u001b[0;32m      1\u001b[0m dic_peli\u001b[38;5;241m=\u001b[39m{\u001b[38;5;124m'\u001b[39m\u001b[38;5;124mid_peli\u001b[39m\u001b[38;5;124m'\u001b[39m:[], \u001b[38;5;124m'\u001b[39m\u001b[38;5;124mactores_10\u001b[39m\u001b[38;5;124m'\u001b[39m:[]}\n\u001b[0;32m      2\u001b[0m \u001b[38;5;28;01mfor\u001b[39;00m id_peli \u001b[38;5;129;01min\u001b[39;00m tqdm(lista_id_accion):\n\u001b[1;32m----> 3\u001b[0m     tupla_una_peli\u001b[38;5;241m=\u001b[39mtuplas_actores(id_peli)\n\u001b[0;32m      4\u001b[0m     \u001b[38;5;28mprint\u001b[39m(tupla_una_peli)\n\u001b[0;32m      5\u001b[0m     dic_peli[\u001b[38;5;124m'\u001b[39m\u001b[38;5;124mactores_10\u001b[39m\u001b[38;5;124m'\u001b[39m]\u001b[38;5;241m.\u001b[39mappend(tupla_una_peli)\n",
      "Cell \u001b[1;32mIn[88], line 85\u001b[0m, in \u001b[0;36mtuplas_actores\u001b[1;34m(id_pelicula)\u001b[0m\n\u001b[0;32m     82\u001b[0m sleep(\u001b[38;5;241m6\u001b[39m)\n\u001b[0;32m     84\u001b[0m \u001b[38;5;66;03m#hacemos scroll hasta CONOCIDO_POR:\u001b[39;00m\n\u001b[1;32m---> 85\u001b[0m driver\u001b[38;5;241m.\u001b[39mexecute_script(\u001b[38;5;124m\"\u001b[39m\u001b[38;5;124mwindow.scrollTo(0,2000)\u001b[39m\u001b[38;5;124m\"\u001b[39m)\n\u001b[0;32m     86\u001b[0m xpath_d\u001b[38;5;241m=\u001b[39m\u001b[38;5;124m'\u001b[39m\u001b[38;5;124m//*[@id=\u001b[39m\u001b[38;5;124m\"\u001b[39m\u001b[38;5;124m__next\u001b[39m\u001b[38;5;124m\"\u001b[39m\u001b[38;5;124m]/main/div/section[1]/div/section/div/div[1]/div[3]/section[1]\u001b[39m\u001b[38;5;124m'\u001b[39m\n\u001b[0;32m     87\u001b[0m pyhton_d\u001b[38;5;241m=\u001b[39m driver\u001b[38;5;241m.\u001b[39mfind_element(By\u001b[38;5;241m.\u001b[39mXPATH, xpath_d)\n",
      "File \u001b[1;32mc:\\Users\\marg_\\anaconda3\\Lib\\site-packages\\selenium\\webdriver\\remote\\webdriver.py:407\u001b[0m, in \u001b[0;36mWebDriver.execute_script\u001b[1;34m(self, script, *args)\u001b[0m\n\u001b[0;32m    404\u001b[0m converted_args \u001b[38;5;241m=\u001b[39m \u001b[38;5;28mlist\u001b[39m(args)\n\u001b[0;32m    405\u001b[0m command \u001b[38;5;241m=\u001b[39m Command\u001b[38;5;241m.\u001b[39mW3C_EXECUTE_SCRIPT\n\u001b[1;32m--> 407\u001b[0m \u001b[38;5;28;01mreturn\u001b[39;00m \u001b[38;5;28mself\u001b[39m\u001b[38;5;241m.\u001b[39mexecute(command, {\u001b[38;5;124m\"\u001b[39m\u001b[38;5;124mscript\u001b[39m\u001b[38;5;124m\"\u001b[39m: script, \u001b[38;5;124m\"\u001b[39m\u001b[38;5;124margs\u001b[39m\u001b[38;5;124m\"\u001b[39m: converted_args})[\u001b[38;5;124m\"\u001b[39m\u001b[38;5;124mvalue\u001b[39m\u001b[38;5;124m\"\u001b[39m]\n",
      "File \u001b[1;32mc:\\Users\\marg_\\anaconda3\\Lib\\site-packages\\selenium\\webdriver\\remote\\webdriver.py:347\u001b[0m, in \u001b[0;36mWebDriver.execute\u001b[1;34m(self, driver_command, params)\u001b[0m\n\u001b[0;32m    345\u001b[0m response \u001b[38;5;241m=\u001b[39m \u001b[38;5;28mself\u001b[39m\u001b[38;5;241m.\u001b[39mcommand_executor\u001b[38;5;241m.\u001b[39mexecute(driver_command, params)\n\u001b[0;32m    346\u001b[0m \u001b[38;5;28;01mif\u001b[39;00m response:\n\u001b[1;32m--> 347\u001b[0m     \u001b[38;5;28mself\u001b[39m\u001b[38;5;241m.\u001b[39merror_handler\u001b[38;5;241m.\u001b[39mcheck_response(response)\n\u001b[0;32m    348\u001b[0m     response[\u001b[38;5;124m\"\u001b[39m\u001b[38;5;124mvalue\u001b[39m\u001b[38;5;124m\"\u001b[39m] \u001b[38;5;241m=\u001b[39m \u001b[38;5;28mself\u001b[39m\u001b[38;5;241m.\u001b[39m_unwrap_value(response\u001b[38;5;241m.\u001b[39mget(\u001b[38;5;124m\"\u001b[39m\u001b[38;5;124mvalue\u001b[39m\u001b[38;5;124m\"\u001b[39m, \u001b[38;5;28;01mNone\u001b[39;00m))\n\u001b[0;32m    349\u001b[0m     \u001b[38;5;28;01mreturn\u001b[39;00m response\n",
      "File \u001b[1;32mc:\\Users\\marg_\\anaconda3\\Lib\\site-packages\\selenium\\webdriver\\remote\\errorhandler.py:229\u001b[0m, in \u001b[0;36mErrorHandler.check_response\u001b[1;34m(self, response)\u001b[0m\n\u001b[0;32m    227\u001b[0m         alert_text \u001b[38;5;241m=\u001b[39m value[\u001b[38;5;124m\"\u001b[39m\u001b[38;5;124malert\u001b[39m\u001b[38;5;124m\"\u001b[39m]\u001b[38;5;241m.\u001b[39mget(\u001b[38;5;124m\"\u001b[39m\u001b[38;5;124mtext\u001b[39m\u001b[38;5;124m\"\u001b[39m)\n\u001b[0;32m    228\u001b[0m     \u001b[38;5;28;01mraise\u001b[39;00m exception_class(message, screen, stacktrace, alert_text)  \u001b[38;5;66;03m# type: ignore[call-arg]  # mypy is not smart enough here\u001b[39;00m\n\u001b[1;32m--> 229\u001b[0m \u001b[38;5;28;01mraise\u001b[39;00m exception_class(message, screen, stacktrace)\n",
      "\u001b[1;31mNoSuchWindowException\u001b[0m: Message: no such window: target window already closed\nfrom unknown error: web view not found\n  (Session info: chrome=124.0.6367.119)\nStacktrace:\n\tGetHandleVerifier [0x00007FF6B9CC1562+60802]\n\t(No symbol) [0x00007FF6B9C3AC62]\n\t(No symbol) [0x00007FF6B9AF7CE4]\n\t(No symbol) [0x00007FF6B9ACDFDF]\n\t(No symbol) [0x00007FF6B9B71E57]\n\t(No symbol) [0x00007FF6B9B898D1]\n\t(No symbol) [0x00007FF6B9B6A923]\n\t(No symbol) [0x00007FF6B9B38FEC]\n\t(No symbol) [0x00007FF6B9B39C21]\n\tGetHandleVerifier [0x00007FF6B9FC41FD+3217949]\n\tGetHandleVerifier [0x00007FF6BA006197+3488183]\n\tGetHandleVerifier [0x00007FF6B9FFF11F+3459391]\n\tGetHandleVerifier [0x00007FF6B9D7B926+823622]\n\t(No symbol) [0x00007FF6B9C45FFF]\n\t(No symbol) [0x00007FF6B9C40F24]\n\t(No symbol) [0x00007FF6B9C410B2]\n\t(No symbol) [0x00007FF6B9C31904]\n\tBaseThreadInitThunk [0x00007FFFE92F257D+29]\n\tRtlUserThreadStart [0x00007FFFEB5AAA48+40]\n"
     ]
    }
   ],
   "source": [
    "dic_peli={'id_peli':[], 'actores_10':[]}\n",
    "for id_peli in tqdm(lista_id_accion):\n",
    "    tupla_una_peli=tuplas_actores(id_peli)\n",
    "    print(tupla_una_peli)\n",
    "    dic_peli['actores_10'].append(tupla_una_peli)\n",
    "    dic_peli['id_peli'].append(id_peli)\n",
    "print(dic_peli)"
   ]
  },
  {
   "cell_type": "code",
   "execution_count": 73,
   "metadata": {},
   "outputs": [
    {
     "name": "stderr",
     "output_type": "stream",
     "text": [
      "  0%|          | 0/5241 [00:42<?, ?it/s]\n"
     ]
    },
    {
     "ename": "KeyboardInterrupt",
     "evalue": "",
     "output_type": "error",
     "traceback": [
      "\u001b[1;31m---------------------------------------------------------------------------\u001b[0m",
      "\u001b[1;31mKeyboardInterrupt\u001b[0m                         Traceback (most recent call last)",
      "Cell \u001b[1;32mIn[73], line 3\u001b[0m\n\u001b[0;32m      1\u001b[0m dic_peli\u001b[38;5;241m=\u001b[39m{\u001b[38;5;124m'\u001b[39m\u001b[38;5;124mid_peli\u001b[39m\u001b[38;5;124m'\u001b[39m:[], \u001b[38;5;124m'\u001b[39m\u001b[38;5;124mactores_10\u001b[39m\u001b[38;5;124m'\u001b[39m:[]}\n\u001b[0;32m      2\u001b[0m \u001b[38;5;28;01mfor\u001b[39;00m id_peli \u001b[38;5;129;01min\u001b[39;00m tqdm(lista_id_accion):\n\u001b[1;32m----> 3\u001b[0m     tupla_una_peli\u001b[38;5;241m=\u001b[39mtuplas_actores(id_peli)\n\u001b[0;32m      4\u001b[0m     \u001b[38;5;28mprint\u001b[39m(tupla_una_peli)\n\u001b[0;32m      5\u001b[0m     dic_peli[\u001b[38;5;124m'\u001b[39m\u001b[38;5;124mactores_10\u001b[39m\u001b[38;5;124m'\u001b[39m]\u001b[38;5;241m.\u001b[39mappend(tupla_una_peli)\n",
      "Cell \u001b[1;32mIn[68], line 61\u001b[0m, in \u001b[0;36mtuplas_actores\u001b[1;34m(id_pelicula)\u001b[0m\n\u001b[0;32m     58\u001b[0m     año\u001b[38;5;241m=\u001b[39m\u001b[38;5;124m'\u001b[39m\u001b[38;5;124mNULL\u001b[39m\u001b[38;5;124m'\u001b[39m\n\u001b[0;32m     59\u001b[0m sleep(\u001b[38;5;241m2\u001b[39m)\n\u001b[1;32m---> 61\u001b[0m driver\u001b[38;5;241m.\u001b[39mback()\n\u001b[0;32m     62\u001b[0m \u001b[38;5;66;03m#volvemos a pagina anterior, de nuevo vamos al desplegable\u001b[39;00m\n\u001b[0;32m     63\u001b[0m \u001b[38;5;66;03m#acceso a los PREMIOS\u001b[39;00m\n\u001b[0;32m     64\u001b[0m driver\u001b[38;5;241m.\u001b[39mfind_element(\u001b[38;5;124m\"\u001b[39m\u001b[38;5;124mxpath\u001b[39m\u001b[38;5;124m\"\u001b[39m, \u001b[38;5;124m'\u001b[39m\u001b[38;5;124m//*[@id=\u001b[39m\u001b[38;5;124m\"\u001b[39m\u001b[38;5;124m__next\u001b[39m\u001b[38;5;124m\"\u001b[39m\u001b[38;5;124m]/main/div/section[1]/section/div[3]/section/section/div[1]/div/div[2]/button/span\u001b[39m\u001b[38;5;124m'\u001b[39m)\u001b[38;5;241m.\u001b[39mclick()\u001b[38;5;66;03m#acceso a la biografiasleep(5)\u001b[39;00m\n",
      "File \u001b[1;32mc:\\Users\\marg_\\anaconda3\\Lib\\site-packages\\selenium\\webdriver\\remote\\webdriver.py:550\u001b[0m, in \u001b[0;36mWebDriver.back\u001b[1;34m(self)\u001b[0m\n\u001b[0;32m    542\u001b[0m \u001b[38;5;28;01mdef\u001b[39;00m \u001b[38;5;21mback\u001b[39m(\u001b[38;5;28mself\u001b[39m) \u001b[38;5;241m-\u001b[39m\u001b[38;5;241m>\u001b[39m \u001b[38;5;28;01mNone\u001b[39;00m:\n\u001b[0;32m    543\u001b[0m \u001b[38;5;250m    \u001b[39m\u001b[38;5;124;03m\"\"\"Goes one step backward in the browser history.\u001b[39;00m\n\u001b[0;32m    544\u001b[0m \n\u001b[0;32m    545\u001b[0m \u001b[38;5;124;03m    :Usage:\u001b[39;00m\n\u001b[1;32m   (...)\u001b[0m\n\u001b[0;32m    548\u001b[0m \u001b[38;5;124;03m            driver.back()\u001b[39;00m\n\u001b[0;32m    549\u001b[0m \u001b[38;5;124;03m    \"\"\"\u001b[39;00m\n\u001b[1;32m--> 550\u001b[0m     \u001b[38;5;28mself\u001b[39m\u001b[38;5;241m.\u001b[39mexecute(Command\u001b[38;5;241m.\u001b[39mGO_BACK)\n",
      "File \u001b[1;32mc:\\Users\\marg_\\anaconda3\\Lib\\site-packages\\selenium\\webdriver\\remote\\webdriver.py:345\u001b[0m, in \u001b[0;36mWebDriver.execute\u001b[1;34m(self, driver_command, params)\u001b[0m\n\u001b[0;32m    342\u001b[0m     \u001b[38;5;28;01melif\u001b[39;00m \u001b[38;5;124m\"\u001b[39m\u001b[38;5;124msessionId\u001b[39m\u001b[38;5;124m\"\u001b[39m \u001b[38;5;129;01mnot\u001b[39;00m \u001b[38;5;129;01min\u001b[39;00m params:\n\u001b[0;32m    343\u001b[0m         params[\u001b[38;5;124m\"\u001b[39m\u001b[38;5;124msessionId\u001b[39m\u001b[38;5;124m\"\u001b[39m] \u001b[38;5;241m=\u001b[39m \u001b[38;5;28mself\u001b[39m\u001b[38;5;241m.\u001b[39msession_id\n\u001b[1;32m--> 345\u001b[0m response \u001b[38;5;241m=\u001b[39m \u001b[38;5;28mself\u001b[39m\u001b[38;5;241m.\u001b[39mcommand_executor\u001b[38;5;241m.\u001b[39mexecute(driver_command, params)\n\u001b[0;32m    346\u001b[0m \u001b[38;5;28;01mif\u001b[39;00m response:\n\u001b[0;32m    347\u001b[0m     \u001b[38;5;28mself\u001b[39m\u001b[38;5;241m.\u001b[39merror_handler\u001b[38;5;241m.\u001b[39mcheck_response(response)\n",
      "File \u001b[1;32mc:\\Users\\marg_\\anaconda3\\Lib\\site-packages\\selenium\\webdriver\\remote\\remote_connection.py:302\u001b[0m, in \u001b[0;36mRemoteConnection.execute\u001b[1;34m(self, command, params)\u001b[0m\n\u001b[0;32m    300\u001b[0m trimmed \u001b[38;5;241m=\u001b[39m \u001b[38;5;28mself\u001b[39m\u001b[38;5;241m.\u001b[39m_trim_large_entries(params)\n\u001b[0;32m    301\u001b[0m LOGGER\u001b[38;5;241m.\u001b[39mdebug(\u001b[38;5;124m\"\u001b[39m\u001b[38;5;132;01m%s\u001b[39;00m\u001b[38;5;124m \u001b[39m\u001b[38;5;132;01m%s\u001b[39;00m\u001b[38;5;124m \u001b[39m\u001b[38;5;132;01m%s\u001b[39;00m\u001b[38;5;124m\"\u001b[39m, command_info[\u001b[38;5;241m0\u001b[39m], url, \u001b[38;5;28mstr\u001b[39m(trimmed))\n\u001b[1;32m--> 302\u001b[0m \u001b[38;5;28;01mreturn\u001b[39;00m \u001b[38;5;28mself\u001b[39m\u001b[38;5;241m.\u001b[39m_request(command_info[\u001b[38;5;241m0\u001b[39m], url, body\u001b[38;5;241m=\u001b[39mdata)\n",
      "File \u001b[1;32mc:\\Users\\marg_\\anaconda3\\Lib\\site-packages\\selenium\\webdriver\\remote\\remote_connection.py:322\u001b[0m, in \u001b[0;36mRemoteConnection._request\u001b[1;34m(self, method, url, body)\u001b[0m\n\u001b[0;32m    319\u001b[0m     body \u001b[38;5;241m=\u001b[39m \u001b[38;5;28;01mNone\u001b[39;00m\n\u001b[0;32m    321\u001b[0m \u001b[38;5;28;01mif\u001b[39;00m \u001b[38;5;28mself\u001b[39m\u001b[38;5;241m.\u001b[39mkeep_alive:\n\u001b[1;32m--> 322\u001b[0m     response \u001b[38;5;241m=\u001b[39m \u001b[38;5;28mself\u001b[39m\u001b[38;5;241m.\u001b[39m_conn\u001b[38;5;241m.\u001b[39mrequest(method, url, body\u001b[38;5;241m=\u001b[39mbody, headers\u001b[38;5;241m=\u001b[39mheaders)\n\u001b[0;32m    323\u001b[0m     statuscode \u001b[38;5;241m=\u001b[39m response\u001b[38;5;241m.\u001b[39mstatus\n\u001b[0;32m    324\u001b[0m \u001b[38;5;28;01melse\u001b[39;00m:\n",
      "File \u001b[1;32mc:\\Users\\marg_\\anaconda3\\Lib\\site-packages\\urllib3\\_request_methods.py:118\u001b[0m, in \u001b[0;36mRequestMethods.request\u001b[1;34m(self, method, url, body, fields, headers, json, **urlopen_kw)\u001b[0m\n\u001b[0;32m    110\u001b[0m     \u001b[38;5;28;01mreturn\u001b[39;00m \u001b[38;5;28mself\u001b[39m\u001b[38;5;241m.\u001b[39mrequest_encode_url(\n\u001b[0;32m    111\u001b[0m         method,\n\u001b[0;32m    112\u001b[0m         url,\n\u001b[1;32m   (...)\u001b[0m\n\u001b[0;32m    115\u001b[0m         \u001b[38;5;241m*\u001b[39m\u001b[38;5;241m*\u001b[39murlopen_kw,\n\u001b[0;32m    116\u001b[0m     )\n\u001b[0;32m    117\u001b[0m \u001b[38;5;28;01melse\u001b[39;00m:\n\u001b[1;32m--> 118\u001b[0m     \u001b[38;5;28;01mreturn\u001b[39;00m \u001b[38;5;28mself\u001b[39m\u001b[38;5;241m.\u001b[39mrequest_encode_body(\n\u001b[0;32m    119\u001b[0m         method, url, fields\u001b[38;5;241m=\u001b[39mfields, headers\u001b[38;5;241m=\u001b[39mheaders, \u001b[38;5;241m*\u001b[39m\u001b[38;5;241m*\u001b[39murlopen_kw\n\u001b[0;32m    120\u001b[0m     )\n",
      "File \u001b[1;32mc:\\Users\\marg_\\anaconda3\\Lib\\site-packages\\urllib3\\_request_methods.py:217\u001b[0m, in \u001b[0;36mRequestMethods.request_encode_body\u001b[1;34m(self, method, url, fields, headers, encode_multipart, multipart_boundary, **urlopen_kw)\u001b[0m\n\u001b[0;32m    213\u001b[0m     extra_kw[\u001b[38;5;124m\"\u001b[39m\u001b[38;5;124mheaders\u001b[39m\u001b[38;5;124m\"\u001b[39m]\u001b[38;5;241m.\u001b[39msetdefault(\u001b[38;5;124m\"\u001b[39m\u001b[38;5;124mContent-Type\u001b[39m\u001b[38;5;124m\"\u001b[39m, content_type)\n\u001b[0;32m    215\u001b[0m extra_kw\u001b[38;5;241m.\u001b[39mupdate(urlopen_kw)\n\u001b[1;32m--> 217\u001b[0m \u001b[38;5;28;01mreturn\u001b[39;00m \u001b[38;5;28mself\u001b[39m\u001b[38;5;241m.\u001b[39murlopen(method, url, \u001b[38;5;241m*\u001b[39m\u001b[38;5;241m*\u001b[39mextra_kw)\n",
      "File \u001b[1;32mc:\\Users\\marg_\\anaconda3\\Lib\\site-packages\\urllib3\\poolmanager.py:443\u001b[0m, in \u001b[0;36mPoolManager.urlopen\u001b[1;34m(self, method, url, redirect, **kw)\u001b[0m\n\u001b[0;32m    441\u001b[0m     response \u001b[38;5;241m=\u001b[39m conn\u001b[38;5;241m.\u001b[39murlopen(method, url, \u001b[38;5;241m*\u001b[39m\u001b[38;5;241m*\u001b[39mkw)\n\u001b[0;32m    442\u001b[0m \u001b[38;5;28;01melse\u001b[39;00m:\n\u001b[1;32m--> 443\u001b[0m     response \u001b[38;5;241m=\u001b[39m conn\u001b[38;5;241m.\u001b[39murlopen(method, u\u001b[38;5;241m.\u001b[39mrequest_uri, \u001b[38;5;241m*\u001b[39m\u001b[38;5;241m*\u001b[39mkw)\n\u001b[0;32m    445\u001b[0m redirect_location \u001b[38;5;241m=\u001b[39m redirect \u001b[38;5;129;01mand\u001b[39;00m response\u001b[38;5;241m.\u001b[39mget_redirect_location()\n\u001b[0;32m    446\u001b[0m \u001b[38;5;28;01mif\u001b[39;00m \u001b[38;5;129;01mnot\u001b[39;00m redirect_location:\n",
      "File \u001b[1;32mc:\\Users\\marg_\\anaconda3\\Lib\\site-packages\\urllib3\\connectionpool.py:791\u001b[0m, in \u001b[0;36mHTTPConnectionPool.urlopen\u001b[1;34m(self, method, url, body, headers, retries, redirect, assert_same_host, timeout, pool_timeout, release_conn, chunked, body_pos, preload_content, decode_content, **response_kw)\u001b[0m\n\u001b[0;32m    788\u001b[0m response_conn \u001b[38;5;241m=\u001b[39m conn \u001b[38;5;28;01mif\u001b[39;00m \u001b[38;5;129;01mnot\u001b[39;00m release_conn \u001b[38;5;28;01melse\u001b[39;00m \u001b[38;5;28;01mNone\u001b[39;00m\n\u001b[0;32m    790\u001b[0m \u001b[38;5;66;03m# Make the request on the HTTPConnection object\u001b[39;00m\n\u001b[1;32m--> 791\u001b[0m response \u001b[38;5;241m=\u001b[39m \u001b[38;5;28mself\u001b[39m\u001b[38;5;241m.\u001b[39m_make_request(\n\u001b[0;32m    792\u001b[0m     conn,\n\u001b[0;32m    793\u001b[0m     method,\n\u001b[0;32m    794\u001b[0m     url,\n\u001b[0;32m    795\u001b[0m     timeout\u001b[38;5;241m=\u001b[39mtimeout_obj,\n\u001b[0;32m    796\u001b[0m     body\u001b[38;5;241m=\u001b[39mbody,\n\u001b[0;32m    797\u001b[0m     headers\u001b[38;5;241m=\u001b[39mheaders,\n\u001b[0;32m    798\u001b[0m     chunked\u001b[38;5;241m=\u001b[39mchunked,\n\u001b[0;32m    799\u001b[0m     retries\u001b[38;5;241m=\u001b[39mretries,\n\u001b[0;32m    800\u001b[0m     response_conn\u001b[38;5;241m=\u001b[39mresponse_conn,\n\u001b[0;32m    801\u001b[0m     preload_content\u001b[38;5;241m=\u001b[39mpreload_content,\n\u001b[0;32m    802\u001b[0m     decode_content\u001b[38;5;241m=\u001b[39mdecode_content,\n\u001b[0;32m    803\u001b[0m     \u001b[38;5;241m*\u001b[39m\u001b[38;5;241m*\u001b[39mresponse_kw,\n\u001b[0;32m    804\u001b[0m )\n\u001b[0;32m    806\u001b[0m \u001b[38;5;66;03m# Everything went great!\u001b[39;00m\n\u001b[0;32m    807\u001b[0m clean_exit \u001b[38;5;241m=\u001b[39m \u001b[38;5;28;01mTrue\u001b[39;00m\n",
      "File \u001b[1;32mc:\\Users\\marg_\\anaconda3\\Lib\\site-packages\\urllib3\\connectionpool.py:537\u001b[0m, in \u001b[0;36mHTTPConnectionPool._make_request\u001b[1;34m(self, conn, method, url, body, headers, retries, timeout, chunked, response_conn, preload_content, decode_content, enforce_content_length)\u001b[0m\n\u001b[0;32m    535\u001b[0m \u001b[38;5;66;03m# Receive the response from the server\u001b[39;00m\n\u001b[0;32m    536\u001b[0m \u001b[38;5;28;01mtry\u001b[39;00m:\n\u001b[1;32m--> 537\u001b[0m     response \u001b[38;5;241m=\u001b[39m conn\u001b[38;5;241m.\u001b[39mgetresponse()\n\u001b[0;32m    538\u001b[0m \u001b[38;5;28;01mexcept\u001b[39;00m (BaseSSLError, \u001b[38;5;167;01mOSError\u001b[39;00m) \u001b[38;5;28;01mas\u001b[39;00m e:\n\u001b[0;32m    539\u001b[0m     \u001b[38;5;28mself\u001b[39m\u001b[38;5;241m.\u001b[39m_raise_timeout(err\u001b[38;5;241m=\u001b[39me, url\u001b[38;5;241m=\u001b[39murl, timeout_value\u001b[38;5;241m=\u001b[39mread_timeout)\n",
      "File \u001b[1;32mc:\\Users\\marg_\\anaconda3\\Lib\\site-packages\\urllib3\\connection.py:461\u001b[0m, in \u001b[0;36mHTTPConnection.getresponse\u001b[1;34m(self)\u001b[0m\n\u001b[0;32m    458\u001b[0m \u001b[38;5;28;01mfrom\u001b[39;00m \u001b[38;5;21;01m.\u001b[39;00m\u001b[38;5;21;01mresponse\u001b[39;00m \u001b[38;5;28;01mimport\u001b[39;00m HTTPResponse\n\u001b[0;32m    460\u001b[0m \u001b[38;5;66;03m# Get the response from http.client.HTTPConnection\u001b[39;00m\n\u001b[1;32m--> 461\u001b[0m httplib_response \u001b[38;5;241m=\u001b[39m \u001b[38;5;28msuper\u001b[39m()\u001b[38;5;241m.\u001b[39mgetresponse()\n\u001b[0;32m    463\u001b[0m \u001b[38;5;28;01mtry\u001b[39;00m:\n\u001b[0;32m    464\u001b[0m     assert_header_parsing(httplib_response\u001b[38;5;241m.\u001b[39mmsg)\n",
      "File \u001b[1;32mc:\\Users\\marg_\\anaconda3\\Lib\\http\\client.py:1386\u001b[0m, in \u001b[0;36mHTTPConnection.getresponse\u001b[1;34m(self)\u001b[0m\n\u001b[0;32m   1384\u001b[0m \u001b[38;5;28;01mtry\u001b[39;00m:\n\u001b[0;32m   1385\u001b[0m     \u001b[38;5;28;01mtry\u001b[39;00m:\n\u001b[1;32m-> 1386\u001b[0m         response\u001b[38;5;241m.\u001b[39mbegin()\n\u001b[0;32m   1387\u001b[0m     \u001b[38;5;28;01mexcept\u001b[39;00m \u001b[38;5;167;01mConnectionError\u001b[39;00m:\n\u001b[0;32m   1388\u001b[0m         \u001b[38;5;28mself\u001b[39m\u001b[38;5;241m.\u001b[39mclose()\n",
      "File \u001b[1;32mc:\\Users\\marg_\\anaconda3\\Lib\\http\\client.py:325\u001b[0m, in \u001b[0;36mHTTPResponse.begin\u001b[1;34m(self)\u001b[0m\n\u001b[0;32m    323\u001b[0m \u001b[38;5;66;03m# read until we get a non-100 response\u001b[39;00m\n\u001b[0;32m    324\u001b[0m \u001b[38;5;28;01mwhile\u001b[39;00m \u001b[38;5;28;01mTrue\u001b[39;00m:\n\u001b[1;32m--> 325\u001b[0m     version, status, reason \u001b[38;5;241m=\u001b[39m \u001b[38;5;28mself\u001b[39m\u001b[38;5;241m.\u001b[39m_read_status()\n\u001b[0;32m    326\u001b[0m     \u001b[38;5;28;01mif\u001b[39;00m status \u001b[38;5;241m!=\u001b[39m CONTINUE:\n\u001b[0;32m    327\u001b[0m         \u001b[38;5;28;01mbreak\u001b[39;00m\n",
      "File \u001b[1;32mc:\\Users\\marg_\\anaconda3\\Lib\\http\\client.py:286\u001b[0m, in \u001b[0;36mHTTPResponse._read_status\u001b[1;34m(self)\u001b[0m\n\u001b[0;32m    285\u001b[0m \u001b[38;5;28;01mdef\u001b[39;00m \u001b[38;5;21m_read_status\u001b[39m(\u001b[38;5;28mself\u001b[39m):\n\u001b[1;32m--> 286\u001b[0m     line \u001b[38;5;241m=\u001b[39m \u001b[38;5;28mstr\u001b[39m(\u001b[38;5;28mself\u001b[39m\u001b[38;5;241m.\u001b[39mfp\u001b[38;5;241m.\u001b[39mreadline(_MAXLINE \u001b[38;5;241m+\u001b[39m \u001b[38;5;241m1\u001b[39m), \u001b[38;5;124m\"\u001b[39m\u001b[38;5;124miso-8859-1\u001b[39m\u001b[38;5;124m\"\u001b[39m)\n\u001b[0;32m    287\u001b[0m     \u001b[38;5;28;01mif\u001b[39;00m \u001b[38;5;28mlen\u001b[39m(line) \u001b[38;5;241m>\u001b[39m _MAXLINE:\n\u001b[0;32m    288\u001b[0m         \u001b[38;5;28;01mraise\u001b[39;00m LineTooLong(\u001b[38;5;124m\"\u001b[39m\u001b[38;5;124mstatus line\u001b[39m\u001b[38;5;124m\"\u001b[39m)\n",
      "File \u001b[1;32mc:\\Users\\marg_\\anaconda3\\Lib\\socket.py:706\u001b[0m, in \u001b[0;36mSocketIO.readinto\u001b[1;34m(self, b)\u001b[0m\n\u001b[0;32m    704\u001b[0m \u001b[38;5;28;01mwhile\u001b[39;00m \u001b[38;5;28;01mTrue\u001b[39;00m:\n\u001b[0;32m    705\u001b[0m     \u001b[38;5;28;01mtry\u001b[39;00m:\n\u001b[1;32m--> 706\u001b[0m         \u001b[38;5;28;01mreturn\u001b[39;00m \u001b[38;5;28mself\u001b[39m\u001b[38;5;241m.\u001b[39m_sock\u001b[38;5;241m.\u001b[39mrecv_into(b)\n\u001b[0;32m    707\u001b[0m     \u001b[38;5;28;01mexcept\u001b[39;00m timeout:\n\u001b[0;32m    708\u001b[0m         \u001b[38;5;28mself\u001b[39m\u001b[38;5;241m.\u001b[39m_timeout_occurred \u001b[38;5;241m=\u001b[39m \u001b[38;5;28;01mTrue\u001b[39;00m\n",
      "\u001b[1;31mKeyboardInterrupt\u001b[0m: "
     ]
    }
   ],
   "source": [
    "\n",
    "dic_peli={'id_peli':[], 'actores_10':[]}\n",
    "for id_peli in tqdm(lista_id_accion):\n",
    "    tupla_una_peli=tuplas_actores(id_peli)\n",
    "    print(tupla_una_peli)\n",
    "    dic_peli['actores_10'].append(tupla_una_peli)\n",
    "    dic_peli['id_peli'].append(id_peli)\n",
    "print(dic_peli)"
   ]
  },
  {
   "cell_type": "code",
   "execution_count": null,
   "metadata": {},
   "outputs": [],
   "source": [
    "#esto cambia segun la ruta donde este guardado el csv\n",
    "\n",
    "datos_accion_csv =pd.read_csv(r'C:\\Users\\Jordy_000\\Desktop\\ADALAB\\project-da-promo-H-module-2-team-Interstellar\\API\\CSVs\\Películas_Acción_2010-2025.csv') \n",
    "datos_drama_cvs = pd.read_csv(r'C:\\Users\\Jordy_000\\Desktop\\ADALAB\\project-da-promo-H-module-2-team-Interstellar\\API\\CSVs\\Películas_Comedia_2010-2025.csv')\n",
    "datos_comedia_cvs = pd.read_csv(r'C:\\Users\\Jordy_000\\Desktop\\ADALAB\\project-da-promo-H-module-2-team-Interstellar\\API\\CSVs\\Películas_Comedia_2010-2025.csv')"
   ]
  },
  {
   "cell_type": "code",
   "execution_count": null,
   "metadata": {},
   "outputs": [],
   "source": [
    "id_accion = datos_accion_csv[\"ID_IMDB\"]\n",
    "id_drama = datos_drama_cvs[\"ID_IMDB\"]\n",
    "id_comedia = datos_comedia_cvs[\"ID_IMDB\"]"
   ]
  },
  {
   "cell_type": "code",
   "execution_count": null,
   "metadata": {},
   "outputs": [],
   "source": [
    "#convierto en listas\n",
    "\n",
    "lista_id_accion = id_accion.to_list()\n",
    "lista_id_comedia = id_comedia.to_list()\n",
    "lista_id_drama = id_drama.to_list()"
   ]
  },
  {
   "cell_type": "code",
   "execution_count": null,
   "metadata": {},
   "outputs": [],
   "source": [
    "#  todos los id en una lista\n",
    "\n",
    "union_listas =[]\n",
    "union_listas.extend(lista_id_accion)\n",
    "union_listas.extend(lista_id_comedia)\n",
    "union_listas.extend(lista_id_drama)"
   ]
  },
  {
   "cell_type": "code",
   "execution_count": null,
   "metadata": {},
   "outputs": [],
   "source": [
    "# cuento numero de elementos en la lista\n",
    "print(len(union_listas))"
   ]
  },
  {
   "cell_type": "code",
   "execution_count": null,
   "metadata": {},
   "outputs": [],
   "source": [
    "# elimino id duplicados duplicados\n",
    "\n",
    "lista_id_set = set(union_listas)\n",
    "print(len(lista_id_set))"
   ]
  },
  {
   "cell_type": "code",
   "execution_count": null,
   "metadata": {},
   "outputs": [],
   "source": [
    "#lo convierto en lista\n",
    "\n",
    "lista_id = list(lista_id_set)\n",
    "len(lista_id)"
   ]
  }
 ],
 "metadata": {
  "kernelspec": {
   "display_name": "base",
   "language": "python",
   "name": "python3"
  },
  "language_info": {
   "codemirror_mode": {
    "name": "ipython",
    "version": 3
   },
   "file_extension": ".py",
   "mimetype": "text/x-python",
   "name": "python",
   "nbconvert_exporter": "python",
   "pygments_lexer": "ipython3",
   "version": "3.11.7"
  }
 },
 "nbformat": 4,
 "nbformat_minor": 2
}
