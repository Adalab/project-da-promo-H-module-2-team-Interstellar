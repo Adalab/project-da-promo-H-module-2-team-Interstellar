{
 "cells": [
  {
   "cell_type": "code",
   "execution_count": 14,
   "metadata": {},
   "outputs": [],
   "source": [
    "# !pip install requests\n",
    "# !pip install pandas"
   ]
  },
  {
   "cell_type": "code",
   "execution_count": 15,
   "metadata": {},
   "outputs": [],
   "source": [
    "from bs4 import BeautifulSoup \n",
    "import pandas as pd\n",
    "import requests \n",
    "import re\n",
    "\n",
    "pd.set_option ('display.max_columns', None)"
   ]
  },
  {
   "cell_type": "code",
   "execution_count": 20,
   "metadata": {},
   "outputs": [],
   "source": [
    "url = \"https://moviesdatabase.p.rapidapi.com/titles\"\n",
    "\n",
    "querystring = {\"genre\":\"Drama\",\"startYear\":\"2010\",\"titleType\":\"movie\",\"endYear\":\"2024\"}\n",
    "\n",
    "headers = {\n",
    "\t\"X-RapidAPI-Key\": \"7afebd53f4msh5a5378a53b56ed5p11796bjsn19ceecfe1a26\",\n",
    "\t\"X-RapidAPI-Host\": \"moviesdatabase.p.rapidapi.com\"\n",
    "}\n",
    "\n",
    "response = requests.get(url, headers=headers, params=querystring)\n",
    "\n",
    "json_pelis = response.json()"
   ]
  },
  {
   "cell_type": "code",
   "execution_count": 17,
   "metadata": {},
   "outputs": [],
   "source": [
    "# rango_pagina=range(1,11)\n",
    "# resultados_drama = []\n",
    "\n",
    "# for pagina in rango_pagina:\n",
    "#     url = f\"https://moviesdatabase.p.rapidapi.com/titles&page={pagina}\"\n",
    "    \n",
    "#     resultados_drama.extend(json_pelis)"
   ]
  },
  {
   "cell_type": "code",
   "execution_count": 18,
   "metadata": {},
   "outputs": [
    {
     "ename": "NameError",
     "evalue": "name 'llamar_url' is not defined",
     "output_type": "error",
     "traceback": [
      "\u001b[0;31m---------------------------------------------------------------------------\u001b[0m",
      "\u001b[0;31mNameError\u001b[0m                                 Traceback (most recent call last)",
      "\u001b[0;32m/tmp/ipykernel_1048/572999344.py\u001b[0m in \u001b[0;36m<module>\u001b[0;34m\u001b[0m\n\u001b[1;32m      5\u001b[0m     \u001b[0murl\u001b[0m\u001b[0;34m=\u001b[0m \u001b[0;34mf\"https://moviesdatabase.p.rapidapi.com/titles?titleType=movie&endYear=2024&startYear=2010&genre=Drama&page={pagina}\"\u001b[0m\u001b[0;34m\u001b[0m\u001b[0;34m\u001b[0m\u001b[0m\n\u001b[1;32m      6\u001b[0m \u001b[0;34m\u001b[0m\u001b[0m\n\u001b[0;32m----> 7\u001b[0;31m     \u001b[0mdatos_peli\u001b[0m\u001b[0;34m=\u001b[0m\u001b[0mllamar_url\u001b[0m\u001b[0;34m(\u001b[0m\u001b[0murl_drama\u001b[0m\u001b[0;34m)\u001b[0m\u001b[0;34m\u001b[0m\u001b[0;34m\u001b[0m\u001b[0m\n\u001b[0m\u001b[1;32m      8\u001b[0m     \u001b[0mresultados_drama\u001b[0m\u001b[0;34m.\u001b[0m\u001b[0mextend\u001b[0m\u001b[0;34m(\u001b[0m\u001b[0mdatos_peli\u001b[0m\u001b[0;34m)\u001b[0m\u001b[0;34m\u001b[0m\u001b[0;34m\u001b[0m\u001b[0m\n",
      "\u001b[0;31mNameError\u001b[0m: name 'llamar_url' is not defined"
     ]
    }
   ],
   "source": [
    "rango_pagina=range(1,6)\n",
    "resultados_drama = []\n",
    "\n",
    "for pagina in rango_pagina:\n",
    "    url2= f\"https://moviesdatabase.p.rapidapi.com/titles?titleType=movie&endYear=2024&startYear=2010&genre=Drama&page={pagina}\"\n",
    "    \n",
    "    datos_peli=llamar_url(url1)\n",
    "    resultados_drama.extend(datos_peli)"
   ]
  },
  {
   "cell_type": "code",
   "execution_count": null,
   "metadata": {},
   "outputs": [],
   "source": [
    "lista_drama = []\n",
    "def limpiar_json (json_pelis):\n",
    "    if 'results' in json_pelis:\n",
    "        for peli in json_pelis ['results']:\n",
    "            \n",
    "            tipo_peli = \"Película\"\n",
    "            nombre_peli = peli.get('titleText', {}).get('text', 'Unknown')\n",
    "            id_peli = peli.get('id', 'Unknown')\n",
    "            lanza_peli = peli.get('releaseDate', {})\n",
    "            año_peli = lanza_peli.get('year', 'Unknown')\n",
    "            mes_peli = lanza_peli.get('month', 'Unknown')\n",
    "            if mes_peli is None:\n",
    "                mes_peli = 'Unknown'\n",
    "            elif isinstance(mes_peli, int):\n",
    "                mes_peli = int(mes_peli)\n",
    "\n",
    "            movie_info = (tipo_peli, nombre_peli, año_peli, mes_peli, id_peli)\n",
    "            lista_drama.append(movie_info)\n",
    "    return lista_drama"
   ]
  },
  {
   "cell_type": "code",
   "execution_count": null,
   "metadata": {},
   "outputs": [],
   "source": [
    "rango_pagina=range(1,6)\n",
    "resultados_drama = []\n",
    "\n",
    "for pagina in rango_pagina:\n",
    "    url= f\"https://moviesdatabase.p.rapidapi.com/titles?titleType=movie&endYear=2024&startYear=2010&genre=Drama&page={pagina}\"\n",
    "    \n",
    "    resultados_drama.extend(lista_drama)"
   ]
  },
  {
   "cell_type": "code",
   "execution_count": null,
   "metadata": {},
   "outputs": [
    {
     "data": {
      "text/plain": [
       "[]"
      ]
     },
     "execution_count": 324,
     "metadata": {},
     "output_type": "execute_result"
    }
   ],
   "source": [
    "len(resultados_drama)\n",
    "resultados_drama"
   ]
  }
 ],
 "metadata": {
  "kernelspec": {
   "display_name": "base",
   "language": "python",
   "name": "python3"
  },
  "language_info": {
   "codemirror_mode": {
    "name": "ipython",
    "version": 3
   },
   "file_extension": ".py",
   "mimetype": "text/x-python",
   "name": "python",
   "nbconvert_exporter": "python",
   "pygments_lexer": "ipython3",
   "version": "3.9.7"
  }
 },
 "nbformat": 4,
 "nbformat_minor": 2
}
