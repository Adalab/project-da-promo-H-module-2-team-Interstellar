{
 "cells": [
  {
   "cell_type": "code",
   "execution_count": null,
   "metadata": {},
   "outputs": [],
   "source": [
    "# !pip install requests\n",
    "# !pip install pandas"
   ]
  },
  {
   "cell_type": "code",
   "execution_count": null,
   "metadata": {},
   "outputs": [],
   "source": [
    "from bs4 import BeautifulSoup \n",
    "import pandas as pd\n",
    "import requests \n",
    "import re\n",
    "\n",
    "pd.set_option ('display.max_columns', None)"
   ]
  },
  {
   "cell_type": "code",
   "execution_count": null,
   "metadata": {},
   "outputs": [],
   "source": [
    "url = \"https://moviesdatabase.p.rapidapi.com/titles?titleType=movie&endYear=2024&startYear=2010&genre=Drama&page=2\""
   ]
  },
  {
   "cell_type": "code",
   "execution_count": null,
   "metadata": {},
   "outputs": [],
   "source": [
    "# querystring = {'genre': 'Drama','startYear': '2010','list': 'most_pop_movies','endYear': '2024'}\n",
    "headers = {\"X-RapidAPI-Key\": \"431e779057msh1f0c87c2937a329p125efcjsn45064e4b4925\",\n",
    "        \"X-RapidAPI-Host\": \"moviesdatabase.p.rapidapi.com\"}\n",
    "response = requests.get(url, headers=headers)    "
   ]
  },
  {
   "cell_type": "code",
   "execution_count": null,
   "metadata": {},
   "outputs": [],
   "source": [
    "datos_sucios = response.json()"
   ]
  },
  {
   "cell_type": "code",
   "execution_count": null,
   "metadata": {},
   "outputs": [],
   "source": [
    "datos_sucios ['results']"
   ]
  },
  {
   "cell_type": "code",
   "execution_count": null,
   "metadata": {},
   "outputs": [],
   "source": [
    "len (datos_sucios ['results'])"
   ]
  },
  {
   "cell_type": "code",
   "execution_count": 85,
   "metadata": {},
   "outputs": [],
   "source": [
    "def limpiar_accion(datos_sucios):\n",
    "    lista_pelis = []\n",
    "    if 'results' in datos_sucios:\n",
    "        for peli in datos_sucios['results']:\n",
    "            \n",
    "            tipo_peli = \"Película\"\n",
    "            nombre_peli = peli.get('titleText', {}).get('text', 'Unknown')\n",
    "            id_peli = peli.get('id', 'Unknown')\n",
    "            lanza_peli = peli.get('releaseDate', {})\n",
    "            año_peli = lanza_peli.get('year', 'Unknown')\n",
    "            mes_peli = lanza_peli.get('month', 'Unknown')\n",
    "            if mes_peli is None:\n",
    "                mes_peli = 'Unknown'\n",
    "            elif isinstance(mes_peli, int):\n",
    "                mes_peli = int(mes_peli)\n",
    "\n",
    "            movie_info = (tipo_peli, nombre_peli, año_peli, mes_peli, id_peli)\n",
    "            lista_pelis.append(movie_info)\n",
    "    return lista_pelis\n",
    "\n",
    "\n"
   ]
  },
  {
   "cell_type": "code",
   "execution_count": 87,
   "metadata": {},
   "outputs": [],
   "source": [
    "def limpiar_accion(datos_sucios):\n",
    "    lista_pelis = []\n",
    "    if 'results' in datos_sucios:\n",
    "        for peli in datos_sucios['results']:\n",
    "            \n",
    "            tipo_peli = \"Película\"\n",
    "            nombre_peli = peli.get('titleText', {}).get('text', 'Unknown')\n",
    "            id_peli = peli.get('id', 'Unknown')\n",
    "            lanza_peli = peli.get('releaseDate', {})\n",
    "            año_peli = lanza_peli.get('year', 'Unknown')\n",
    "            mes_peli = lanza_peli.get('month', 'Unknown')\n",
    "            if mes_peli is None:\n",
    "                mes_peli = 'Unknown'\n",
    "            elif isinstance(mes_peli, int):\n",
    "                mes_peli = int(mes_peli)\n",
    "\n",
    "            movie_info = (tipo_peli, nombre_peli, año_peli, mes_peli, id_peli)\n",
    "            lista_pelis.append(movie_info)\n",
    "    return lista_pelis"
   ]
  },
  {
   "cell_type": "code",
   "execution_count": 88,
   "metadata": {},
   "outputs": [],
   "source": [
    "def limpiar_accion(datos_sucios):\n",
    "    lista_pelis = []\n",
    "    if 'results' in datos_sucios:\n",
    "        for peli in datos_sucios['results']:\n",
    "            \n",
    "            tipo_peli = \"Película\"\n",
    "            nombre_peli = peli.get('titleText', {}).get('text', 'Unknown')\n",
    "            id_peli = peli.get('id', 'Unknown')\n",
    "            lanza_peli = peli.get('releaseDate', {})\n",
    "            año_peli = lanza_peli.get('year', 'Unknown')\n",
    "            mes_peli = lanza_peli.get('month', 'Unknown')\n",
    "            if mes_peli is None:\n",
    "                mes_peli = 'Unknown'\n",
    "            elif isinstance(mes_peli, int):\n",
    "                mes_peli = int(mes_peli)\n",
    "\n",
    "            movie_info = (tipo_peli, nombre_peli, año_peli, mes_peli, id_peli)\n",
    "            lista_pelis.append(movie_info)\n",
    "    return lista_pelis"
   ]
  },
  {
   "cell_type": "code",
   "execution_count": 86,
   "metadata": {},
   "outputs": [
    {
     "data": {
      "text/plain": [
       "[('Película', 'Heaven and Hell', 2024, 7, 'tt12861438'),\n",
       " ('Película', 'Broken Glass', 2024, 2, 'tt13036100'),\n",
       " ('Película', 'A Quiet Place: Day One', 2024, 6, 'tt13433802'),\n",
       " ('Película', 'Three Couples Freed', 2024, 1, 'tt13561128'),\n",
       " ('Película', 'Vo Ladki', 2024, 11, 'tt13576680'),\n",
       " ('Película', 'Gina', 2024, 9, 'tt1365464'),\n",
       " ('Película', \"We Don't Say Retard Anymore\", 2024, 4, 'tt13695406'),\n",
       " ('Película', 'Reckless', 2024, 11, 'tt13965596'),\n",
       " ('Película', 'An Irish Angel', 2024, 4, 'tt14117392'),\n",
       " ('Película', 'Una Noche Buena', 2024, 12, 'tt14256984')]"
      ]
     },
     "execution_count": 86,
     "metadata": {},
     "output_type": "execute_result"
    }
   ],
   "source": [
    "limpiar_pelis (datos_sucios)"
   ]
  }
 ],
 "metadata": {
  "kernelspec": {
   "display_name": "base",
   "language": "python",
   "name": "python3"
  },
  "language_info": {
   "codemirror_mode": {
    "name": "ipython",
    "version": 3
   },
   "file_extension": ".py",
   "mimetype": "text/x-python",
   "name": "python",
   "nbconvert_exporter": "python",
   "pygments_lexer": "ipython3",
   "version": "3.9.7"
  }
 },
 "nbformat": 4,
 "nbformat_minor": 2
}
