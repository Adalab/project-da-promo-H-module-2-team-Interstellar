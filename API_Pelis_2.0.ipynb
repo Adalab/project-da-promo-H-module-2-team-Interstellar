{
 "cells": [
  {
   "cell_type": "code",
   "execution_count": null,
   "metadata": {},
   "outputs": [],
   "source": [
    "# !pip install requests\n",
    "# !pip install pandas"
   ]
  },
  {
   "cell_type": "code",
   "execution_count": null,
   "metadata": {},
   "outputs": [],
   "source": [
    "from bs4 import BeautifulSoup \n",
    "import pandas as pd\n",
    "import requests \n",
    "import re\n",
    "\n",
    "pd.set_option ('display.max_columns', None)"
   ]
  },
  {
   "cell_type": "code",
   "execution_count": null,
   "metadata": {},
   "outputs": [],
   "source": [
    "url_drama = \"https://moviesdatabase.p.rapidapi.com/titles?titleType=movie&endYear=2024&startYear=2010&genre=Drama&page=2\"\n",
    "url_comedia = \"https://moviesdatabase.p.rapidapi.com/titles?titleType=movie&endYear=2024&startYear=2010&genre=Comedy&page=2\"\n",
    "url_accion = \"https://moviesdatabase.p.rapidapi.com/titles?titleType=movie&endYear=2024&startYear=2010&genre=Action&page=2\""
   ]
  },
  {
   "cell_type": "code",
   "execution_count": null,
   "metadata": {},
   "outputs": [],
   "source": [
    "def llamar_pelis (): \n",
    "    headers = {\"X-RapidAPI-Key\": \"431e779057msh1f0c87c2937a329p125efcjsn45064e4b4925\",\n",
    "        \"X-RapidAPI-Host\": \"moviesdatabase.p.rapidapi.com\"}\n",
    "    response = requests.get(url_drama, headers=headers)    "
   ]
  },
  {
   "cell_type": "code",
   "execution_count": null,
   "metadata": {},
   "outputs": [],
   "source": [
    "sucios_drama = response.json()\n",
    "sucios_comedia = \n",
    "sucios_accion ="
   ]
  },
  {
   "cell_type": "code",
   "execution_count": null,
   "metadata": {},
   "outputs": [],
   "source": [
    "sucios_drama ['results']"
   ]
  },
  {
   "cell_type": "code",
   "execution_count": null,
   "metadata": {},
   "outputs": [],
   "source": [
    "len (sucios_drama ['results'])"
   ]
  },
  {
   "cell_type": "code",
   "execution_count": null,
   "metadata": {},
   "outputs": [],
   "source": [
    "def limpiar_drama(sucios_drama):\n",
    "    lista_pelis = []\n",
    "    if 'results' in sucios_drama:\n",
    "        for peli in sucios_drama ['results']:\n",
    "            \n",
    "            tipo_peli = \"Película\"\n",
    "            nombre_peli = peli.get('titleText', {}).get('text', 'Unknown')\n",
    "            id_peli = peli.get('id', 'Unknown')\n",
    "            lanza_peli = peli.get('releaseDate', {})\n",
    "            año_peli = lanza_peli.get('year', 'Unknown')\n",
    "            mes_peli = lanza_peli.get('month', 'Unknown')\n",
    "            if mes_peli is None:\n",
    "                mes_peli = 'Unknown'\n",
    "            elif isinstance(mes_peli, int):\n",
    "                mes_peli = int(mes_peli)\n",
    "\n",
    "            movie_info = (tipo_peli, nombre_peli, año_peli, mes_peli, id_peli)\n",
    "            lista_pelis.append(movie_info)\n",
    "    return lista_pelis\n",
    "\n",
    "\n"
   ]
  },
  {
   "cell_type": "code",
   "execution_count": null,
   "metadata": {},
   "outputs": [],
   "source": [
    "def limpiar_comedia(sucios_comedia):\n",
    "    lista_pelis = []\n",
    "    if 'results' in sucios_comedia:\n",
    "        for peli in sucios_comedia ['results']:\n",
    "            \n",
    "            tipo_peli = \"Película\"\n",
    "            nombre_peli = peli.get('titleText', {}).get('text', 'Unknown')\n",
    "            id_peli = peli.get('id', 'Unknown')\n",
    "            lanza_peli = peli.get('releaseDate', {})\n",
    "            año_peli = lanza_peli.get('year', 'Unknown')\n",
    "            mes_peli = lanza_peli.get('month', 'Unknown')\n",
    "            if mes_peli is None:\n",
    "                mes_peli = 'Unknown'\n",
    "            elif isinstance(mes_peli, int):\n",
    "                mes_peli = int(mes_peli)\n",
    "\n",
    "            movie_info = (tipo_peli, nombre_peli, año_peli, mes_peli, id_peli)\n",
    "            lista_pelis.append(movie_info)\n",
    "    return lista_pelis"
   ]
  },
  {
   "cell_type": "code",
   "execution_count": null,
   "metadata": {},
   "outputs": [],
   "source": [
    "def limpiar_accion(sucios_accion):\n",
    "    lista_pelis = []\n",
    "    if 'results' in sucios_accion:\n",
    "        for peli in sucios_accion['results']:\n",
    "            \n",
    "            tipo_peli = \"Película\"\n",
    "            nombre_peli = peli.get('titleText', {}).get('text', 'Unknown')\n",
    "            id_peli = peli.get('id', 'Unknown')\n",
    "            lanza_peli = peli.get('releaseDate', {})\n",
    "            año_peli = lanza_peli.get('year', 'Unknown')\n",
    "            mes_peli = lanza_peli.get('month', 'Unknown')\n",
    "            if mes_peli is None:\n",
    "                mes_peli = 'Unknown'\n",
    "            elif isinstance(mes_peli, int):\n",
    "                mes_peli = int(mes_peli)\n",
    "\n",
    "            movie_info = (tipo_peli, nombre_peli, año_peli, mes_peli, id_peli)\n",
    "            lista_pelis.append(movie_info)\n",
    "    return lista_pelis"
   ]
  },
  {
   "cell_type": "code",
   "execution_count": 122,
   "metadata": {},
   "outputs": [],
   "source": [
    "class PelisApis: \n",
    "    def __init__(self, url):\n",
    "        self.url = url\n",
    "        \n",
    "        def limpiar_accion(sucios_accion):\n",
    "            lista_pelis = []\n",
    "            \n",
    "            if 'results' in sucios_accion:\n",
    "                for peli in sucios_accion['results']:\n",
    "                    \n",
    "                    tipo_peli = \"Película\"\n",
    "                    nombre_peli = peli.get('titleText', {}).get('text', 'Unknown')\n",
    "                    id_peli = peli.get('id', 'Unknown')\n",
    "                    lanza_peli = peli.get('releaseDate', {})\n",
    "                    año_peli = lanza_peli.get('year', 'Unknown')\n",
    "                    mes_peli = lanza_peli.get('month', 'Unknown')\n",
    "                    \n",
    "                    if mes_peli is None:\n",
    "                        mes_peli = 'Unknown'\n",
    "                        \n",
    "                    elif isinstance(mes_peli, int):\n",
    "                        mes_peli = int(mes_peli)\n",
    "\n",
    "                    movie_info = (tipo_peli, nombre_peli, año_peli, mes_peli, id_peli)\n",
    "                    lista_pelis.append(movie_info)\n",
    "                    \n",
    "                    return lista_pelis\n",
    "        "
   ]
  }
 ],
 "metadata": {
  "kernelspec": {
   "display_name": "base",
   "language": "python",
   "name": "python3"
  },
  "language_info": {
   "codemirror_mode": {
    "name": "ipython",
    "version": 3
   },
   "file_extension": ".py",
   "mimetype": "text/x-python",
   "name": "python",
   "nbconvert_exporter": "python",
   "pygments_lexer": "ipython3",
   "version": "3.9.7"
  }
 },
 "nbformat": 4,
 "nbformat_minor": 2
}
