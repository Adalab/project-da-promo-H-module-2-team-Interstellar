{
 "cells": [
  {
   "cell_type": "code",
   "execution_count": null,
   "metadata": {},
   "outputs": [],
   "source": [
    "# !pip install requests\n",
    "# !pip install pandas"
   ]
  },
  {
   "cell_type": "code",
   "execution_count": 3,
   "metadata": {},
   "outputs": [],
   "source": [
    "from bs4 import BeautifulSoup \n",
    "import pandas as pd\n",
    "import requests \n",
    "import re\n",
    "\n",
    "pd.set_option ('display.max_columns', None)"
   ]
  },
  {
   "cell_type": "code",
   "execution_count": 31,
   "metadata": {},
   "outputs": [],
   "source": [
    "def llamar_pelis ():\n",
    "    url = \"https://moviesdatabase.p.rapidapi.com/titles\"\n",
    "    querystring = {'genre' : 'Drama', 'startYear': '2010','titleType': 'movie','endYear': '2024'}\n",
    "    headers = {\n",
    "        \"X-RapidAPI-Key\": \"431e779057msh1f0c87c2937a329p125efcjsn45064e4b4925\",\n",
    "        \"X-RapidAPI-Host\": \"moviesdatabase.p.rapidapi.com\"\n",
    "    }\n",
    "response = requests.get(url, headers=headers, params=querystring)\n",
    "\n",
    "\n",
    "    "
   ]
  },
  {
   "cell_type": "code",
   "execution_count": 23,
   "metadata": {},
   "outputs": [],
   "source": [
    "datos_sucios = response.json()"
   ]
  },
  {
   "cell_type": "code",
   "execution_count": 40,
   "metadata": {},
   "outputs": [],
   "source": [
    "datos_sucios ['results']"
   ]
  },
  {
   "cell_type": "code",
   "execution_count": 25,
   "metadata": {},
   "outputs": [
    {
     "data": {
      "text/html": [
       "<div>\n",
       "<style scoped>\n",
       "    .dataframe tbody tr th:only-of-type {\n",
       "        vertical-align: middle;\n",
       "    }\n",
       "\n",
       "    .dataframe tbody tr th {\n",
       "        vertical-align: top;\n",
       "    }\n",
       "\n",
       "    .dataframe thead th {\n",
       "        text-align: right;\n",
       "    }\n",
       "</style>\n",
       "<table border=\"1\" class=\"dataframe\">\n",
       "  <thead>\n",
       "    <tr style=\"text-align: right;\">\n",
       "      <th></th>\n",
       "      <th>_id</th>\n",
       "      <th>id</th>\n",
       "      <th>primaryImage</th>\n",
       "      <th>titleType</th>\n",
       "      <th>titleText</th>\n",
       "      <th>originalTitleText</th>\n",
       "      <th>releaseYear</th>\n",
       "      <th>releaseDate</th>\n",
       "    </tr>\n",
       "  </thead>\n",
       "  <tbody>\n",
       "    <tr>\n",
       "      <th>id</th>\n",
       "      <td>61e5975278c012aa34468cdb</td>\n",
       "      <td>tt12053936</td>\n",
       "      <td>rm3428067841</td>\n",
       "      <td>movie</td>\n",
       "      <td>NaN</td>\n",
       "      <td>NaN</td>\n",
       "      <td>NaN</td>\n",
       "      <td>NaN</td>\n",
       "    </tr>\n",
       "    <tr>\n",
       "      <th>width</th>\n",
       "      <td>61e5975278c012aa34468cdb</td>\n",
       "      <td>tt12053936</td>\n",
       "      <td>1728</td>\n",
       "      <td>NaN</td>\n",
       "      <td>NaN</td>\n",
       "      <td>NaN</td>\n",
       "      <td>NaN</td>\n",
       "      <td>NaN</td>\n",
       "    </tr>\n",
       "    <tr>\n",
       "      <th>height</th>\n",
       "      <td>61e5975278c012aa34468cdb</td>\n",
       "      <td>tt12053936</td>\n",
       "      <td>2304</td>\n",
       "      <td>NaN</td>\n",
       "      <td>NaN</td>\n",
       "      <td>NaN</td>\n",
       "      <td>NaN</td>\n",
       "      <td>NaN</td>\n",
       "    </tr>\n",
       "    <tr>\n",
       "      <th>url</th>\n",
       "      <td>61e5975278c012aa34468cdb</td>\n",
       "      <td>tt12053936</td>\n",
       "      <td>https://m.media-amazon.com/images/M/MV5BODE3Nj...</td>\n",
       "      <td>NaN</td>\n",
       "      <td>NaN</td>\n",
       "      <td>NaN</td>\n",
       "      <td>NaN</td>\n",
       "      <td>NaN</td>\n",
       "    </tr>\n",
       "    <tr>\n",
       "      <th>caption</th>\n",
       "      <td>61e5975278c012aa34468cdb</td>\n",
       "      <td>tt12053936</td>\n",
       "      <td>{'plainText': 'Mike Breyer and Lynne Newton in...</td>\n",
       "      <td>NaN</td>\n",
       "      <td>NaN</td>\n",
       "      <td>NaN</td>\n",
       "      <td>NaN</td>\n",
       "      <td>NaN</td>\n",
       "    </tr>\n",
       "  </tbody>\n",
       "</table>\n",
       "</div>"
      ],
      "text/plain": [
       "                              _id          id  \\\n",
       "id       61e5975278c012aa34468cdb  tt12053936   \n",
       "width    61e5975278c012aa34468cdb  tt12053936   \n",
       "height   61e5975278c012aa34468cdb  tt12053936   \n",
       "url      61e5975278c012aa34468cdb  tt12053936   \n",
       "caption  61e5975278c012aa34468cdb  tt12053936   \n",
       "\n",
       "                                              primaryImage titleType  \\\n",
       "id                                            rm3428067841     movie   \n",
       "width                                                 1728       NaN   \n",
       "height                                                2304       NaN   \n",
       "url      https://m.media-amazon.com/images/M/MV5BODE3Nj...       NaN   \n",
       "caption  {'plainText': 'Mike Breyer and Lynne Newton in...       NaN   \n",
       "\n",
       "        titleText originalTitleText releaseYear releaseDate  \n",
       "id            NaN               NaN         NaN         NaN  \n",
       "width         NaN               NaN         NaN         NaN  \n",
       "height        NaN               NaN         NaN         NaN  \n",
       "url           NaN               NaN         NaN         NaN  \n",
       "caption       NaN               NaN         NaN         NaN  "
      ]
     },
     "execution_count": 25,
     "metadata": {},
     "output_type": "execute_result"
    }
   ],
   "source": [
    "datos_medios = datos_sucios ['results'][6]\n",
    "df_medios = pd.DataFrame (datos_medios)\n",
    "df_medios.head ()"
   ]
  },
  {
   "cell_type": "code",
   "execution_count": 26,
   "metadata": {},
   "outputs": [
    {
     "data": {
      "text/plain": [
       "10"
      ]
     },
     "execution_count": 26,
     "metadata": {},
     "output_type": "execute_result"
    }
   ],
   "source": [
    "len (datos_sucios ['results'])"
   ]
  },
  {
   "cell_type": "code",
   "execution_count": 27,
   "metadata": {},
   "outputs": [
    {
     "name": "stdout",
     "output_type": "stream",
     "text": [
      "{'id': 'rm878544897', 'width': 1217, 'height': 1792, 'url': 'https://m.media-amazon.com/images/M/MV5BNDFmYWRhYmMtMDBiNS00OWZkLTk3ZmYtODMyZjdlMDFjNWNlXkEyXkFqcGdeQXVyNjA1NjIzMzQ@._V1_.jpg', 'caption': {'plainText': \"Mom's Coming (2024)\", '__typename': 'Markdown'}, '__typename': 'Image'}\n",
      "{'id': 'rm3631292161', 'width': 1010, 'height': 1440, 'url': 'https://m.media-amazon.com/images/M/MV5BY2RiYWM2ZjgtMWQ2My00ZmM3LTkyOWItZjMyYTRkYjRiZTNkXkEyXkFqcGdeQXVyMDU5NzQzNA@@._V1_.jpg', 'caption': {'plainText': 'Love Song and Power (2024)', '__typename': 'Markdown'}, '__typename': 'Image'}\n",
      "{'id': 'rm2460893441', 'width': 1000, 'height': 1500, 'url': 'https://m.media-amazon.com/images/M/MV5BMGMyNDg2ZjItMzk5MC00NzJmLTlmMDgtMmFjNjFmODg5ZTY5XkEyXkFqcGdeQXVyMTY3ODkyNDkz._V1_.jpg', 'caption': {'plainText': 'Adam Sandler in Spaceman (2024)', '__typename': 'Markdown'}, '__typename': 'Image'}\n",
      "{'id': 'rm3805117185', 'width': 720, 'height': 900, 'url': 'https://m.media-amazon.com/images/M/MV5BNWViZjhjZjYtZTBkMy00Nzg0LTg1ODgtYjMxNjM3MDJmNWNkXkEyXkFqcGdeQXVyMTM1NjM2ODg1._V1_.jpg', 'caption': {'plainText': 'Matt Damon, Louis Gossett Jr., Christopher Meloni, Ryan Reynolds, Sam Rockwell, Steve Carell, Maya Rudolph, Emily Blunt, Sebastian Maniscalco, Phoebe Waller-Bridge, Awkwafina, and Cailey Fleming in If - Låtsaskompisar (2024)', '__typename': 'Markdown'}, '__typename': 'Image'}\n",
      "{'id': 'rm1272953857', 'width': 1200, 'height': 1772, 'url': 'https://m.media-amazon.com/images/M/MV5BY2NiMDkzYmQtNjEyNC00MzU5LWEzOTgtYjI1YzdmOTZiOGNhXkEyXkFqcGdeQXVyMTIzNjI1OTY@._V1_.jpg', 'caption': {'plainText': 'The Accompanist Awakening (2024)', '__typename': 'Markdown'}, '__typename': 'Image'}\n",
      "{'id': 'rm731067905', 'width': 1074, 'height': 1325, 'url': 'https://m.media-amazon.com/images/M/MV5BMDIxNzE0NWItZTJhNi00ZWUyLTgyYzgtMjk5MzkxMjcwZjJjXkEyXkFqcGdeQXVyMTM1NjAwNTI2._V1_.jpg', 'caption': {'plainText': 'Manje Bistre 3 (2024)', '__typename': 'Markdown'}, '__typename': 'Image'}\n",
      "{'id': 'rm3428067841', 'width': 1728, 'height': 2304, 'url': 'https://m.media-amazon.com/images/M/MV5BODE3NjgwZDMtMGJjOC00MDg3LTkxODktNDFjYTJlYzAwZTAxXkEyXkFqcGdeQXVyMzg0NDUyNw@@._V1_.jpg', 'caption': {'plainText': 'Mike Breyer and Lynne Newton in Eternal Oath (2024)', '__typename': 'Markdown'}, '__typename': 'Image'}\n",
      "{'id': 'rm2310976257', 'width': 960, 'height': 540, 'url': 'https://m.media-amazon.com/images/M/MV5BMDdjZjI5NWMtZGJmNC00ZTZhLTk4M2MtNjRhYzQ5NzE0YjhkXkEyXkFqcGdeQXVyMzYzMzc1NTM@._V1_.jpg', 'caption': {'plainText': 'The Passion of the Gods (2024)', '__typename': 'Markdown'}, '__typename': 'Image'}\n",
      "{'id': 'rm497545985', 'width': 2200, 'height': 2946, 'url': 'https://m.media-amazon.com/images/M/MV5BMzg1YWIxOWUtNjYwZC00MmZjLThiNmItNjQxYjNkN2NkMzdlXkEyXkFqcGdeQXVyMjAwNDU5OTE@._V1_.jpg', 'caption': {'plainText': 'Escaping Tomorrow (2024)', '__typename': 'Markdown'}, '__typename': 'Image'}\n",
      "{'id': 'rm1992317697', 'width': 632, 'height': 572, 'url': 'https://m.media-amazon.com/images/M/MV5BMTgzMzdiMjQtYjM5NS00ZDcxLTg1N2UtOWNjZWYzMGRmYjVhXkEyXkFqcGdeQXVyMjQ1MzQyNDM@._V1_.jpg', 'caption': {'plainText': 'After dark (2024)', '__typename': 'Markdown'}, '__typename': 'Image'}\n"
     ]
    }
   ],
   "source": [
    "for diccionario  in datos_sucios ['results']:\n",
    "    clave_primaryImage = diccionario.get ('primaryImage')\n",
    "    print (clave_primaryImage)\n",
    "    "
   ]
  },
  {
   "cell_type": "code",
   "execution_count": null,
   "metadata": {},
   "outputs": [],
   "source": [
    "def limpiar_pelis(datos):\n",
    "    lista_pelis = []\n",
    "    if 'results' in datos:\n",
    "        for peli in datos['results']:\n",
    "            tipo_peli = \"Película\"\n",
    "            nombre_peli = peli.get('titleText', {}).get('text', 'Unknown')\n",
    "            id_peli = peli.get('id', 'Unknown')\n",
    "            lanza_peli = peli.get('releaseDate', {})\n",
    "\n",
    "            año_peli = lanza_peli.get('year', 'Unknown')\n",
    "            mes_peli = lanza_peli.get('month', 'Unknown')\n",
    "            if mes_peli is None:\n",
    "                mes_peli = 'Unknown'\n",
    "            elif isinstance(mes_peli, int):\n",
    "                mes_peli = int(mes_peli)\n",
    "\n",
    "            movie_info = (tipo_peli, nombre_peli, año_peli, mes_peli, id_peli)\n",
    "            lista_pelis.append(movie_info)\n",
    "    return lista_pelis\n",
    "\n",
    "\n",
    "datos_peliculas = llamar_pelis()\n",
    "pelis_procesadas = limpiar_pelis(datos_peliculas)\n",
    "\n",
    "for peli in pelis_procesadas:\n",
    "    print(peli)"
   ]
  }
 ],
 "metadata": {
  "kernelspec": {
   "display_name": "base",
   "language": "python",
   "name": "python3"
  },
  "language_info": {
   "codemirror_mode": {
    "name": "ipython",
    "version": 3
   },
   "file_extension": ".py",
   "mimetype": "text/x-python",
   "name": "python",
   "nbconvert_exporter": "python",
   "pygments_lexer": "ipython3",
   "version": "3.9.7"
  }
 },
 "nbformat": 4,
 "nbformat_minor": 2
}
