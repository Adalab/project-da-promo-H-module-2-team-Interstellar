{
 "cells": [
  {
   "cell_type": "code",
   "execution_count": 317,
   "metadata": {},
   "outputs": [],
   "source": [
    "# !pip install requests\n",
    "# !pip install pandas"
   ]
  },
  {
   "cell_type": "code",
   "execution_count": 318,
   "metadata": {},
   "outputs": [],
   "source": [
    "from bs4 import BeautifulSoup \n",
    "import pandas as pd\n",
    "import requests \n",
    "import re\n",
    "\n",
    "pd.set_option ('display.max_columns', None)"
   ]
  },
  {
   "cell_type": "code",
   "execution_count": 319,
   "metadata": {},
   "outputs": [],
   "source": [
    "url = \"https://moviesdatabase.p.rapidapi.com/titles\"\n",
    "\n",
    "querystring = {\"genre\":\"Drama\",\"startYear\":\"2010\",\"titleType\":\"movie\",\"endYear\":\"2024\"}\n",
    "\n",
    "headers = {\n",
    "\t\"X-RapidAPI-Key\": \"7afebd53f4msh5a5378a53b56ed5p11796bjsn19ceecfe1a26\",\n",
    "\t\"X-RapidAPI-Host\": \"moviesdatabase.p.rapidapi.com\"\n",
    "}\n",
    "\n",
    "response = requests.get(url, headers=headers, params=querystring)\n",
    "\n",
    "json_pelis = response.json()"
   ]
  },
  {
   "cell_type": "code",
   "execution_count": 320,
   "metadata": {},
   "outputs": [],
   "source": [
    "# rango_pagina=range(1,11)\n",
    "# resultados_drama = []\n",
    "\n",
    "# for pagina in rango_pagina:\n",
    "#     url = f\"https://moviesdatabase.p.rapidapi.com/titles&page={pagina}\"\n",
    "    \n",
    "#     resultados_drama.extend(json_pelis)"
   ]
  },
  {
   "cell_type": "code",
   "execution_count": 321,
   "metadata": {},
   "outputs": [],
   "source": [
    "rango_pagina=range(1,6)\n",
    "resultados_drama = []\n",
    "\n",
    "for pagina in rango_pagina:\n",
    "    url= f\"https://moviesdatabase.p.rapidapi.com/titles?titleType=movie&endYear=2024&startYear=2010&genre=Drama&page={pagina}\"\n",
    "    \n",
    "    datos_peli=llamar_url(url_drama)\n",
    "    resultados_drama.extend(datos_peli)"
   ]
  },
  {
   "cell_type": "code",
   "execution_count": 322,
   "metadata": {},
   "outputs": [],
   "source": [
    "lista_drama = []\n",
    "def limpiar_json (json_pelis):\n",
    "    if 'results' in json_pelis:\n",
    "        for peli in json_pelis ['results']:\n",
    "            \n",
    "            tipo_peli = \"Película\"\n",
    "            nombre_peli = peli.get('titleText', {}).get('text', 'Unknown')\n",
    "            id_peli = peli.get('id', 'Unknown')\n",
    "            lanza_peli = peli.get('releaseDate', {})\n",
    "            año_peli = lanza_peli.get('year', 'Unknown')\n",
    "            mes_peli = lanza_peli.get('month', 'Unknown')\n",
    "            if mes_peli is None:\n",
    "                mes_peli = 'Unknown'\n",
    "            elif isinstance(mes_peli, int):\n",
    "                mes_peli = int(mes_peli)\n",
    "\n",
    "            movie_info = (tipo_peli, nombre_peli, año_peli, mes_peli, id_peli)\n",
    "            lista_drama.append(movie_info)\n",
    "    return lista_drama"
   ]
  },
  {
   "cell_type": "code",
   "execution_count": 323,
   "metadata": {},
   "outputs": [],
   "source": [
    "rango_pagina=range(1,6)\n",
    "resultados_drama = []\n",
    "\n",
    "for pagina in rango_pagina:\n",
    "    url= f\"https://moviesdatabase.p.rapidapi.com/titles?titleType=movie&endYear=2024&startYear=2010&genre=Drama&page={pagina}\"\n",
    "    \n",
    "    resultados_drama.extend(lista_drama)"
   ]
  },
  {
   "cell_type": "code",
   "execution_count": 324,
   "metadata": {},
   "outputs": [
    {
     "data": {
      "text/plain": [
       "[]"
      ]
     },
     "execution_count": 324,
     "metadata": {},
     "output_type": "execute_result"
    }
   ],
   "source": [
    "len(resultados_drama)\n",
    "resultados_drama"
   ]
  }
 ],
 "metadata": {
  "kernelspec": {
   "display_name": "base",
   "language": "python",
   "name": "python3"
  },
  "language_info": {
   "codemirror_mode": {
    "name": "ipython",
    "version": 3
   },
   "file_extension": ".py",
   "mimetype": "text/x-python",
   "name": "python",
   "nbconvert_exporter": "python",
   "pygments_lexer": "ipython3",
   "version": "3.9.7"
  }
 },
 "nbformat": 4,
 "nbformat_minor": 2
}
