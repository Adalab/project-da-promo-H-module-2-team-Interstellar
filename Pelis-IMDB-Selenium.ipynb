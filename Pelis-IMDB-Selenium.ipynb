{
 "cells": [
  {
   "cell_type": "code",
<<<<<<< HEAD
   "execution_count": 3,
=======
   "execution_count": 1,
>>>>>>> f83006e9292b2354d4113a7fa783098d4e690a48
   "metadata": {},
   "outputs": [],
   "source": [
    "from bs4 import BeautifulSoup\n",
    "import requests\n",
    "import pandas as pd\n",
    "import re"
   ]
  },
  {
   "cell_type": "code",
<<<<<<< HEAD
   "execution_count": 4,
=======
   "execution_count": 2,
>>>>>>> f83006e9292b2354d4113a7fa783098d4e690a48
   "metadata": {},
   "outputs": [
    {
     "ename": "ModuleNotFoundError",
     "evalue": "No module named 'selenium'",
     "output_type": "error",
     "traceback": [
      "\u001b[0;31m---------------------------------------------------------------------------\u001b[0m",
      "\u001b[0;31mModuleNotFoundError\u001b[0m                       Traceback (most recent call last)",
      "\u001b[0;32m/tmp/ipykernel_265624/98854789.py\u001b[0m in \u001b[0;36m<module>\u001b[0;34m\u001b[0m\n\u001b[1;32m      1\u001b[0m \u001b[0;31m# Importar librerías para automatización de navegadores web con Selenium\u001b[0m\u001b[0;34m\u001b[0m\u001b[0;34m\u001b[0m\u001b[0m\n\u001b[1;32m      2\u001b[0m \u001b[0;31m# -----------------------------------------------------------------------\u001b[0m\u001b[0;34m\u001b[0m\u001b[0;34m\u001b[0m\u001b[0m\n\u001b[0;32m----> 3\u001b[0;31m \u001b[0;32mfrom\u001b[0m \u001b[0mselenium\u001b[0m \u001b[0;32mimport\u001b[0m \u001b[0mwebdriver\u001b[0m  \u001b[0;31m# Selenium es una herramienta para automatizar la interacción con navegadores web.\u001b[0m\u001b[0;34m\u001b[0m\u001b[0;34m\u001b[0m\u001b[0m\n\u001b[0m\u001b[1;32m      4\u001b[0m \u001b[0;32mfrom\u001b[0m \u001b[0mwebdriver_manager\u001b[0m\u001b[0;34m.\u001b[0m\u001b[0mchrome\u001b[0m \u001b[0;32mimport\u001b[0m \u001b[0mChromeDriverManager\u001b[0m  \u001b[0;31m# ChromeDriverManager gestiona la instalación del controlador de Chrome.\u001b[0m\u001b[0;34m\u001b[0m\u001b[0;34m\u001b[0m\u001b[0m\n\u001b[1;32m      5\u001b[0m \u001b[0;32mfrom\u001b[0m \u001b[0mselenium\u001b[0m\u001b[0;34m.\u001b[0m\u001b[0mwebdriver\u001b[0m\u001b[0;34m.\u001b[0m\u001b[0mcommon\u001b[0m\u001b[0;34m.\u001b[0m\u001b[0mkeys\u001b[0m \u001b[0;32mimport\u001b[0m \u001b[0mKeys\u001b[0m  \u001b[0;31m# Keys es útil para simular eventos de teclado en Selenium.\u001b[0m\u001b[0;34m\u001b[0m\u001b[0;34m\u001b[0m\u001b[0m\n",
      "\u001b[0;31mModuleNotFoundError\u001b[0m: No module named 'selenium'"
     ]
    }
   ],
   "source": [
    "# Importar librerías para automatización de navegadores web con Selenium\n",
    "# -----------------------------------------------------------------------\n",
    "from selenium import webdriver  # Selenium es una herramienta para automatizar la interacción con navegadores web.\n",
    "from webdriver_manager.chrome import ChromeDriverManager  # ChromeDriverManager gestiona la instalación del controlador de Chrome.\n",
    "from selenium.webdriver.common.keys import Keys  # Keys es útil para simular eventos de teclado en Selenium.\n",
    "from selenium.webdriver.support.ui import Select  # Select se utiliza para interactuar con elementos <select> en páginas web."
   ]
  },
  {
   "cell_type": "code",
<<<<<<< HEAD
   "execution_count": 5,
=======
   "execution_count": null,
>>>>>>> f83006e9292b2354d4113a7fa783098d4e690a48
   "metadata": {},
   "outputs": [],
   "source": [
    "# Importar librerías para pausar la ejecución\n",
    "# -----------------------------------------------------------------------\n",
    "from time import sleep  # Sleep se utiliza para pausar la ejecución del programa por un número de segundos."
   ]
  },
  {
   "cell_type": "markdown",
   "metadata": {},
   "source": [
    "Fase 2: Extracción de Detalles de Películas con Selenium\n",
    "Una vez que tengan una lista de películas de la API, el siguiente paso es obtener información más detallada sobre ellas. Utilizaras la herramienta de automatización web Selenium para navegar a sitios web de reseñas de películas (IMDB y Rotten Tomatoes) y extraer detalles como calificaciones, actores y directores. En concreto deberás extraer información sobre:\n",
    "\n",
    "Puntuacion de IMDB (en caso de que la tenga).\n",
    "\n",
    "Puntuación de Rotten Tomatoes (Tomatometer).\n",
    "\n",
    "Dirección (director/a o directore/as de cada película).\n",
    "\n",
    "Gionistas (de cada película).\n",
    "\n",
    "Argumento.\n",
    "\n",
    "Duración (en minutos).\n",
    "\n",
    "Nombre de la película"
   ]
  },
  {
   "cell_type": "code",
<<<<<<< HEAD
   "execution_count": 16,
=======
   "execution_count": null,
>>>>>>> f83006e9292b2354d4113a7fa783098d4e690a48
   "metadata": {},
   "outputs": [
    {
     "name": "stdout",
     "output_type": "stream",
     "text": [
      "Error al procesar la búsqueda para el ID tt11237950: Message: no such element: Unable to locate element: {\"method\":\"css selector\",\"selector\":\"#__next > main > div > section.ipc-page-background.ipc-page-background--base.sc-304f99f6-0.fSJiHR > section > div:nth-child(5) > section > section > div.sc-92625f35-3.frxYSZ > div.sc-b7c53eda-0.dUpRPQ > ul > li:nth-child(2)\"}\n",
      "  (Session info: chrome=124.0.6367.93); For documentation on this error, please visit: https://www.selenium.dev/documentation/webdriver/troubleshooting/errors#no-such-element-exception\n",
      "Stacktrace:\n",
      "\tGetHandleVerifier [0x00007FF737FE1502+60802]\n",
      "\t(No symbol) [0x00007FF737F5AC02]\n",
      "\t(No symbol) [0x00007FF737E17CE4]\n",
      "\t(No symbol) [0x00007FF737E66D4D]\n",
      "\t(No symbol) [0x00007FF737E66E1C]\n",
      "\t(No symbol) [0x00007FF737EACE37]\n",
      "\t(No symbol) [0x00007FF737E8ABBF]\n",
      "\t(No symbol) [0x00007FF737EAA224]\n",
      "\t(No symbol) [0x00007FF737E8A923]\n",
      "\t(No symbol) [0x00007FF737E58FEC]\n",
      "\t(No symbol) [0x00007FF737E59C21]\n",
      "\tGetHandleVerifier [0x00007FF7382E411D+3217821]\n",
      "\tGetHandleVerifier [0x00007FF7383260B7+3488055]\n",
      "\tGetHandleVerifier [0x00007FF73831F03F+3459263]\n",
      "\tGetHandleVerifier [0x00007FF73809B846+823494]\n",
      "\t(No symbol) [0x00007FF737F65F9F]\n",
      "\t(No symbol) [0x00007FF737F60EC4]\n",
      "\t(No symbol) [0x00007FF737F61052]\n",
      "\t(No symbol) [0x00007FF737F518A4]\n",
      "\tBaseThreadInitThunk [0x00007FF930F9257D+29]\n",
      "\tRtlUserThreadStart [0x00007FF93236AA48+40]\n",
      "\n"
     ]
    }
   ],
   "source": [
    "# Llamo al navegador\n",
    "\n",
    "driver=webdriver.Chrome()\n",
    "driver.get(\"https://www.imdb.com/?ref_=nv_home\")\n",
    "driver.find_element(\"css selector\", \"#__next > div > div > div.sc-jrcTuL.bPmWiM > div > button.icb-btn.sc-bcXHqe.sc-dkrFOg.sc-iBYQkv.dcvrLS.ddtuHe.dRCGjd\").click()\n",
    "\n",
    "# Hago grande el navegador para que aparezcan todas las opciones posibles de la web\n",
    "\n",
    "driver.maximize_window()\n",
    "\n",
    "sleep(5)\n",
    "\n",
    "\n",
    "# Creamos diccionario para guardar la informacion\n",
    "\n",
    "diccionario_info_pelis={\"puntuacion\":[],\n",
    "                        \"direccion\":[], \n",
    "                        \"guionistas\":[], \n",
    "                        \"argumento\":[], \n",
    "                        \"duracion\":[], \n",
    "                        \"nombre_pelicula\":[] }\n",
    "\n",
    "\n",
    "# Accedemos a la primera pelicula de la lista de la API que es \"Mom´s coming\"\n",
    "\n",
    "lista_id_muestra= ['tt10579986','tt10597228','tt11097384','tt11152168','tt11237950']\n",
    "\n",
    "for id in lista_id_muestra:\n",
    "\n",
    "   try:\n",
    "\n",
    "      busqueda = driver.find_element(\"css selector\",\"#suggestion-search\")\n",
    "\n",
    "      busqueda.clear()\n",
    "\n",
    "      busqueda.send_keys(id, Keys.ENTER)\n",
    "\n",
    "\n",
    "\n",
    "      #driver.find_element(\"css selector\",\"#suggestion-search\").send_keys(Keys.ENTER)\n",
    "\n",
    "\n",
    "      # Añadimos un poco de scroll para que se vea mejor\n",
    "\n",
    "      #driver.execute_script(\"window.scrollTo(0,250)\")\n",
    "\n",
    "      # Extraemos la informacion que necesitamos\n",
    "\n",
    "      nombre_pelicula=driver.find_element(\"css selector\", \"#__next > main > div > section.ipc-page-background.ipc-page-background--base.sc-304f99f6-0.fSJiHR > section > div:nth-child(5) > section > section > div.sc-92625f35-3.frxYSZ > div.sc-b7c53eda-0.dUpRPQ > h1 > span\").text \n",
    "      #nombre_pelicula = driver.find_element(\"css selector\",\"#__next > main > div > section.ipc-page-background.ipc-page-background--base.sc-304f99f6-0.fSJiHR > section > div:nth-child(5) > section > section > div.sc-4e4cc5f9-3.dDRspk > div.sc-b7c53eda-0.dUpRPQ > h1 > span\").text\n",
    "      diccionario_info_pelis[\"nombre_pelicula\"].append(nombre_pelicula)\n",
    "\n",
    "      direccion_peli= driver.find_element(\"css selector\", \"#__next > main > div > section.ipc-page-background.ipc-page-background--base.sc-304f99f6-0.fSJiHR > div > section > div > div.sc-978e9339-1.ihWZgK.ipc-page-grid__item.ipc-page-grid__item--span-2 > section.ipc-page-section.ipc-page-section--base.sc-bfec09a1-0.jgUBLM.title-cast.title-cast--movie.celwidget > ul > li:nth-child(1) > div > ul > li > a\").text\n",
    "      diccionario_info_pelis[\"direccion\"].append(direccion_peli)\n",
    "\n",
    "      guionistas_peli= driver.find_element(\"css selector\", \"#__next > main > div > section.ipc-page-background.ipc-page-background--base.sc-304f99f6-0.fSJiHR > div > section > div > div.sc-978e9339-1.ihWZgK.ipc-page-grid__item.ipc-page-grid__item--span-2 > section.ipc-page-section.ipc-page-section--base.sc-bfec09a1-0.jgUBLM.title-cast.title-cast--movie.celwidget > ul > li:nth-child(2) > div > ul > li > a\").text\n",
    "      diccionario_info_pelis[\"guionistas\"].append(guionistas_peli)\n",
    "\n",
    "\n",
    "      argumento_peli=driver.find_element(\"xpath\", '//*[@id=\"__next\"]/main/div/section[1]/section/div[3]/section/section/div[3]/div[2]/div[1]/section/p/span[1]').get_attribute(\"class\")\n",
    "      #argumento_peli= driver.find_element(\"xpath\", '/html/body/div[2]/main/div/section[1]/div/section/div/div[1]/section[3]/div[2]/div[1]/div/div/div').text\n",
    "      diccionario_info_pelis[\"argumento\"].append(argumento_peli) #__next > main > div > section.ipc-page-background.ipc-page-background--base.sc-304f99f6-0.fSJiHR > div > section > div > div.sc-978e9339-1.ihWZgK.ipc-page-grid__item.ipc-page-grid__item--span-2 > section:nth-child(28) > div.sc-f65f65be-0.bBlII > ul > li:nth-child(1) > div\n",
    "\n",
    "      etiqueta2= \"#__next > main > div > section.ipc-page-background.ipc-page-background--base.sc-304f99f6-0.fSJiHR > section > div:nth-child(5) > section > section > div.sc-92625f35-3.frxYSZ > div.sc-b7c53eda-0.dUpRPQ > ul > li:nth-child(2)\"\n",
    "      \n",
    "      if etiqueta2 == True:   ######### no funciona porque las pelis si que tienen esa etiqueta lo que pone otra info\n",
    "         duracion_peli=driver.find_element(\"css selector\",\"#__next > main > div > section.ipc-page-background.ipc-page-background--base.sc-304f99f6-0.fSJiHR > section > div:nth-child(5) > section > section > div.sc-92625f35-3.frxYSZ > div.sc-b7c53eda-0.dUpRPQ > ul > li:nth-child(2)\").text\n",
    "         #duracion_peli= driver.find_element(\"css selector\",\"__next > main > div > section.ipc-page-background.ipc-page-background--base.sc-304f99f6-0.fSJiHR > div > section > div > div.sc-978e9339-1.ihWZgK.ipc-page-grid__item.ipc-page-grid__item--span-2 > section:nth-child(28) > div.sc-f65f65be-0.bBlII > ul > li:nth-child(1) > div\").text\n",
    "         diccionario_info_pelis[\"duracion\"].append(duracion_peli)\n",
    "\n",
    "      else: \n",
    "\n",
    "         duracion_peli=driver.find_element(\"css selector\",\"#__next > main > div > section.ipc-page-background.ipc-page-background--base.sc-304f99f6-0.fSJiHR > section > div:nth-child(5) > section > section > div.sc-92625f35-3.frxYSZ > div.sc-b7c53eda-0.dUpRPQ > ul > li:nth-child(3)\").text\n",
    "         diccionario_info_pelis[\"duracion\"].append(duracion_peli)\n",
    "\n",
    "      #puntuacion = driver.find_element\n",
    "      #diccionario_info_pelis[\"\"].append() \n",
    "\n",
    "   except Exception as null:\n",
    "      print(f\"Error al procesar la búsqueda para el ID {id}: {str(null)}\")\n",
    "\n",
    "   driver.back()\n",
    "\n"
   ]
  },
  {
   "cell_type": "markdown",
   "metadata": {},
   "source": [
    "Hacemos prueba de las etiquetas. ---- Revisar el resultado de \"argumento\"---"
   ]
  },
  {
   "cell_type": "code",
<<<<<<< HEAD
   "execution_count": 18,
=======
   "execution_count": null,
>>>>>>> f83006e9292b2354d4113a7fa783098d4e690a48
   "metadata": {},
   "outputs": [
    {
     "data": {
      "text/plain": [
       "{'puntuacion': [],\n",
       " 'direccion': ['Rishiking',\n",
       "  'Erik Krefeld',\n",
       "  'Johan Renck',\n",
       "  'John Krasinski',\n",
       "  'Frederick Keeve'],\n",
       " 'guionistas': ['Rishiking',\n",
       "  'Stevie Kinchen',\n",
       "  'Jaroslav Kalfar',\n",
       "  'John Krasinski',\n",
       "  'Frederick Keeve'],\n",
       " 'argumento': ['sc-7193fc79-0 ftEVcu',\n",
       "  'sc-7193fc79-0 ftEVcu',\n",
       "  'sc-7193fc79-0 ftEVcu',\n",
       "  'sc-7193fc79-0 ftEVcu',\n",
       "  'sc-7193fc79-0 ftEVcu'],\n",
       " 'duracion': ['2h 2min', '1h 30min', 'R', 'PG'],\n",
       " 'nombre_pelicula': [\"Mom's Coming\",\n",
       "  'Love Song and Power',\n",
       "  'El astronauta',\n",
       "  'Amigos imaginarios',\n",
       "  'The Accompanist Awakening']}"
      ]
     },
     "execution_count": 18,
     "metadata": {},
     "output_type": "execute_result"
    }
   ],
   "source": [
    "diccionario_info_pelis"
   ]
  },
  {
   "cell_type": "markdown",
   "metadata": {},
   "source": [
    "Principal problema encontrado: seleccionar peliculas, todas es ¿inviable? con SELENIUM\n",
    "\n",
    "POSIBLE SOLUCION: combinar Selenium con Beautifulsoup (video ANA de Selenium) -> ERROR 403 = PROHIBIDO LA PETICION"
   ]
  },
  {
   "cell_type": "code",
   "execution_count": null,
   "metadata": {},
   "outputs": [],
   "source": [
    "# Habria que filtrar la lista de peliculas por su id y crear una lista de id\n",
    "# Ya se ha filtrado en API_Pelis.Drama"
   ]
  },
  {
   "cell_type": "code",
   "execution_count": null,
   "metadata": {},
   "outputs": [],
   "source": [
    "# Crear una iteracion para que busque las peliculas en base a su id y ejecute la solicitud de info \n",
    "\n",
    "# La url de las peliculas en base a su id es : https://www.imdb.com/title/tt10579986/\n",
    "\n",
    "# lista_id_muestra= ['tt10579986','tt10597228','tt11097384','tt11152168','tt11237950']\n",
    "\n",
    "# lista_url=[]\n",
    "\n",
    "# for id in lista_id_muestra:\n",
    "\n",
    "#     lista_url.append(f\"https://www.imdb.com/title/{id}/\")\n",
    "\n",
    "\n"
   ]
  },
  {
   "cell_type": "code",
   "execution_count": null,
   "metadata": {},
   "outputs": [
    {
     "data": {
      "text/plain": [
       "['https://www.imdb.com/title/tt10579986/',\n",
       " 'https://www.imdb.com/title/tt10597228/',\n",
       " 'https://www.imdb.com/title/tt11097384/',\n",
       " 'https://www.imdb.com/title/tt11152168/',\n",
       " 'https://www.imdb.com/title/tt11237950/']"
      ]
     },
     "execution_count": 30,
     "metadata": {},
     "output_type": "execute_result"
    }
   ],
   "source": [
    "#lista_url"
   ]
  },
  {
   "cell_type": "markdown",
   "metadata": {},
   "source": [
    "Una vez creada la lista de URL, iteramos por cada una de las url para extraer toda la info con Beautifulsoup"
   ]
  },
  {
   "cell_type": "code",
   "execution_count": null,
   "metadata": {},
   "outputs": [],
   "source": []
  },
  {
   "cell_type": "code",
   "execution_count": null,
   "metadata": {},
   "outputs": [],
   "source": [
    "#### PRUEBAS DE ETIQUETAS###\n",
    "\n",
    "# Puntuacion de IMDB : (\"css selector\", \"#__next > main > div > section.ipc-page-background.ipc-page-background--base.sc-304f99f6-0.fSJiHR > section > div:nth-child(5) > section > section > div.sc-4e4cc5f9-4.ixQHwZ > div.sc-4e4cc5f9-6.fFWQTt > div.sc-4e4cc5f9-11.eYsPLB > div.sc-3a4309f8-0.bjXIAP.sc-b7c53eda-5.cxlubq > div > div:nth-child(1) > a > span > div > div.sc-bde20123-0.dLwiNw > div.sc-bde20123-2.cdQqzc > span.sc-bde20123-1.cMEQkK\"\n",
    "# ------> OJO! PORQUE MUCHOS NO TIENEN PUNTUACION, NO VAN A TENER L ETIQUETA DE ARRIBA, NI SIIQUIERA EXISTE\n",
    "# ------> HAY OTRAS DE 2024 QUE NI SIQUIERA HAN SALIDO Y NO TIENEN NI LA OPCION DE PUNTUAR (ejemplo: The Accompanist Awakening)\n",
    "\n",
    "\n",
    "#Dirección peli ejemplo:      #__next > main > div > section.ipc-page-background.ipc-page-background--base.sc-304f99f6-0.fSJiHR > section > div:nth-child(5) > section > section > div.sc-4e4cc5f9-4.ixQHwZ > div.sc-4e4cc5f9-6.fFWQTt > div.sc-4e4cc5f9-11.eYsPLB > div.sc-b7c53eda-2.iOESUA > div > ul > li:nth-child(1) > div > ul > li > a\")\n",
    "#Direccion moms comig:        #__next > main > div > section.ipc-page-background.ipc-page-background--base.sc-304f99f6-0.fSJiHR > div > section > div > div.sc-978e9339-1.ihWZgK.ipc-page-grid__item.ipc-page-grid__item--span-2 > section.ipc-page-section.ipc-page-section--base.sc-bfec09a1-0.jgUBLM.title-cast.title-cast--movie.celwidget > ul > li:nth-child(1) > div > ul > li > a\n",
    "\n",
    "#Gionistas otra de prueba: #__next > main > div > section.ipc-page-background.ipc-page-background--base.sc-304f99f6-0.fSJiHR > div > section > div > div.sc-978e9339-1.ihWZgK.ipc-page-grid__item.ipc-page-grid__item--span-2 > section.ipc-page-section.ipc-page-section--base.sc-bfec09a1-0.jgUBLM.title-cast.title-cast--movie.celwidget > ul > li:nth-child(2) > div > ul > li > a\n",
    "#Guionistas Moms coming: #__next > main > div > section.ipc-page-background.ipc-page-background--base.sc-304f99f6-0.fSJiHR > div > section > div > div.sc-978e9339-1.ihWZgK.ipc-page-grid__item.ipc-page-grid__item--span-2 > section.ipc-page-section.ipc-page-section--base.sc-bfec09a1-0.jgUBLM.title-cast.title-cast--movie.celwidget > ul > li:nth-child(2) > div > ul > li > a\n",
    "\n",
    "\n",
    "#Prueba de la etiqueta de argumento de arriba: #__next > main > div > section.ipc-page-background.ipc-page-background--base.sc-304f99f6-0.fSJiHR > section > div:nth-child(5) > section > section > div.sc-4e4cc5f9-4.iDxNPg > div.sc-4e4cc5f9-6.doBMpp > div.sc-4e4cc5f9-10.jGqEsT > section > p > span.sc-a31b0662-0.iBnSmy\n",
    "#Argumento de Moms coming:                     #__next > main > div > section.ipc-page-background.ipc-page-background--base.sc-304f99f6-0.fSJiHR > section > div:nth-child(5) > section > section > div.sc-4e4cc5f9-4.ixQHwZ > div.sc-4e4cc5f9-6.fFWQTt > div.sc-4e4cc5f9-10.jXLkbv > section > p > span.sc-a31b0662-0.iBnSmy\n",
    "# el de arriba:  #__next > main > div > section.ipc-page-background.ipc-page-background--base.sc-304f99f6-0.fSJiHR > section > div:nth-child(5) > section > section > div.sc-92625f35-4.kiNxNJ > div.sc-92625f35-6.gFpQdY > div.sc-92625f35-10.cDqtIi > section > p > span.sc-7193fc79-0.ftEVcu\n",
    "# el xpath de arriba : //*[@id=\"__next\"]/main/div/section[1]/section/div[3]/section/section/div[3]/div[2]/div[1]/section/p/span[1]\n",
    "\n",
    "\n",
    "\n",
    "#Duración:  (\"css selector\",  \"#__next > main > div > section.ipc-page-background.ipc-page-background--base.sc-304f99f6-0.fSJiHR > section > div:nth-child(5) > section > section > div.sc-4e4cc5f9-3.dDRspk > div.sc-b7c53eda-0.dUpRPQ > ul > li:nth-child(3)\".text\n",
    "#Duracion moms coming          #__next > main > div > section.ipc-page-background.ipc-page-background--base.sc-304f99f6-0.fSJiHR > section > div:nth-child(5) > section > section > div.sc-4e4cc5f9-3.dDRspk > div.sc-b7c53eda-0.dUpRPQ > ul > li:nth-child(2)\n",
    "# ------> FINAL NO ES IGUAL, DIFIERE EN UN NUMERO\n",
    "#-------> DEPENDE DE LA POSICION QUE OCUPA EN ESA ZONA DE LA PAGINA, SI HAY OTROS ELEMENTOS COMO NOMBRE DE PELI ORIGINAL O CONTROL DE EDAD, VARÍA\n",
    "# css selector , __next > main > div > section.ipc-page-background.ipc-page-background--base.sc-304f99f6-0.fSJiHR > div > section > div > div.sc-978e9339-1.ihWZgK.ipc-page-grid__item.ipc-page-grid__item--span-2 > section:nth-child(28) > div.sc-f65f65be-0.bBlII > ul > li:nth-child(1) > div\n",
    "#__next > main > div > section.ipc-page-background.ipc-page-background--base.sc-304f99f6-0.fSJiHR > section > div:nth-child(5) > section > section > div.sc-92625f35-3.frxYSZ > div.sc-b7c53eda-0.dUpRPQ > ul > li:nth-child(2)\n",
    "#__next > main > div > section.ipc-page-background.ipc-page-background--base.sc-304f99f6-0.fSJiHR > div > section > div > div.sc-978e9339-1.ihWZgK.ipc-page-grid__item.ipc-page-grid__item--span-2 > section:nth-child(49) > div.sc-f65f65be-0.bBlII > ul > li:nth-child(1) > div\n",
    "# la de arriba Spaceman: #__next > main > div > section.ipc-page-background.ipc-page-background--base.sc-304f99f6-0.fSJiHR > section > div:nth-child(5) > section > section > div.sc-92625f35-3.frxYSZ > div.sc-b7c53eda-0.dUpRPQ > ul > li:nth-child(3)\n",
    "# arriba xpath spaceman: //*[@id=\"__next\"]/main/div/section[1]/section/div[3]/section/section/div[2]/div[1]/ul/li[3]\n",
    "# \"\"\"\"\"\"\"\"\"\"\" mom: //*[@id=\"__next\"]/main/div/section[1]/section/div[3]/section/section/div[2]/div[1]/ul/li[2]\n",
    "\n",
    "\n",
    "\n",
    "\n",
    "#Nombre pelicula de prueba : (\"css selector\",\"#__next > main > div > section.ipc-page-background.ipc-page-background--base.sc-304f99f6-0.fSJiHR > section > div:nth-child(5) > section > section > div.sc-4e4cc5f9-3.dDRspk > div.sc-b7c53eda-0.dUpRPQ > h1 > span\").text\n",
    "#Nombre pelicula Moms coming:(             , \"#__next > main > div > section.ipc-page-background.ipc-page-background--base.sc-304f99f6-0.fSJiHR > section > div:nth-child(5) > section > section > div.sc-4e4cc5f9-3.dDRspk > div.sc-b7c53eda-0.dUpRPQ > h1 > span\")"
   ]
  },
  {
   "cell_type": "code",
   "execution_count": null,
   "metadata": {},
   "outputs": [],
   "source": [
    "# Crearemos las listas donde iremos añadiendo la info de cada peli, tal y como lo pide el enunciado del proyecto "
   ]
  }
 ],
 "metadata": {
  "kernelspec": {
   "display_name": "Python 3",
   "language": "python",
   "name": "python3"
  },
  "language_info": {
   "codemirror_mode": {
    "name": "ipython",
    "version": 3
   },
   "file_extension": ".py",
   "mimetype": "text/x-python",
   "name": "python",
   "nbconvert_exporter": "python",
   "pygments_lexer": "ipython3",
   "version": "3.9.7"
  }
 },
 "nbformat": 4,
 "nbformat_minor": 2
}
