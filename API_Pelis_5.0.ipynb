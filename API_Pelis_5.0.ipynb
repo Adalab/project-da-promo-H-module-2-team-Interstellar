{
 "cells": [
  {
   "cell_type": "code",
   "execution_count": null,
   "metadata": {},
   "outputs": [],
   "source": [
    "from bs4 import BeautifulSoup\n",
    "import pandas as pd\n",
    "import requests\n",
    "import re\n",
    "\n",
    "pd.set_option('display.max_columns', None)\n",
    "\n",
    "url = \"https://moviesdatabase.p.rapidapi.com/titles\"\n",
    "\n",
    "headers = {\n",
    "    \"X-RapidAPI-Key\": \"af196f0478mshd90862dc657e127p18d90bjsn598fe178eab7\",\n",
    "    \"X-RapidAPI-Host\": \"moviesdatabase.p.rapidapi.com\"\n",
    "}\n",
    "\n",
    "def llamar_pelis(url, headers, year):\n",
    "    datos_paginas = []\n",
    "    base_url = \"https://moviesdatabase.p.rapidapi.com\"\n",
    "    querystring = {\"genre\": \"Drama\", \"startYear\": year, \"titleType\": \"movie\", \"endYear\": year}\n",
    "    while url:\n",
    "        if not url.startswith('http'):\n",
    "            url = base_url + url\n",
    "        response = requests.get(url, headers=headers, params=querystring)\n",
    "        if response.status_code == 200:\n",
    "            json_pelis = response.json()\n",
    "            datos_paginas.extend(json_pelis['results'])\n",
    "            url = json_pelis.get('next')\n",
    "            querystring = {}  # No se necesitan más parámetros ya que 'next' contiene la nueva URL con parámetros incluidos\n",
    "        else:\n",
    "            print(\"Error en la solicitud:\", response.status_code, response.reason)\n",
    "            return None\n",
    "    return {\"results\": datos_paginas}\n",
    "\n",
    "def limpiar_json(datos_json):\n",
    "    peliculas = []\n",
    "    for pelicula in datos_json['results']:\n",
    "        tipo = pelicula['titleType']['text']\n",
    "        nombre = pelicula['titleText']['text']\n",
    "        year = pelicula['releaseYear']['year']\n",
    "        mes = pelicula['releaseDate']['month'] if 'releaseDate' in pelicula and pelicula['releaseDate'] is not None else 'No consta'\n",
    "        id_pelicula = pelicula['id']\n",
    "        peliculas.append({\n",
    "            'Tipo': tipo,\n",
    "            'Nombre': nombre,\n",
    "            'Año de Estreno': year,\n",
    "            'Mes de Estreno': mes,\n",
    "            'ID': id_pelicula\n",
    "        })\n",
    "    return pd.DataFrame(peliculas)"
   ]
  },
  {
   "cell_type": "code",
   "execution_count": null,
   "metadata": {},
   "outputs": [],
   "source": [
    "# Proceso iterativo sobre el rango de años\n",
    "todos_los_datos = []\n",
    "for year in range(2010, 2025):  # desde 2010 hasta 2024 inclusive\n",
    "    datos_anuales = llamar_pelis(url, headers, year)\n",
    "    if datos_anuales:\n",
    "        df_anual = limpiar_json(datos_anuales)\n",
    "        todos_los_datos.append(df_anual)"
   ]
  },
  {
   "cell_type": "code",
   "execution_count": null,
   "metadata": {},
   "outputs": [],
   "source": [
    "# Concatena todos los DataFrames anuales en uno solo\n",
    "df_final = pd.concat(todos_los_datos, ignore_index=True)\n",
    "print(df_final.head (50))"
   ]
  },
  {
   "cell_type": "code",
   "execution_count": null,
   "metadata": {},
   "outputs": [],
   "source": [
    "# df_final.to_csv(\"peliculas_por_año.csv\", index=False) # Para convertir el DataFrame a un CSV"
   ]
  }
 ],
 "metadata": {
  "language_info": {
   "name": "python"
  }
 },
 "nbformat": 4,
 "nbformat_minor": 2
}
