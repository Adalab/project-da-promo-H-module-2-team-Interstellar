{
 "cells": [
  {
   "cell_type": "code",
   "execution_count": 240,
   "metadata": {},
   "outputs": [],
   "source": [
    "from bs4 import BeautifulSoup  # Importa BeautifulSoup de bs4\n",
    "import pandas as pd  # Importa pandas\n",
    "import requests  # Importa requests para realizar solicitudes HTTP\n",
    "import re  # Importa el módulo re para expresiones regulares"
   ]
  },
  {
   "cell_type": "code",
   "execution_count": 241,
   "metadata": {},
   "outputs": [],
   "source": [
    "pd.set_option('display.max_columns', None)  # Configura pandas para mostrar todas las columnas de los DataFrames"
   ]
  },
  {
   "cell_type": "code",
   "execution_count": 242,
   "metadata": {},
   "outputs": [],
   "source": [
    "url = \"https://moviesdatabase.p.rapidapi.com/titles\"  # ENDPOINT de la API para solicitar datos\n",
    "headers = {\n",
    "    \"X-RapidAPI-Key\": \"7afebd53f4msh5a5378a53b56ed5p11796bjsn19ceecfe1a26\",  # Tu clave API para la autenticación\n",
    "    \"X-RapidAPI-Host\": \"moviesdatabase.p.rapidapi.com\"  # Host de la API necesario para la solicitud\n",
    "}\n",
    "querystring = {\"genre\":\"Drama\", \"startYear\":\"2010\", \"titleType\":\"movie\", \"endYear\":\"2024\"}  # Parámetros para la consulta de la API"
   ]
  },
  {
   "cell_type": "code",
   "execution_count": 243,
   "metadata": {},
   "outputs": [],
   "source": [
    "# Define una función para hacer llamadas a la API \n",
    "def llamar_pelis(url, headers, params):\n",
    "    response = requests.get(url, headers=headers, params=params)  # Realiza una solicitud GET a la API\n",
    "    response.json()  # Crea variable con el contenido obtenido en formato JSON \n",
    "    return response.json()  # Devuelve los datos y la URL de la próxima página"
   ]
  },
  {
   "cell_type": "code",
   "execution_count": 244,
   "metadata": {},
   "outputs": [],
   "source": [
    "json_pelis= llamar_pelis (url, headers, querystring)"
   ]
  },
  {
   "cell_type": "code",
   "execution_count": 245,
   "metadata": {},
   "outputs": [
    {
     "name": "stdout",
     "output_type": "stream",
     "text": [
      "Has pasado a la siguiente página\n"
     ]
    }
   ],
   "source": [
    "next_url = \"https://moviesdatabase.p.rapidapi.com\" + json_pelis['next'] \n",
    "if 'next' in json_pelis and json_pelis['next'] is not None:# Calcula la URL de la próxima página\n",
    "        print (\"Has pasado a la siguiente página\")\n",
    "else: print (\"Has llegado al final de las páginas\")"
   ]
  },
  {
   "cell_type": "code",
   "execution_count": 246,
   "metadata": {},
   "outputs": [],
   "source": [
    "lista_drama = []\n",
    "# Define una función para limpiar y estructurar los datos obtenidos\n",
    "def limpiar_json(json_pelis):\n",
    "        if 'results' in json_pelis:\n",
    "            for peli in json_pelis['results']:\n",
    "                nombre_peli = peli.get('titleText', {}).get('text', 'Unknown')  # Obtiene el nombre de la película\n",
    "                id_peli = peli.get('id', 'Unknown')  # Obtiene el ID de la película\n",
    "                lanza_peli = peli.get('releaseDate','Unknown')  # Asegura un diccionario para la fecha de lanzamiento\n",
    "                año_peli = lanza_peli.get('year', 'Unknown')  # Obtiene el año de lanzamiento\n",
    "                mes_peli = lanza_peli.get('month', 'Unknown')  # Obtiene el mes de lanzamiento\n",
    "                lista_drama.append((\"Película\", nombre_peli, año_peli, mes_peli, id_peli))  # Agrega los datos a la lista\n",
    "                return lista_drama  # Devuelve la lista limpia y estructurada."
   ]
  },
  {
   "cell_type": "code",
   "execution_count": 247,
   "metadata": {},
   "outputs": [
    {
     "ename": "ValueError",
     "evalue": "too many values to unpack (expected 2)",
     "output_type": "error",
     "traceback": [
      "\u001b[0;31m---------------------------------------------------------------------------\u001b[0m",
      "\u001b[0;31mValueError\u001b[0m                                Traceback (most recent call last)",
      "\u001b[0;32m/tmp/ipykernel_11815/769006854.py\u001b[0m in \u001b[0;36m<module>\u001b[0;34m\u001b[0m\n\u001b[1;32m      1\u001b[0m \u001b[0mresultados_drama\u001b[0m \u001b[0;34m=\u001b[0m \u001b[0;34m[\u001b[0m\u001b[0;34m]\u001b[0m  \u001b[0;31m# Inicializa una lista para almacenar los resultados finales\u001b[0m\u001b[0;34m\u001b[0m\u001b[0;34m\u001b[0m\u001b[0m\n\u001b[0;32m----> 2\u001b[0;31m \u001b[0mjson_pelis\u001b[0m\u001b[0;34m,\u001b[0m \u001b[0mnext_page\u001b[0m \u001b[0;34m=\u001b[0m \u001b[0mllamar_pelis\u001b[0m\u001b[0;34m(\u001b[0m\u001b[0murl\u001b[0m\u001b[0;34m,\u001b[0m \u001b[0mheaders\u001b[0m\u001b[0;34m,\u001b[0m \u001b[0mquerystring\u001b[0m\u001b[0;34m)\u001b[0m  \u001b[0;31m# Llama a la función inicial\u001b[0m\u001b[0;34m\u001b[0m\u001b[0;34m\u001b[0m\u001b[0m\n\u001b[0m\u001b[1;32m      3\u001b[0m \u001b[0;34m\u001b[0m\u001b[0m\n\u001b[1;32m      4\u001b[0m \u001b[0;31m# Bucle para manejar la iteración por las páginas y procesar todos los resultados\u001b[0m\u001b[0;34m\u001b[0m\u001b[0;34m\u001b[0m\u001b[0m\n\u001b[1;32m      5\u001b[0m \u001b[0;32mwhile\u001b[0m \u001b[0mjson_pelis\u001b[0m\u001b[0;34m:\u001b[0m\u001b[0;34m\u001b[0m\u001b[0;34m\u001b[0m\u001b[0m\n",
      "\u001b[0;31mValueError\u001b[0m: too many values to unpack (expected 2)"
     ]
    }
   ],
   "source": [
    "resultados_drama = []  # Inicializa una lista para almacenar los resultados finales\n",
    "json_pelis, next_page = llamar_pelis(url, headers, querystring)  # Llama a la función inicial\n",
    "\n",
    "# Bucle para manejar la iteración por las páginas y procesar todos los resultados\n",
    "while json_pelis:\n",
    "    resultados_drama.extend(limpiar_json(json_pelis))  # Extiende la lista de resultados con los datos limpios\n",
    "    if next_page in range (1,10):\n",
    "        json_pelis, next_page = llamar_pelis(next_page, headers, querystring)  # Llama a la próxima página usando la misma querystring\n",
    "    else:\n",
    "        break  # Sale del bucle si no hay más páginas"
   ]
  },
  {
   "cell_type": "code",
   "execution_count": null,
   "metadata": {},
   "outputs": [],
   "source": [
    "print(f'Total de resultados: {len(resultados_drama)}')  # Imprime el total de resultados obtenidos\n",
    "df_drama = pd.DataFrame(resultados_drama, columns=[\"Tipo\", \"Nombre\", \"Año\", \"Mes\", \"ID\"])  # Crea un DataFrame con los resultados\n",
    "print(df_drama.tail())  # Imprime las primeras 10 filas del DataFrame"
   ]
  }
 ],
 "metadata": {
  "kernelspec": {
   "display_name": "base",
   "language": "python",
   "name": "python3"
  },
  "language_info": {
   "codemirror_mode": {
    "name": "ipython",
    "version": 3
   },
   "file_extension": ".py",
   "mimetype": "text/x-python",
   "name": "python",
   "nbconvert_exporter": "python",
   "pygments_lexer": "ipython3",
   "version": "3.9.7"
  }
 },
 "nbformat": 4,
 "nbformat_minor": 2
}
