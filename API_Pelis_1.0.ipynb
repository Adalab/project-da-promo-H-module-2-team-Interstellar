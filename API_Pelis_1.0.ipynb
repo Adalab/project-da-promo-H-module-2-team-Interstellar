{
 "cells": [
  {
   "cell_type": "code",
   "execution_count": 8,
   "metadata": {},
   "outputs": [
    {
     "name": "stdout",
     "output_type": "stream",
     "text": [
      "Requirement already satisfied: requests in /home/mabel/anaconda3/lib/python3.9/site-packages (2.26.0)\n",
      "Requirement already satisfied: charset-normalizer~=2.0.0 in /home/mabel/anaconda3/lib/python3.9/site-packages (from requests) (2.0.4)\n",
      "Requirement already satisfied: idna<4,>=2.5 in /home/mabel/anaconda3/lib/python3.9/site-packages (from requests) (3.2)\n",
      "Requirement already satisfied: urllib3<1.27,>=1.21.1 in /home/mabel/anaconda3/lib/python3.9/site-packages (from requests) (1.26.7)\n",
      "Requirement already satisfied: certifi>=2017.4.17 in /home/mabel/anaconda3/lib/python3.9/site-packages (from requests) (2021.10.8)\n",
      "Requirement already satisfied: pandas in /home/mabel/anaconda3/lib/python3.9/site-packages (1.3.4)\n",
      "Requirement already satisfied: python-dateutil>=2.7.3 in /home/mabel/anaconda3/lib/python3.9/site-packages (from pandas) (2.8.2)\n",
      "Requirement already satisfied: pytz>=2017.3 in /home/mabel/anaconda3/lib/python3.9/site-packages (from pandas) (2021.3)\n",
      "Requirement already satisfied: numpy>=1.17.3 in /home/mabel/anaconda3/lib/python3.9/site-packages (from pandas) (1.20.3)\n",
      "Requirement already satisfied: six>=1.5 in /home/mabel/anaconda3/lib/python3.9/site-packages (from python-dateutil>=2.7.3->pandas) (1.16.0)\n"
     ]
    }
   ],
   "source": [
    "!pip install requests\n",
    "!pip install pandas"
   ]
  },
  {
   "cell_type": "code",
   "execution_count": 9,
   "metadata": {},
   "outputs": [],
   "source": [
    "from bs4 import BeautifulSoup \n",
    "import pandas as pd\n",
    "import requests \n",
    "import re\n",
    "\n",
    "pd.set_option ('display.max_columns', None)"
   ]
  },
  {
   "cell_type": "code",
   "execution_count": 18,
   "metadata": {},
   "outputs": [],
   "source": [
    "url = \"https://moviesdatabase.p.rapidapi.com/titles\"\n",
    "querystring = {\"genre\": \"Drama\", \"startYear\": \"2010\", \"endYear\": \"2024\"}\n",
    "headers = {\n",
    "        \"X-RapidAPI-Key\": \"431e779057msh1f0c87c2937a329p125efcjsn45064e4b4925\",\n",
    "        \"X-RapidAPI-Host\": \"moviesdatabase.p.rapidapi.com\"\n",
    "    }\n",
    "response = requests.get(url, headers=headers, params=querystring)\n",
    "\n",
    "\n",
    "    "
   ]
  },
  {
   "cell_type": "code",
   "execution_count": 19,
   "metadata": {},
   "outputs": [],
   "source": [
    "datos_sucios = response.json()"
   ]
  },
  {
   "cell_type": "code",
   "execution_count": 20,
   "metadata": {},
   "outputs": [
    {
     "data": {
      "text/plain": [
       "'/titles?endYear=2024&startYear=2010&genre=Drama&page=2'"
      ]
     },
     "execution_count": 20,
     "metadata": {},
     "output_type": "execute_result"
    }
   ],
   "source": [
    "datos_sucios ['next']"
   ]
  },
  {
   "cell_type": "code",
   "execution_count": null,
   "metadata": {},
   "outputs": [],
   "source": [
    "datos_medios = datos_sucios ['results'][6]\n",
    "df_medios = pd.DataFrame (datos_medios)\n",
    "df_medios.head ()"
   ]
  },
  {
   "cell_type": "code",
   "execution_count": null,
   "metadata": {},
   "outputs": [
    {
     "data": {
      "text/plain": [
       "10"
      ]
     },
     "execution_count": 266,
     "metadata": {},
     "output_type": "execute_result"
    }
   ],
   "source": [
    "len (datos_sucios ['results'])"
   ]
  },
  {
   "cell_type": "code",
   "execution_count": null,
   "metadata": {},
   "outputs": [
    {
     "name": "stdout",
     "output_type": "stream",
     "text": [
      "{'id': 'rm479879936', 'width': 1200, 'height': 1800, 'url': 'https://m.media-amazon.com/images/M/MV5BZTIwZmViMWItMDA5Ny00OTczLTg2NzYtYzEwM2ZjOTI3NmVlXkEyXkFqcGdeQXVyMzY0MTE3NzU@._V1_.jpg', 'caption': {'plainText': 'Vampire: The Masquerade - Bloodlines 2 (2024)', '__typename': 'Markdown'}, '__typename': 'Image'}\n",
      "{'id': 'rm2747813633', 'width': 456, 'height': 612, 'url': 'https://m.media-amazon.com/images/M/MV5BMjQ0ZjgxZTUtMzNkNy00NmIxLWFlYzgtOTkzNDUyYzUzNjJlXkEyXkFqcGdeQXVyMTY4MjUxMzgz._V1_.jpg', 'caption': {'plainText': 'La Storia (2024)', '__typename': 'Markdown'}, '__typename': 'Image'}\n",
      "{'id': 'rm231164417', 'width': 650, 'height': 1000, 'url': 'https://m.media-amazon.com/images/M/MV5BMDg0YTJmMTAtOWEzYi00NDk1LTg5MmEtZWMwNjgxMGFjNzkyXkEyXkFqcGdeQXVyMTUwMjg2Nzg0._V1_.jpg', 'caption': {'plainText': 'Boy Swallows Universe (2024)', '__typename': 'Markdown'}, '__typename': 'Image'}\n",
      "None\n",
      "{'id': 'rm4127568385', 'width': 792, 'height': 1080, 'url': 'https://m.media-amazon.com/images/M/MV5BZWIyNzE3NzEtMGExNS00ZjRkLWJmMTYtMWFlNTNkNDgyNWUzXkEyXkFqcGdeQXVyODUwMzI5ODk@._V1_.jpg', 'caption': {'plainText': 'Dante Alighieri, Boris Acosta, and Dino Di Durante in The Divine Comedy: Inferno, Purgatory and Paradise (2024)', '__typename': 'Markdown'}, '__typename': 'Image'}\n",
      "{'id': 'rm1409776385', 'width': 1169, 'height': 1451, 'url': 'https://m.media-amazon.com/images/M/MV5BMjE3YjFkOGMtYTIyNy00NTQwLTg0YTItOWM2YjdiMjRlMmY5XkEyXkFqcGdeQXVyMTIyODY5Mjk1._V1_.jpg', 'caption': {'plainText': 'Anthony Hopkins in Those About to Die (2024)', '__typename': 'Markdown'}, '__typename': 'Image'}\n",
      "{'id': 'rm878544897', 'width': 1217, 'height': 1792, 'url': 'https://m.media-amazon.com/images/M/MV5BNDFmYWRhYmMtMDBiNS00OWZkLTk3ZmYtODMyZjdlMDFjNWNlXkEyXkFqcGdeQXVyNjA1NjIzMzQ@._V1_.jpg', 'caption': {'plainText': \"Mom's Coming (2024)\", '__typename': 'Markdown'}, '__typename': 'Image'}\n",
      "{'id': 'rm3631292161', 'width': 1010, 'height': 1440, 'url': 'https://m.media-amazon.com/images/M/MV5BY2RiYWM2ZjgtMWQ2My00ZmM3LTkyOWItZjMyYTRkYjRiZTNkXkEyXkFqcGdeQXVyMDU5NzQzNA@@._V1_.jpg', 'caption': {'plainText': 'Love Song and Power (2024)', '__typename': 'Markdown'}, '__typename': 'Image'}\n",
      "{'id': 'rm1024176641', 'width': 1100, 'height': 1500, 'url': 'https://m.media-amazon.com/images/M/MV5BNjMxNzRjMzQtOTI3Ny00ZmUyLTg4ZDMtMTA4NzdlNDZlYzhiXkEyXkFqcGdeQXVyODUwMzI5ODk@._V1_.jpg', 'caption': {'plainText': 'Vittorio Matteucci and Lalo Cibelli in The Divine Comedy: Inferno, Purgatory and Paradise (2024)', '__typename': 'Markdown'}, '__typename': 'Image'}\n",
      "{'id': 'rm3446649601', 'width': 1100, 'height': 1500, 'url': 'https://m.media-amazon.com/images/M/MV5BMDg3MWRlZTEtNmFlMC00NDQ0LWE2ZTQtYjRmNjQwMDNlMjk5XkEyXkFqcGdeQXVyODUwMzI5ODk@._V1_.jpg', 'caption': {'plainText': 'Vittorio Gassman, Armand Mastroianni, Silvia Colloca, Boris Acosta, and Lalo Cibelli in The Divine Comedy: Inferno, Purgatory and Paradise (2024)', '__typename': 'Markdown'}, '__typename': 'Image'}\n"
     ]
    }
   ],
   "source": [
    "for diccionario  in datos_sucios ['results']:\n",
    "    clave_primaryImage = diccionario.get ('primaryImage')\n",
    "    print (clave_primaryImage)\n",
    "    "
   ]
  },
  {
   "cell_type": "code",
   "execution_count": 21,
   "metadata": {},
   "outputs": [
    {
     "name": "stdout",
     "output_type": "stream",
     "text": [
      "('Película', 'Vampire: The Masquerade - Bloodlines 2', 2024, 'Unknown', 'tt10064424')\n",
      "('Película', 'La Storia', 2024, 1, 'tt10345822')\n",
      "('Película', 'Boy Swallows Universe', 2024, 1, 'tt10399902')\n",
      "('Película', 'Dune: The Prophecy', 2024, 'Unknown', 'tt10466872')\n",
      "('Película', 'The Divine Comedy: Inferno, Purgatory and Paradise', 2024, 9, 'tt10521010')\n",
      "('Película', 'Those About to Die', 2024, 7, 'tt10569934')\n",
      "('Película', \"Mom's Coming\", 2024, 11, 'tt10579986')\n",
      "('Película', 'Love Song and Power', 2024, 1, 'tt10597228')\n",
      "('Película', \"Dark Forest: Dante's Sins. Virgil appears.\", 2024, 9, 'tt10616590')\n",
      "('Película', \"Beatrice Descends into Limbo. Virgil's Mission\", 2024, 9, 'tt10617026')\n"
     ]
    }
   ],
   "source": [
    "def limpiar_pelis(datos):\n",
    "    lista_pelis = []\n",
    "    if 'results' in datos:\n",
    "        for peli in datos['results']:\n",
    "            tipo_peli = \"Película\"\n",
    "            nombre_peli = peli.get('titleText', {}).get('text', 'Unknown')\n",
    "            id_peli = peli.get('id', 'Unknown')\n",
    "            lanza_peli = peli.get('releaseDate', {})\n",
    "\n",
    "            año_peli = lanza_peli.get('year', 'Unknown')\n",
    "            mes_peli = lanza_peli.get('month', 'Unknown')\n",
    "            if mes_peli is None:\n",
    "                mes_peli = 'Unknown'\n",
    "            elif isinstance(mes_peli, int):\n",
    "                mes_peli = int(mes_peli)\n",
    "\n",
    "            movie_info = (tipo_peli, nombre_peli, año_peli, mes_peli, id_peli)\n",
    "            lista_pelis.append(movie_info)\n",
    "    return lista_pelis\n",
    "\n",
    "\n",
    "datos_peliculas = llamar_pelis()\n",
    "pelis_procesadas = limpiar_pelis(datos_peliculas)\n",
    "\n",
    "for peli in pelis_procesadas:\n",
    "    print(peli)"
   ]
  }
 ],
 "metadata": {
  "kernelspec": {
   "display_name": "base",
   "language": "python",
   "name": "python3"
  },
  "language_info": {
   "codemirror_mode": {
    "name": "ipython",
    "version": 3
   },
   "file_extension": ".py",
   "mimetype": "text/x-python",
   "name": "python",
   "nbconvert_exporter": "python",
   "pygments_lexer": "ipython3",
   "version": "3.9.7"
  }
 },
 "nbformat": 4,
 "nbformat_minor": 2
}
