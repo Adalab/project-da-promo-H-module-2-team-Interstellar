{
 "cells": [
  {
   "cell_type": "markdown",
   "metadata": {},
   "source": [
    "PROPUESTA INICIAL DE TABLAS Y COLUMNAS MYSQL\n",
    "\n",
    "Películas:\n",
    "\n",
    "1. ID_Pelicula (clave primaria)\n",
    "2. Tipo (película o cortometraje)\n",
    "3. Nombre\n",
    "3. Year_Estreno\n",
    "4. Mes_Estreno\n",
    "5. ID_IMDB (identificación en IMDB)\n",
    "\n",
    "\n",
    "\n",
    "Detalles_Películas:\n",
    "\n",
    "1. ID_Detalle (clave primaria)\n",
    "2. ID_Pelicula (clave foránea que hace referencia a la tabla Películas)\n",
    "3. Puntuacion_IMDB\n",
    "4. Puntuacion_Rotten_Tomatoes\n",
    "5. Director\n",
    "6. Guionistas\n",
    "7. Argumento\n",
    "8. Duracion\n",
    "\n",
    "\n",
    "\n",
    "Actores/Actrices:\n",
    "\n",
    "1. ID_Actore (clave primaria)\n",
    "2. Nombre\n",
    "2. Year_Nacimiento\n",
    "3. Conocide_Por\n",
    "4. Actividad\n",
    "5. Premios\n",
    "\n",
    "\n",
    "\n",
    "Peliculas_Actores:\n",
    "\n",
    "1. ID_Pelicula (clave foránea que hace referencia a la tabla Peliculas)\n",
    "2. ID_Actor (clave foránea que hace referencia a la tabla Actores)\n",
    "\n",
    "\n",
    "\n",
    "Premios_Oscar:\n",
    "\n",
    "1. ID_Premio (clave primaria)\n",
    "2. Year_Ceremonia\n",
    "3. Mejor_pelicula\n",
    "4. Mejor_director\n",
    "5. Mejor_actor\n",
    "6. Mejor_actriz"
   ]
  }
 ],
 "metadata": {
  "language_info": {
   "name": "python"
  }
 },
 "nbformat": 4,
 "nbformat_minor": 2
}
