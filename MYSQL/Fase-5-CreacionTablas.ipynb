{
 "cells": [
  {
   "cell_type": "code",
   "execution_count": 1,
   "metadata": {},
   "outputs": [],
   "source": [
    "# Importar librería para la conexión con MySQL\n",
    "# -----------------------------------------------------------------------\n",
    "import mysql.connector\n",
    "from mysql.connector import errorcode\n",
    "\n",
    "\n",
    "# Importar librerías para manipulación y análisis de datos\n",
    "# -----------------------------------------------------------------------\n",
    "import pandas as pd\n",
    "import numpy as np"
   ]
  },
  {
   "cell_type": "code",
   "execution_count": 4,
   "metadata": {},
   "outputs": [
    {
     "name": "stdout",
     "output_type": "stream",
     "text": [
      "MySQLCursor: CREATE DATABASE proyecto_peliculas\n"
     ]
    }
   ],
   "source": [
    "cnx = mysql.connector.connect(user='root', password='AlumnaAdalab',\n",
    "                              host='127.0.0.1')\n",
    "\n",
    "\n",
    "mycursor = cnx.cursor()\n",
    "try:\n",
    "    mycursor.execute(\"CREATE DATABASE proyecto_peliculas\")\n",
    "    print(mycursor)\n",
    "except mysql.connector.Error as err:\n",
    "    print(err)\n",
    "    print(\"Error Code:\", err.errno)\n",
    "    print(\"SQLSTATE\", err.sqlstate)\n",
    "    print(\"Message\", err.msg)"
   ]
  },
  {
   "cell_type": "markdown",
   "metadata": {},
   "source": [
    "CREAMOS LAS TABLAS"
   ]
  },
  {
   "cell_type": "markdown",
   "metadata": {},
   "source": [
    "Tabla: Detalles de peliculas"
   ]
  },
  {
   "cell_type": "code",
   "execution_count": 9,
   "metadata": {},
   "outputs": [
    {
     "name": "stdout",
     "output_type": "stream",
     "text": [
      "MySQLCursor: CREATE TABLE detalles_peliculas (pelicul..\n"
     ]
    }
   ],
   "source": [
    "cnx = mysql.connector.connect(user='root', password='AlumnaAdalab',\n",
    "                              host='127.0.0.1', database='proyecto_peliculas')\n",
    "\n",
    "\n",
    "mycursor = cnx.cursor()\n",
    "try:\n",
    "    mycursor.execute(\"CREATE TABLE detalles_peliculas (pelicula_id INT PRIMARY KEY,  nombre VARCHAR(100), director VARCHAR(50), guionistas VARCHAR (250), argumento TEXT, duracion MEDIUMINT, puntuacion_imdb FLOAT, puntuacion_rt FLOAT)\")\n",
    "                                            \n",
    "    print(mycursor)\n",
    "except mysql.connector.Error as err:\n",
    "    print(err)\n",
    "    print(\"Error Code:\", err.errno)\n",
    "    print(\"SQLSTATE\", err.sqlstate)\n",
    "    print(\"Message\", err.msg)"
   ]
  },
  {
   "cell_type": "markdown",
   "metadata": {},
   "source": [
    "Tabla: Premios Oscar"
   ]
  },
  {
   "cell_type": "code",
   "execution_count": 11,
   "metadata": {},
   "outputs": [
    {
     "name": "stdout",
     "output_type": "stream",
     "text": [
      "MySQLCursor: CREATE TABLE premios_oscar (oscar_id SMA..\n"
     ]
    }
   ],
   "source": [
    "cnx = mysql.connector.connect(user='root', password='AlumnaAdalab',\n",
    "                              host='127.0.0.1', database='proyecto_peliculas')\n",
    "\n",
    "\n",
    "mycursor = cnx.cursor()\n",
    "try:\n",
    "    mycursor.execute(\"CREATE TABLE premios_oscar (oscar_id SMALLINT AUTO_INCREMENT PRIMARY KEY, fecha_ceremonia YEAR, mejor_pelicula VARCHAR(100), mejor_director VARCHAR(50), mejor_actor VARCHAR(50), mejor_actriz VARCHAR(50))\")\n",
    "                                            \n",
    "    print(mycursor)\n",
    "except mysql.connector.Error as err:\n",
    "    print(err)\n",
    "    print(\"Error Code:\", err.errno)\n",
    "    print(\"SQLSTATE\", err.sqlstate)\n",
    "    print(\"Message\", err.msg)"
   ]
  },
  {
   "cell_type": "markdown",
   "metadata": {},
   "source": [
    "Tabla: Generos\n"
   ]
  },
  {
   "cell_type": "code",
   "execution_count": 13,
   "metadata": {},
   "outputs": [
    {
     "name": "stdout",
     "output_type": "stream",
     "text": [
      "MySQLCursor: CREATE TABLE generos (genero_id SMALLINT..\n"
     ]
    }
   ],
   "source": [
    "cnx = mysql.connector.connect(user='root', password='AlumnaAdalab',\n",
    "                              host='127.0.0.1', database='proyecto_peliculas')\n",
    "\n",
    "\n",
    "mycursor = cnx.cursor()\n",
    "try:\n",
    "    mycursor.execute(\"CREATE TABLE generos (genero_id SMALLINT AUTO_INCREMENT PRIMARY KEY, nombre_genero VARCHAR (30),)\")\n",
    "                                            \n",
    "    print(mycursor)\n",
    "except mysql.connector.Error as err:\n",
    "    print(err)\n",
    "    print(\"Error Code:\", err.errno)\n",
    "    print(\"SQLSTATE\", err.sqlstate)\n",
    "    print(\"Message\", err.msg)"
   ]
  },
  {
   "cell_type": "code",
   "execution_count": null,
   "metadata": {},
   "outputs": [],
   "source": []
  },
  {
   "cell_type": "code",
   "execution_count": null,
   "metadata": {},
   "outputs": [],
   "source": []
  },
  {
   "cell_type": "markdown",
   "metadata": {},
   "source": [
    "INSERTAR DATOS EN LAS TABLAS"
   ]
  },
  {
   "cell_type": "code",
   "execution_count": null,
   "metadata": {},
   "outputs": [],
   "source": []
  },
  {
   "cell_type": "markdown",
   "metadata": {},
   "source": [
    "CONSULTAS"
   ]
  },
  {
   "cell_type": "markdown",
   "metadata": {},
   "source": [
    "1. **¿Qué géneros han recibido más premios Óscar?**"
   ]
  },
  {
   "cell_type": "code",
   "execution_count": null,
   "metadata": {},
   "outputs": [],
   "source": [
    "###### ESTRUCTURA DE LAS QUERIES ####\n",
    "\n",
    "# cnx = mysql.connector.connect(user='root', password='AlumnaAdalab',\n",
    "#                               host='127.0.0.1',\n",
    "#                               database='proyecto_peliculas')\n",
    "\n",
    "# # iniciamos el cursor                               \n",
    "# mycursor = cnx.cursor()\n",
    "\n",
    "# # query de ejemplo:\n",
    "\n",
    "# query = (\"\"\"SELECT city, state FROM customers \n",
    "#          WHERE customer_number BETWEEN 121 AND 124\"\"\")\n",
    "\n",
    "# # luego llamamos al método execute() del cursor, al que pasamos como argumento el string que contiene la consulta.\n",
    "# ## De esta manera se ejecuta la consulta en la base de datos y si todo va correctamente, el resultado se almacenará en el cursor.\n",
    "# mycursor.execute(query)"
   ]
  },
  {
   "cell_type": "markdown",
   "metadata": {},
   "source": [
    "2. **¿Qué género es el mejor valorado en IMDB?**"
   ]
  },
  {
   "cell_type": "code",
   "execution_count": null,
   "metadata": {},
   "outputs": [],
   "source": [
    "cnx = mysql.connector.connect(user='root', password='AlumnaAdalab',\n",
    "                              host='127.0.0.1',\n",
    "                              database='proyecto_peliculas')\n",
    "\n",
    "# iniciamos el cursor                               \n",
    "mycursor = cnx.cursor()\n",
    "\n",
    "\n",
    "query = (\"\"\"     \"\"\")\n",
    "\n",
    "# luego llamamos al método execute() del cursor, al que pasamos como argumento el string que contiene la consulta (\"query\")\n",
    "## De esta manera se ejecuta la consulta en la base de datos y si todo va correctamente, el resultado se almacenará en el cursor.\n",
    "mycursor.execute(query)"
   ]
  },
  {
   "cell_type": "markdown",
   "metadata": {},
   "source": [
    "3. **¿En qué año se estrenaron más películas?**"
   ]
  },
  {
   "cell_type": "code",
   "execution_count": null,
   "metadata": {},
   "outputs": [],
   "source": [
    "cnx = mysql.connector.connect(user='root', password='AlumnaAdalab',\n",
    "                              host='127.0.0.1',\n",
    "                              database='proyecto_peliculas')\n",
    "\n",
    "# iniciamos el cursor                               \n",
    "mycursor = cnx.cursor()\n",
    "\n",
    "\n",
    "query = (\"\"\"     \"\"\")\n",
    "\n",
    "# luego llamamos al método execute() del cursor, al que pasamos como argumento el string que contiene la consulta (\"query\")\n",
    "## De esta manera se ejecuta la consulta en la base de datos y si todo va correctamente, el resultado se almacenará en el cursor.\n",
    "mycursor.execute(query)"
   ]
  },
  {
   "cell_type": "markdown",
   "metadata": {},
   "source": [
    "4. **¿En qué año se estrenaron más cortos?**"
   ]
  },
  {
   "cell_type": "code",
   "execution_count": null,
   "metadata": {},
   "outputs": [],
   "source": [
    "cnx = mysql.connector.connect(user='root', password='AlumnaAdalab',\n",
    "                              host='127.0.0.1',\n",
    "                              database='proyecto_peliculas')\n",
    "\n",
    "# iniciamos el cursor                               \n",
    "mycursor = cnx.cursor()\n",
    "\n",
    "\n",
    "query = (\"\"\"     \"\"\")\n",
    "\n",
    "# luego llamamos al método execute() del cursor, al que pasamos como argumento el string que contiene la consulta (\"query\")\n",
    "## De esta manera se ejecuta la consulta en la base de datos y si todo va correctamente, el resultado se almacenará en el cursor.\n",
    "mycursor.execute(query)"
   ]
  },
  {
   "cell_type": "markdown",
   "metadata": {},
   "source": [
    "\n",
    "5. **¿Cuál es la mejor serie valorada en IMDB?**"
   ]
  },
  {
   "cell_type": "code",
   "execution_count": null,
   "metadata": {},
   "outputs": [],
   "source": [
    "# No tenemos series!"
   ]
  },
  {
   "cell_type": "markdown",
   "metadata": {},
   "source": [
    "6. **¿Cuál es la película mejor valorada en IMDB?**"
   ]
  },
  {
   "cell_type": "code",
   "execution_count": null,
   "metadata": {},
   "outputs": [],
   "source": [
    "cnx = mysql.connector.connect(user='root', password='AlumnaAdalab',\n",
    "                              host='127.0.0.1',\n",
    "                              database='proyecto_peliculas')\n",
    "\n",
    "# iniciamos el cursor                               \n",
    "mycursor = cnx.cursor()\n",
    "\n",
    "\n",
    "query = (\"\"\"SELECT p.Titulo, dp.Puntuacion_IMDB\n",
    "            FROM Detalles_Peliculas dp\n",
    "            INNER JOIN Peliculas p ON dp.Pelicula_id = p.ID_IMDB\n",
    "            WHERE p.Tipo = 'Pelicula'\n",
    "            ORDER BY dp.Puntuacion_IMDB DESC\n",
    "            LIMIT 1;\"\"\")\n",
    "\n",
    "# luego llamamos al método execute() del cursor, al que pasamos como argumento el string que contiene la consulta (\"query\")\n",
    "## De esta manera se ejecuta la consulta en la base de datos y si todo va correctamente, el resultado se almacenará en el cursor.\n",
    "mycursor.execute(query)"
   ]
  },
  {
   "cell_type": "markdown",
   "metadata": {},
   "source": [
    "7. **¿Qué actor/actriz ha recibido más premios?**"
   ]
  },
  {
   "cell_type": "code",
   "execution_count": null,
   "metadata": {},
   "outputs": [],
   "source": [
    "cnx = mysql.connector.connect(user='root', password='AlumnaAdalab',\n",
    "                              host='127.0.0.1',\n",
    "                              database='proyecto_peliculas')\n",
    "\n",
    "# iniciamos el cursor                               \n",
    "mycursor = cnx.cursor()\n",
    "\n",
    "\n",
    "query = (\"\"\"     \"\"\")\n",
    "\n",
    "# luego llamamos al método execute() del cursor, al que pasamos como argumento el string que contiene la consulta (\"query\")\n",
    "## De esta manera se ejecuta la consulta en la base de datos y si todo va correctamente, el resultado se almacenará en el cursor.\n",
    "mycursor.execute(query)"
   ]
  },
  {
   "cell_type": "markdown",
   "metadata": {},
   "source": [
    "8. **¿Hay algún actor/actriz que haya recibido más de un premio Óscar?**"
   ]
  },
  {
   "cell_type": "code",
   "execution_count": null,
   "metadata": {},
   "outputs": [],
   "source": [
    "cnx = mysql.connector.connect(user='root', password='AlumnaAdalab',\n",
    "                              host='127.0.0.1',\n",
    "                              database='proyecto_peliculas')\n",
    "\n",
    "# iniciamos el cursor                               \n",
    "mycursor = cnx.cursor()\n",
    "\n",
    "\n",
    "query = (\"\"\"     \"\"\")\n",
    "\n",
    "# luego llamamos al método execute() del cursor, al que pasamos como argumento el string que contiene la consulta (\"query\")\n",
    "## De esta manera se ejecuta la consulta en la base de datos y si todo va correctamente, el resultado se almacenará en el cursor.\n",
    "mycursor.execute(query)"
   ]
  }
 ],
 "metadata": {
  "kernelspec": {
   "display_name": "Python 3",
   "language": "python",
   "name": "python3"
  },
  "language_info": {
   "codemirror_mode": {
    "name": "ipython",
    "version": 3
   },
   "file_extension": ".py",
   "mimetype": "text/x-python",
   "name": "python",
   "nbconvert_exporter": "python",
   "pygments_lexer": "ipython3",
   "version": "3.11.9"
  }
 },
 "nbformat": 4,
 "nbformat_minor": 2
}
