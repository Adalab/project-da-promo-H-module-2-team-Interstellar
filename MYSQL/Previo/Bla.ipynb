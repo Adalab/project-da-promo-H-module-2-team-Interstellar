{
 "cells": [
  {
   "cell_type": "code",
   "execution_count": 1,
   "metadata": {},
   "outputs": [
    {
     "name": "stdout",
     "output_type": "stream",
     "text": [
      "Requirement already satisfied: mysql-connector-python in /home/mabel/anaconda3/lib/python3.9/site-packages (8.4.0)\n",
      "Note: you may need to restart the kernel to use updated packages.\n"
     ]
    }
   ],
   "source": [
    "pip install mysql-connector-python\n"
   ]
  },
  {
   "cell_type": "code",
   "execution_count": 7,
   "metadata": {},
   "outputs": [
    {
     "name": "stdout",
     "output_type": "stream",
     "text": [
      "El archivo no se encuentra en la ruta especificada: C:\\Users\\Mabel\\Desktop\\ADALAB_CODE\\project-da-promo-H-module-2-team-Interstellar\\API\\CSVs\\Datos_Todos_Generos_2010_2025_API.csv\n"
     ]
    }
   ],
   "source": [
    "import shutil\n",
    "import os\n",
    "\n",
    "# Ruta del archivo CSV original\n",
    "original_csv_path = r'C:\\Users\\Mabel\\Desktop\\ADALAB_CODE\\project-da-promo-H-module-2-team-Interstellar\\API\\CSVs\\Datos_Todos_Generos_2010_2025_API.csv'\n",
    "\n",
    "# Verificar si el archivo existe\n",
    "if not os.path.exists(original_csv_path):\n",
    "    print(f\"El archivo no se encuentra en la ruta especificada: {original_csv_path}\")\n",
    "else:\n",
    "    # Ruta segura obtenida de MySQL\n",
    "    secure_path = r'C:\\ProgramData\\MySQL\\MySQL Server 8.0\\Uploads'\n",
    "\n",
    "    # Asegurarse de que el directorio de destino exista\n",
    "    os.makedirs(secure_path, exist_ok=True)\n",
    "\n",
    "    # Mover el archivo CSV a la ruta segura\n",
    "    destination_csv_path = shutil.move(original_csv_path, os.path.join(secure_path, os.path.basename(original_csv_path)))\n",
    "\n",
    "    print(f\"Archivo CSV movido a: {destination_csv_path}\")\n",
    "\n",
    "    # Ahora procederemos a importar el CSV a MySQL\n",
    "    import mysql.connector\n",
    "\n",
    "    # Configuración de la conexión a MySQL\n",
    "    config = {\n",
    "        'user': 'tu_usuario',\n",
    "        'password': 'tu_contraseña',\n",
    "        'host': 'localhost',\n",
    "        'database': 'tu_base_de_datos',\n",
    "    }\n",
    "\n",
    "    # Conectar a MySQL\n",
    "    conn = mysql.connector.connect(**config)\n",
    "    cursor = conn.cursor()\n",
    "\n",
    "    # Ruta del archivo CSV en la ruta segura\n",
    "    csv_path = destination_csv_path.replace(\"\\\\\", \"/\")\n",
    "\n",
    "    # Comando LOAD DATA INFILE\n",
    "    load_data_query = f\"\"\"\n",
    "    LOAD DATA INFILE '{csv_path}'\n",
    "    INTO TABLE Peliculas\n",
    "    FIELDS TERMINATED BY ',' \n",
    "    ENCLOSED BY '\"'\n",
    "    LINES TERMINATED BY '\\n'\n",
    "    IGNORE 1 LINES\n",
    "    (Tipo, Genero, Titulo, Mes_estreno, Anio_estreno, ID_IMDB);\n",
    "    \"\"\"\n",
    "\n",
    "    # Ejecutar el comando\n",
    "    cursor.execute(load_data_query)\n",
    "    conn.commit()\n",
    "\n",
    "    print(\"Datos importados correctamente\")\n",
    "\n",
    "    # Cerrar la conexión\n",
    "    cursor.close()\n",
    "    conn.close()\n"
   ]
  },
  {
   "cell_type": "code",
   "execution_count": null,
   "metadata": {},
   "outputs": [],
   "source": []
  }
 ],
 "metadata": {
  "kernelspec": {
   "display_name": "base",
   "language": "python",
   "name": "python3"
  },
  "language_info": {
   "codemirror_mode": {
    "name": "ipython",
    "version": 3
   },
   "file_extension": ".py",
   "mimetype": "text/x-python",
   "name": "python",
   "nbconvert_exporter": "python",
   "pygments_lexer": "ipython3",
   "version": "3.9.7"
  }
 },
 "nbformat": 4,
 "nbformat_minor": 2
}
