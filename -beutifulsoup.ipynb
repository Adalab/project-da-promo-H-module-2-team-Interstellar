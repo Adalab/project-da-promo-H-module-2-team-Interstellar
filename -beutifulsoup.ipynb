{
 "cells": [
  {
   "cell_type": "code",
   "execution_count": null,
   "metadata": {},
   "outputs": [],
   "source": [
    "from bs4 import BeautifulSoup\n",
    "import requests\n",
    "\n",
    "# Importar librerías para manipulación y análisis de datos\n",
    "# -----------------------------------------------------------------------\n",
    "import pandas as pd\n",
    "\n",
    "# Importar librerías para procesamiento de texto\n",
    "# -----------------------------------------------------------------------\n",
    "import re"
   ]
  },
  {
   "cell_type": "code",
   "execution_count": null,
   "metadata": {},
   "outputs": [],
   "source": [
    "url_oscars = \"https://es.wikipedia.org/wiki/Premios_Óscar\"\n",
    "\n",
    "# hacemos la request a la página de la que queremos sacar la info\n",
    "res_oscars= requests.get(url_oscars)\n",
    "\n",
    "# vemos si todo ha ido bien\n",
    "print(\"La respuesta de la petición es:\", res_oscars.status_code)"
   ]
  },
  {
   "cell_type": "code",
   "execution_count": null,
   "metadata": {},
   "outputs": [],
   "source": [
    "# creamos el objeto BeautifulSoup para poder acceder al contenido solicitado\n",
    "sopa_oscars = BeautifulSoup(res_oscars.content, 'html.parser')\n",
    "\n",
    "# recordemos que el método .prettify nos permite mostrar de una forma más amigable los resultados obtenidos de la sopa\n",
    "print(sopa_oscars.prettify())"
   ]
  },
  {
   "cell_type": "code",
   "execution_count": null,
   "metadata": {},
   "outputs": [],
   "source": [
    "tablas = sopa_oscars.find_all(\"table\") # numeros de tablas en los oscars\n",
    "\n",
    "print(\"El número de tablas que tenemos en la página web es:\", len(tablas))"
   ]
  },
  {
   "cell_type": "code",
   "execution_count": null,
   "metadata": {},
   "outputs": [],
   "source": [
    "tablas[0]"
   ]
  },
  {
   "cell_type": "code",
   "execution_count": null,
   "metadata": {},
   "outputs": [],
   "source": [
    "tablas [1]"
   ]
  },
  {
   "cell_type": "code",
   "execution_count": null,
   "metadata": {},
   "outputs": [],
   "source": [
    "tablas[2]"
   ]
  },
  {
   "cell_type": "code",
   "execution_count": null,
   "metadata": {},
   "outputs": [],
   "source": [
    "tablas[3]\n",
    "##mw-content-text > div.mw-content-ltr.mw-parser-output > table.wikitable"
   ]
  }
 ],
 "metadata": {
  "kernelspec": {
   "display_name": "base",
   "language": "python",
   "name": "python3"
  },
  "language_info": {
   "codemirror_mode": {
    "name": "ipython",
    "version": 3
   },
   "file_extension": ".py",
   "mimetype": "text/x-python",
   "name": "python",
   "nbconvert_exporter": "python",
   "pygments_lexer": "ipython3",
   "version": "3.9.7"
  }
 },
 "nbformat": 4,
 "nbformat_minor": 2
}
