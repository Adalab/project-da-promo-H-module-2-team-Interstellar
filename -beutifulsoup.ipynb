{
 "cells": [
  {
   "cell_type": "code",
   "execution_count": 1,
   "metadata": {},
   "outputs": [],
   "source": [
    "from bs4 import BeautifulSoup\n",
    "import requests\n",
    "\n",
    "# Importar librerías para manipulación y análisis de datos\n",
    "# -----------------------------------------------------------------------\n",
    "import pandas as pd\n",
    "\n",
    "# Importar librerías para procesamiento de texto\n",
    "# -----------------------------------------------------------------------\n",
    "import re"
   ]
  },
  {
   "cell_type": "code",
   "execution_count": 2,
   "metadata": {},
   "outputs": [
    {
     "ename": "NameError",
     "evalue": "name 'filas_oscars' is not defined",
     "output_type": "error",
     "traceback": [
      "\u001b[0;31m---------------------------------------------------------------------------\u001b[0m",
      "\u001b[0;31mNameError\u001b[0m                                 Traceback (most recent call last)",
      "\u001b[0;32m/tmp/ipykernel_23225/3199179129.py\u001b[0m in \u001b[0;36m<module>\u001b[0;34m\u001b[0m\n\u001b[1;32m     13\u001b[0m \u001b[0;34m\u001b[0m\u001b[0m\n\u001b[1;32m     14\u001b[0m \u001b[0;31m# Iniciamos un bucle 'for' para iterar a través de la lista 'filas_oscars', comenzamos en el segundo para que no salgan los encabezados\u001b[0m\u001b[0;34m\u001b[0m\u001b[0;34m\u001b[0m\u001b[0m\n\u001b[0;32m---> 15\u001b[0;31m \u001b[0;32mfor\u001b[0m \u001b[0mfila\u001b[0m \u001b[0;32min\u001b[0m \u001b[0mfilas_oscars\u001b[0m\u001b[0;34m[\u001b[0m\u001b[0;36m1\u001b[0m\u001b[0;34m:\u001b[0m\u001b[0;34m]\u001b[0m\u001b[0;34m:\u001b[0m\u001b[0;34m\u001b[0m\u001b[0;34m\u001b[0m\u001b[0m\n\u001b[0m\u001b[1;32m     16\u001b[0m     \u001b[0;31m# Para cada 'fila', extraemos el texto, lo dividimos en una lista usando '\\n' como separador\u001b[0m\u001b[0;34m\u001b[0m\u001b[0;34m\u001b[0m\u001b[0m\n\u001b[1;32m     17\u001b[0m     \u001b[0mfila_texto\u001b[0m \u001b[0;34m=\u001b[0m \u001b[0mfila\u001b[0m\u001b[0;34m.\u001b[0m\u001b[0mtext\u001b[0m\u001b[0;34m\u001b[0m\u001b[0;34m\u001b[0m\u001b[0m\n",
      "\u001b[0;31mNameError\u001b[0m: name 'filas_oscars' is not defined"
     ]
    }
   ],
   "source": [
    "\n",
    "url_oscars = \"https://es.wikipedia.org/wiki/Premios_Óscar\"\n",
    "\n",
    "def sacar_oscars(url_oscars):\n",
    "    \n",
    "    res_oscars= requests.get(url_oscars)\n",
    "    print(\"La respuesta de la petición es:\", res_oscars.status_code)\n",
    "    \n",
    "    sopa_oscars = BeautifulSoup(res_oscars.content, 'html.parser')\n",
    "    \n",
    "    tablas = sopa_oscars.find_all(\"table\") # numeros de tablas en los oscars\n",
    "    \n",
    "    tabla_oscars = tablas[2]# imnstancio la tabla que me interesa\n",
    "    \n",
    "    lista_encabezados = tabla_oscars.findAll('th') # sacar encabezados\n",
    "    \n",
    "    filas_oscars = tabla_oscars.findAll('tr') # sacar filas\n",
    "    # Creamos una lista  para almacenar los resultados obtenidos.\n",
    "resultados_oscars = []\n",
    "\n",
    "# Iniciamos un bucle 'for' para iterar a través de la lista 'filas_oscars', comenzamos en el segundo para que no salgan los encabezados\n",
    "for fila in filas_oscars[1:]:\n",
    "    # Para cada 'fila', extraemos el texto, lo dividimos en una lista usando '\\n' como separador \n",
    "    fila_texto = fila.text\n",
    "    elementos_fila = fila_texto.split(\"\\n\")\n",
    "\n",
    "    # Añadimos la lista de elementos a la lista 'resultados_oscar'.\n",
    "    resultados_oscars.append(elementos_fila)\n",
    "\n",
    "# Imprimimos los resultados obtenidos después de iterar por la lista.\n",
    "print(\"Los resultados de iterar por la lista son:\\n\", resultados_oscars)\n",
    "print(\"\\n----------------------------------------------------------------------\")\n",
    "# Iteramos a través de cada lista en 'reasultados_oscar y sus elementos usando 'enumerate'.\n",
    "for indice_lista, lista in enumerate(resultados_oscars):\n",
    "    for indice_elemento, elemento in enumerate(lista):\n",
    "        try:\n",
    "            resultados_oscars[indice_lista][indice_elemento] = elemento.replace(\"\\n\", \" \")\n",
    "        except:\n",
    "            # mantenemos el elemento original en la lista.\n",
    "            resultados_oscar[indice_lista][indice_elemento] = elemento\n",
    "            \n",
    "# Imprimimos los resultados después de limpiar los datos.\n",
    "print(\"Los resultados después de limpiar los datos son: \\n\", resultados_oscars)\n",
    "print(\"\\n------------------------------------------------------------------------\")\n",
    "\n",
    "tuplas_oscars= [] #creo una lista vacia para appendear las tuplas resultantes\n",
    "\n",
    "for lista in resultados_oscars:\n",
    "    fecha_ceremonia = lista[3]\n",
    "    mejor_pelicula = lista[5]\n",
    "    mejor_director = lista[7]\n",
    "    mejor_actor = lista[9]\n",
    "    mejor_actriz = lista[11]\n",
    "    \n",
    "    tuplas_resultados = (fecha_ceremonia,mejor_pelicula,mejor_director,mejor_actor,mejor_actriz)\n",
    "    tuplas_oscars.append(tuplas_resultados)\n",
    "    \n",
    "    \n",
    "for  tupla in tuplas_oscars[-25:]:\n",
    "    print(f\"las tuplas que necesitamos son:\")\n",
    "    print(tupla)\n",
    "    \n"
   ]
  }
 ],
 "metadata": {
  "kernelspec": {
   "display_name": "base",
   "language": "python",
   "name": "python3"
  },
  "language_info": {
   "codemirror_mode": {
    "name": "ipython",
    "version": 3
   },
   "file_extension": ".py",
   "mimetype": "text/x-python",
   "name": "python",
   "nbconvert_exporter": "python",
   "pygments_lexer": "ipython3",
   "version": "3.9.7"
  }
 },
 "nbformat": 4,
 "nbformat_minor": 2
}
