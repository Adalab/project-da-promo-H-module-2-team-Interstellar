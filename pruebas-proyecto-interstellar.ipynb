{
 "cells": [
  {
   "cell_type": "code",
   "execution_count": null,
   "metadata": {},
   "outputs": [],
   "source": [
    "!pip install requests\n",
    "!pip install pandas\n"
   ]
  },
  {
   "cell_type": "code",
   "execution_count": null,
   "metadata": {},
   "outputs": [],
   "source": [
    "import requests\n",
    "import pandas as pd\n"
   ]
  },
  {
   "cell_type": "code",
   "execution_count": null,
   "metadata": {},
   "outputs": [],
   "source": [
    "# url_drama = \"https://moviesdatabase.p.rapidapi.com/titles?titleType=movie&endYear=2024&startYear=2010&genre=Drama&page=2\"\n",
    "# url_comedia = \"https://moviesdatabase.p.rapidapi.com/titles?titleType=movie&endYear=2024&startYear=2010&genre=Comedy&page=2\"\n",
    "# url_accion = \"https://moviesdatabase.p.rapidapi.com/titles?titleType=movie&endYear=2024&startYear=2010&genre=Action&page=2\""
   ]
  },
  {
   "cell_type": "code",
   "execution_count": null,
   "metadata": {},
   "outputs": [],
   "source": [
    "# Primero creamos la funcion de llamada y despuescon bucle for iteramos y llamamos a la funcion\n",
    "\n",
    "def llamar_url (url): \n",
    "    headers = {\"X-RapidAPI-Key\": \"431e779057msh1f0c87c2937a329p125efcjsn45064e4b4925\",\"X-RapidAPI-Host\": \"moviesdatabase.p.rapidapi.com\"}\n",
    "    response = requests.get(url, headers=headers)\n",
    "    return response.json ()[\"results\"]"
   ]
  },
  {
   "cell_type": "code",
   "execution_count": null,
   "metadata": {},
   "outputs": [],
   "source": [
    "rango_pagina=range(1,6)\n",
    "resultados_drama = []\n",
    "\n",
    "for pagina in rango_pagina:\n",
    "    url= f\"https://moviesdatabase.p.rapidapi.com/titles?titleType=movie&endYear=2024&startYear=2010&genre=Drama&page={pagina}\"\n",
    "    \n",
    "    datos_peli=llamar_url(url_drama)\n",
    "    resultados_drama.extend(datos_peli)\n",
    "    "
   ]
  },
  {
   "cell_type": "code",
   "execution_count": null,
   "metadata": {},
   "outputs": [],
   "source": [
    "resultados_drama"
   ]
  },
  {
   "cell_type": "code",
   "execution_count": null,
   "metadata": {},
   "outputs": [],
   "source": [
    "len(resultados_drama)"
   ]
  },
  {
   "cell_type": "code",
   "execution_count": null,
   "metadata": {},
   "outputs": [],
   "source": [
    "# Se han extraido por defecto las peliculas de la pagina 1 pero queremos sacar de todas las paginas \n",
    "\n",
    "# #def llamar_pelis(url,pagina):\n",
    "\n",
    "#     url = \"https://moviesdatabase.p.rapidapi.com/titles\"\n",
    "\n",
    "#     querystring = {\"genre\":\"Drama\",\"startYear\":\"2010\",\"titleType\":\"movie\",\"page\":{pagina}, \"endYear\":\"2024\", \"limit\":\"50\"}\n",
    "\n",
    "#     headers = {\n",
    "# \t    \"X-RapidAPI-Key\": \"aa5d648839msh2ca29f643668866p10c69cjsnd296051f523b\",\n",
    "# \t     \"X-RapidAPI-Host\": \"moviesdatabase.p.rapidapi.com\"\n",
    "#     }\n",
    "#     response = requests.get(url, headers=headers, params=querystring)\n",
    "#     return response.json()\n"
   ]
  },
  {
   "cell_type": "code",
   "execution_count": null,
   "metadata": {},
   "outputs": [],
   "source": [
    "# Iteracion con la funcion anterior\n",
    "\n",
    "# def llamar_pelis(url):\n",
    "\n",
    "#     url = \"https://moviesdatabase.p.rapidapi.com/titles\"\n",
    "\n",
    "#     headers = {\n",
    "#             \"X-RapidAPI-Key\": \"aa5d648839msh2ca29f643668866p10c69cjsnd296051f523b\",\"X-RapidAPI-Host\": \"moviesdatabase.p.rapidapi.com\"}\n",
    "#     pagina = 1\n",
    "#     peliculas_totales = []\n",
    "\n",
    "#     while len(peliculas_totales)< 50:\n",
    "#             querystring = {\n",
    "#                 \"genre\": \"Drama\",\n",
    "#                 \"startYear\": \"2010\",\n",
    "#                 \"titleType\": \"movie\",\n",
    "#                 \"page\": pagina,\n",
    "#                 \"endYear\": \"2024\"\n",
    "                \n",
    "#         }\n",
    "#             response = requests.get(url, headers=headers, params=querystring)\n",
    "#             datos_pagina = response.json()\n",
    "#             peliculas_pagina = datos_pagina.get('results', [])  # Obtener la lista de películas de la página\n",
    "        \n",
    "#             if not peliculas_pagina:  # Si no hay más películas en la página, sal del bucle\n",
    "#              break\n",
    "        \n",
    "#             peliculas_totales.extend(peliculas_pagina)  # A\n",
    "#             pagina += 1  # Pasar a la siguiente página\n",
    "\n",
    "#     return peliculas_totales"
   ]
  },
  {
   "cell_type": "code",
   "execution_count": null,
   "metadata": {},
   "outputs": [],
   "source": [
    "# peliculas_totales_drama= llamar_pelis(\"https://moviesdatabase.p.rapidapi.com/titles\") \n",
    "# peliculas_totales_drama"
   ]
  },
  {
   "cell_type": "code",
   "execution_count": null,
   "metadata": {},
   "outputs": [],
   "source": [
    "# len(peliculas_totales_drama)"
   ]
  },
  {
   "cell_type": "code",
   "execution_count": null,
   "metadata": {},
   "outputs": [],
   "source": [
    "#Pruebas iterar en base a un rango:\n",
    "\n",
    "rango_pagina=range(1,6)\n",
    "\n",
    "for pagina in rango_pagina:\n",
    "    url= f\"https://moviesdatabase.p.rapidapi.com/titles?titleType=movie&endYear=2024&startYear=2010&genre=Drama&page={pagina}\"\n",
    "    print(url)"
   ]
  }
 ],
 "metadata": {
  "kernelspec": {
   "display_name": "base",
   "language": "python",
   "name": "python3"
  },
  "language_info": {
   "codemirror_mode": {
    "name": "ipython",
    "version": 3
   },
   "file_extension": ".py",
   "mimetype": "text/x-python",
   "name": "python",
   "nbconvert_exporter": "python",
   "pygments_lexer": "ipython3",
   "version": "3.11.9"
  }
 },
 "nbformat": 4,
 "nbformat_minor": 2
}
