{
 "cells": [
  {
   "cell_type": "code",
   "execution_count": null,
   "metadata": {},
   "outputs": [],
   "source": [
    "from bs4 import BeautifulSoup \n",
    "import pandas as pd\n",
    "import requests \n",
    "import re\n",
    "\n",
    "pd.set_option ('display.max_columns', None)"
   ]
  },
  {
   "cell_type": "code",
   "execution_count": null,
   "metadata": {},
   "outputs": [],
   "source": [
    "url = \"https://moviesdatabase.p.rapidapi.com/titles\"\n",
    "\n",
    "headers = {\n",
    "    \"X-RapidAPI-Key\": \"431e779057msh1f0c87c2937a329p125efcjsn45064e4b4925\",\n",
    "    \"X-RapidAPI-Host\": \"moviesdatabase.p.rapidapi.com\"\n",
    "}\n",
    "\n",
    "querystring = {\n",
    "    \"genre\": \"Action\",\n",
    "    \"startYear\": \"2010\",\n",
    "    \"titleType\": \"movie\",\n",
    "    \"endYear\": \"2024\"\n",
    "}\n",
    "\n",
    "def llamar_pelis(url, headers, querystring):\n",
    "    response = requests.get(url, headers=headers, params=querystring)\n",
    "    if response.status_code == 200:\n",
    "        return response.json()\n",
    "    else:\n",
    "        print(\"Error en la petición tipo:\", response.status_code, response.reason)\n",
    "        return None\n"
   ]
  },
  {
   "cell_type": "code",
   "execution_count": null,
   "metadata": {},
   "outputs": [],
   "source": [
    "llamar_pelis (url, headers, querystring)"
   ]
  },
  {
   "cell_type": "code",
   "execution_count": null,
   "metadata": {},
   "outputs": [],
   "source": [
    "resultados_iniciales = llamar_pelis(url, headers, querystring)\n",
    "if resultados_iniciales:\n",
    "    print(resultados_iniciales)  \n",
    "else:\n",
    "    print(\"No se recibieron datos.\")"
   ]
  },
  {
   "cell_type": "code",
   "execution_count": null,
   "metadata": {},
   "outputs": [],
   "source": [
    "def llamar_pelis(url, headers, querystring):\n",
    "    datos_paginas = []\n",
    "    base_url = \"https://moviesdatabase.p.rapidapi.com\"  \n",
    "    while url:\n",
    "        \n",
    "        if not url.startswith('http'):\n",
    "            url = base_url + url\n",
    "        response = requests.get(url, headers=headers, params=querystring)\n",
    "        if response.status_code == 200:\n",
    "            json_pelis = response.json()\n",
    "            datos_paginas.extend(json_pelis['results'])  \n",
    "            url = json_pelis.get('next')  \n",
    "            querystring = {}  \n",
    "        else:\n",
    "            print(\"Error en la solicitud:\", response.status_code, response.reason)\n",
    "            return None\n",
    "    return {\"Results\": datos_paginas}"
   ]
  },
  {
   "cell_type": "code",
   "execution_count": null,
   "metadata": {},
   "outputs": [],
   "source": [
    "datos_limpios = llamar_pelis(url, headers, querystring)\n",
    "if datos_limpios:\n",
    "    print(datos_limpios)  \n",
    "else:\n",
    "    print(\"Opsss, parece que no se han recibido datos\")"
   ]
  },
  {
   "cell_type": "code",
   "execution_count": null,
   "metadata": {},
   "outputs": [],
   "source": [
    "def limpiar_json(datos_json):\n",
    "    \n",
    "    peliculas = []\n",
    "\n",
    "    \n",
    "    for pelicula in datos_json['results']:\n",
    "        tipo = pelicula['titleType']['text']\n",
    "        nombre = pelicula['titleText']['text']\n",
    "        year = pelicula['releaseYear']['year']\n",
    "        mes = pelicula['releaseDate']['month'] if 'releaseDate' in pelicula and pelicula['releaseDate'] is not None else 'Desconocido'\n",
    "        id_pelicula = pelicula['id']\n",
    "\n",
    "        \n",
    "        peliculas.append({\n",
    "            'Tipo': tipo,\n",
    "            'Nombre': nombre,\n",
    "            'Año de Estreno': year,\n",
    "            'Mes de Estreno': mes,\n",
    "            'ID': id_pelicula\n",
    "        })\n",
    "\n",
    "    \n",
    "    dataframe_peliculas = pd.DataFrame(peliculas)\n",
    "    \n",
    "    return dataframe_peliculas"
   ]
  },
  {
   "cell_type": "code",
   "execution_count": null,
   "metadata": {},
   "outputs": [],
   "source": [
    "# Proceso iterativo sobre el rango de años\n",
    "todos_los_datos = []\n",
    "for year in range(2010, 2025):  # desde 2010 hasta 2024 inclusive\n",
    "    datos_anuales = llamar_pelis(url, headers, year)\n",
    "    if datos_anuales:\n",
    "        df_anual = limpiar_json(datos_anuales)\n",
    "        todos_los_datos.append(df_anual)"
   ]
  },
  {
   "cell_type": "code",
   "execution_count": null,
   "metadata": {},
   "outputs": [],
   "source": [
    "# Concatena todos los DataFrames anuales en uno solo\n",
    "df_final = pd.concat(todos_los_datos, ignore_index=True)\n",
    "print(df_final.head (50))"
   ]
  },
  {
   "cell_type": "code",
   "execution_count": null,
   "metadata": {},
   "outputs": [],
   "source": [
    "# Concatena todos los DataFrames anuales en uno solo\n",
    "df_final = pd.concat(todos_los_datos, ignore_index=True)\n",
    "print(df_final.head (50))"
   ]
  },
  {
   "cell_type": "code",
   "execution_count": null,
   "metadata": {},
   "outputs": [],
   "source": [
    "# df_final.to_csv(\"Peliculas_Drama_Head.csv\", index=False)"
   ]
  }
 ],
 "metadata": {
  "kernelspec": {
   "display_name": "base",
   "language": "python",
   "name": "python3"
  },
  "language_info": {
   "codemirror_mode": {
    "name": "ipython",
    "version": 3
   },
   "file_extension": ".py",
   "mimetype": "text/x-python",
   "name": "python",
   "nbconvert_exporter": "python",
   "pygments_lexer": "ipython3",
   "version": "3.9.7"
  }
 },
 "nbformat": 4,
 "nbformat_minor": 2
}
