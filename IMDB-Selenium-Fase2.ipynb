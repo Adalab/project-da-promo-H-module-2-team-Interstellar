{
 "cells": [
  {
   "cell_type": "code",
   "execution_count": 1,
   "metadata": {},
   "outputs": [],
   "source": [
    "from bs4 import BeautifulSoup\n",
    "import requests\n",
    "import pandas as pd\n",
    "import re"
   ]
  },
  {
   "cell_type": "code",
   "execution_count": 2,
   "metadata": {},
   "outputs": [],
   "source": [
    "# Importar librerías para automatización de navegadores web con Selenium\n",
    "# -----------------------------------------------------------------------\n",
    "from selenium import webdriver  # Selenium es una herramienta para automatizar la interacción con navegadores web.\n",
    "from webdriver_manager.chrome import ChromeDriverManager  # ChromeDriverManager gestiona la instalación del controlador de Chrome.\n",
    "from selenium.webdriver.common.keys import Keys  # Keys es útil para simular eventos de teclado en Selenium.\n",
    "from selenium.webdriver.support.ui import Select  # Select se utiliza para interactuar con elementos <select> en páginas web.\n",
    "from selenium.webdriver.common.by import By"
   ]
  },
  {
   "cell_type": "code",
   "execution_count": 3,
   "metadata": {},
   "outputs": [],
   "source": [
    "# Importar librerías para pausar la ejecución\n",
    "# -----------------------------------------------------------------------\n",
    "from time import sleep  # Sleep se utiliza para pausar la ejecución del programa por un número de segundos."
   ]
  },
  {
   "cell_type": "markdown",
   "metadata": {},
   "source": [
    "Fase 2: Extracción de Detalles de Películas con Selenium\n",
    "Una vez que tengan una lista de películas de la API, el siguiente paso es obtener información más detallada sobre ellas. Utilizaras la herramienta de automatización web Selenium para navegar a sitios web de reseñas de películas (IMDB y Rotten Tomatoes) y extraer detalles como calificaciones, actores y directores. En concreto deberás extraer información sobre:\n",
    "\n",
    "Puntuacion de IMDB (en caso de que la tenga).\n",
    "\n",
    "Puntuación de Rotten Tomatoes (Tomatometer).\n",
    "\n",
    "Dirección (director/a o directore/as de cada película).\n",
    "\n",
    "Gionistas (de cada película).\n",
    "\n",
    "Argumento.\n",
    "\n",
    "Duración (en minutos).\n",
    "\n",
    "Nombre de la película"
   ]
  },
  {
   "cell_type": "code",
   "execution_count": 4,
   "metadata": {},
   "outputs": [],
   "source": [
    "# # Llamo al navegador\n",
    "\n",
    "# driver=webdriver.Chrome()\n",
    "# driver.get(\"https://www.imdb.com/?ref_=nv_home\")\n",
    "# driver.find_element(\"css selector\", \"#__next > div > div > div.sc-jrcTuL.bPmWiM > div > button.icb-btn.sc-bcXHqe.sc-dkrFOg.sc-iBYQkv.dcvrLS.ddtuHe.dRCGjd\").click()\n",
    "\n",
    "# # Hago grande el navegador para que aparezcan todas las opciones posibles de la web\n",
    "\n",
    "# driver.maximize_window()\n",
    "\n",
    "# sleep(5)\n",
    "\n",
    "\n",
    "def llamar_info_peli(lista_id_muestra,driver):\n",
    "  # Creo lista de tuplas tal y como pide el enunciado para guardar los datos extraidos \n",
    "\n",
    "  lista_tuplas_pelis=[]\n",
    "\n",
    "  # Creamos una muestras de id de peliculas por las que vamos a iterar para extraer la info\n",
    "\n",
    "  lista_id_muestra= ['tt10579986','tt10597228','tt11097384','tt11152168','tt11237950']\n",
    "\n",
    "\n",
    "  for id in lista_id_muestra:\n",
    "      \n",
    "      # Creo la lista donde voy a ir guardando la info de cada peli, que despues convertiremos en tupla \n",
    "\n",
    "      lista_datos_imdb=[]\n",
    "\n",
    "      try:\n",
    "\n",
    "        busqueda = driver.find_element(\"css selector\",\"#suggestion-search\")\n",
    "\n",
    "        busqueda.clear()\n",
    "\n",
    "        busqueda.send_keys(id, Keys.ENTER)\n",
    "\n",
    "        # Extraemos la informacion que necesitamos\n",
    "\n",
    "        nombre_pelicula=driver.find_element(\"xpath\", '//*[@id=\"__next\"]/main/div/section[1]/section/div[3]/section/section/div[2]/div[1]/h1/span').text\n",
    "        #nombre_pelicula=driver.find_element(\"css selector\", \"#__next > main > div > section.ipc-page-background.ipc-page-background--base.sc-304f99f6-0.fSJiHR > section > div:nth-child(5) > section > section > div.sc-92625f35-3.frxYSZ > div.sc-b7c53eda-0.dUpRPQ > h1 > span\").text \n",
    "      \n",
    "        lista_datos_imdb.append(nombre_pelicula)\n",
    "\n",
    "\n",
    "        # DIRECCION: extraemos la informacion de los directores, que pueden ser 1 o varios\n",
    "        # Creamos una lista donde iremos agregando los diferentes directores en base a las etiquetas correspondientes\n",
    "\n",
    "        #direccion_peli=[]\n",
    "\n",
    "        \n",
    "        try: \n",
    "          \n",
    "          director1= driver.find_element(\"xpath\", '//*[@id=\"__next\"]/main/div/section[1]/div/section/div/div[1]/section[2]/ul/li[1]/div/ul/li[1]/a').text\n",
    "          lista_datos_imdb.append(director1) \n",
    "\n",
    "        except:      \n",
    "            director1= driver.find_element(\"xpath\", '//*[@id=\"__next\"]/main/div/section[1]/div/section/div/div[1]/section[3]/ul/li[1]/div/ul/li/a').text\n",
    "            lista_datos_imdb.append(director1)\n",
    "\n",
    "                                            \n",
    "        # Guionistas\n",
    "\n",
    "        try:\n",
    "          \n",
    "          guionistas_peli= driver.find_element(\"xpath\", '//*[@id=\"__next\"]/main/div/section[1]/div/section/div/div[1]/section[2]/ul/li[2]/div').text\n",
    "          guionistas_bien=re.sub(r'([a-z])([A-Z])', r'\\1 \\2', guionistas_peli)\n",
    "          lista_datos_imdb.append(guionistas_bien)\n",
    "\n",
    "        except:\n",
    "            guionistas_peli= driver.find_element(\"xpath\", '//*[@id=\"__next\"]/main/div/section[1]/div/section/div/div[1]/section[3]/ul/li[2]/div').text\n",
    "            guionistas_bien=re.sub(r'([a-z])([A-Z])', r'\\1 \\2', guionistas_peli)\n",
    "            lista_datos_imdb.append(guionistas_bien)\n",
    "\n",
    "        # Para argumento hay varias etiquetas, una para cada tamaño de pantalla o dispositivo, por lo que hay que escoger la de pantalla grande\n",
    "        argumento_peli=driver.find_element(\"xpath\", '//*[@id=\"__next\"]/main/div/section[1]/section/div[3]/section/section/div[3]/div[2]/div[1]/section/p/span[3]').text\n",
    "        lista_datos_imdb.append(argumento_peli) \n",
    "\n",
    "      \n",
    "        # Duracion pelicula:\n",
    "\n",
    "        try: \n",
    "          duracion_peli=driver.find_element(\"xpath\", '//*[@id=\"__next\"]/main/div/section[1]/section/div[3]/section/section/div[2]/div[1]/ul/li[3]').text\n",
    "          #duracion_peli= driver.find_element(\"css selector\",\"__next > main > div > section.ipc-page-background.ipc-page-background--base.sc-304f99f6-0.fSJiHR > div > section > div > div.sc-978e9339-1.ihWZgK.ipc-page-grid__item.ipc-page-grid__item--span-2 > section:nth-child(28) > div.sc-f65f65be-0.bBlII > ul > li:nth-child(1) > div\").text\n",
    "          lista_datos_imdb.append(duracion_peli)\n",
    "\n",
    "        except:\n",
    "\n",
    "          try:  \n",
    "            duracion_peli=driver.find_element(\"xpath\", '//*[@id=\"__next\"]/main/div/section[1]/section/div[3]/section/section/div[2]/div[1]/ul/li[2]').text\n",
    "            lista_datos_imdb.append(duracion_peli)\n",
    "            \n",
    "          except:\n",
    "            lista_datos_imdb.append(\"No encontrado\")\n",
    "          \n",
    "    \n",
    "        # Puntuacion\n",
    "        try:\n",
    "          \n",
    "          puntuacion_imdb= driver.find_element(\"xpath\", '//*[@id=\"__next\"]/main/div/section[1]/section/div[3]/section/section/div[2]/div[2]/div/div[1]/a/span/div/div[2]/div[1]/span[1]').text\n",
    "          lista_datos_imdb.append(puntuacion_imdb.replace(\",\", \".\"))\n",
    "\n",
    "        except:\n",
    "        \n",
    "          lista_datos_imdb.append(\"No encontrado\")\n",
    "\n",
    "      except Exception as null:\n",
    "          print(f\"Error al procesar la búsqueda para el ID {id}: {str(null)}\")\n",
    "\n",
    "    \n",
    "    # Guardo todos los datos extraidos de cada peli en una tupla, que se incluye, a su vez, en la lista de tuplas de todas las peliculas\n",
    "\n",
    "      lista_tuplas_pelis.append(tuple(lista_datos_imdb))\n",
    "\n",
    "\n",
    "      # Sale a pagina principal y vuelve a empezar bucle\n",
    "\n",
    "      driver.back()\n",
    "\n",
    "  return lista_tuplas_pelis"
   ]
  },
  {
   "cell_type": "code",
   "execution_count": 26,
   "metadata": {},
   "outputs": [
    {
     "data": {
      "text/plain": [
       "[(\"Mom's Coming\",\n",
       "  'Rishiking',\n",
       "  'Rishiking',\n",
       "  'Un alma supuestamente tiene como hija a una chica de 20 años, a la que quiere llevarse con ella, y la hermana mayor quiere impedir que el alma lo haga.',\n",
       "  '2h 2min',\n",
       "  'No encontrado'),\n",
       " ('Love Song and Power',\n",
       "  'Erik Krefeld',\n",
       "  'Stevie Kinchen Erik Krefeld',\n",
       "  'Esta es una historia sobre encontrar el valor para ser uno mismo.',\n",
       "  '1h 30min',\n",
       "  'No encontrado'),\n",
       " ('El astronauta',\n",
       "  'Johan Renck',\n",
       "  'Jaroslav Kalfar Colby Day',\n",
       "  'Jakub Procházka, huérfano y criado en el campo por sus abuelos, supera todas las adversidades y se convierte en el primer astronauta del país.',\n",
       "  '1h 47min',\n",
       "  '5.7'),\n",
       " ('Amigos imaginarios',\n",
       "  'John Krasinski',\n",
       "  'John Krasinski',\n",
       "  'Sigue a una niña que pasa por una experiencia difícil y entonces empieza a ver a los amigos imaginarios de todo el mundo que se han quedado atrás cuando sus amigos de la vida real han crecido.',\n",
       "  '1h 44min',\n",
       "  '8.0'),\n",
       " ('The Accompanist Awakening',\n",
       "  'Frederick Keeve',\n",
       "  'Frederick Keeve',\n",
       "  'Logline: Two newly engaged lovers return to Los Angeles after two years in New York. One of them, a piano accompanist, gets a job at the local ballet studio while attempting to resolve a family tragedy that still haunts him.',\n",
       "  'No encontrado',\n",
       "  'No encontrado')]"
      ]
     },
     "execution_count": 26,
     "metadata": {},
     "output_type": "execute_result"
    }
   ],
   "source": [
    "#lista_tuplas_pelis"
   ]
  },
  {
   "cell_type": "code",
   "execution_count": 5,
   "metadata": {},
   "outputs": [],
   "source": [
    "# Llamo al navegador\n",
    "\n",
    "driver=webdriver.Chrome()\n",
    "driver.get(\"https://www.imdb.com/?ref_=nv_home\")\n",
    "driver.find_element(\"css selector\", \"#__next > div > div > div.sc-jrcTuL.bPmWiM > div > button.icb-btn.sc-bcXHqe.sc-dkrFOg.sc-iBYQkv.dcvrLS.ddtuHe.dRCGjd\").click()\n",
    "\n",
    "# Hago grande el navegador para que aparezcan todas las opciones posibles de la web\n",
    "\n",
    "driver.maximize_window()\n",
    "\n",
    "sleep(5) \n",
    "\n",
    "lista_id_muestra= ['tt10579986','tt10597228','tt11097384','tt11152168','tt11237950']\n",
    "resultados_muestra=llamar_info_peli(lista_id_muestra,driver)"
   ]
  },
  {
   "cell_type": "code",
   "execution_count": 6,
   "metadata": {},
   "outputs": [
    {
     "data": {
      "text/plain": [
       "[(\"Mom's Coming\",\n",
       "  'Rishiking',\n",
       "  'Rishiking',\n",
       "  'Un alma supuestamente tiene como hija a una chica de 20 años, a la que quiere llevarse con ella, y la hermana mayor quiere impedir que el alma lo haga.',\n",
       "  '2h 2min',\n",
       "  'No encontrado'),\n",
       " ('Love Song and Power',\n",
       "  'Erik Krefeld',\n",
       "  'Stevie Kinchen Erik Krefeld',\n",
       "  'Esta es una historia sobre encontrar el valor para ser uno mismo.',\n",
       "  '1h 30min',\n",
       "  'No encontrado'),\n",
       " ('El astronauta',\n",
       "  'Johan Renck',\n",
       "  'Jaroslav Kalfar Colby Day',\n",
       "  'Jakub Procházka, huérfano y criado en el campo por sus abuelos, supera todas las adversidades y se convierte en el primer astronauta del país.',\n",
       "  '1h 47min',\n",
       "  '5.7'),\n",
       " ('Amigos imaginarios',\n",
       "  'John Krasinski',\n",
       "  'John Krasinski',\n",
       "  'Sigue a una niña que pasa por una experiencia difícil y entonces empieza a ver a los amigos imaginarios de todo el mundo que se han quedado atrás cuando sus amigos de la vida real han crecido.',\n",
       "  '1h 44min',\n",
       "  '7.6'),\n",
       " ('The Accompanist Awakening',\n",
       "  'Frederick Keeve',\n",
       "  'Frederick Keeve',\n",
       "  'Logline: Two newly engaged lovers return to Los Angeles after two years in New York. One of them, a piano accompanist, gets a job at the local ballet studio while attempting to resolve a family tragedy that still haunts him.',\n",
       "  'No encontrado',\n",
       "  'No encontrado')]"
      ]
     },
     "execution_count": 6,
     "metadata": {},
     "output_type": "execute_result"
    }
   ],
   "source": [
    "resultados_muestra"
   ]
  },
  {
   "cell_type": "code",
   "execution_count": null,
   "metadata": {},
   "outputs": [],
   "source": [
    "#datos_csv=pd.read_csv(r'...)"
   ]
  },
  {
   "cell_type": "code",
   "execution_count": null,
   "metadata": {},
   "outputs": [],
   "source": [
    "# id_comedia=datos_csv[\"ID\"]\n",
    "# id_comedia"
   ]
  },
  {
   "cell_type": "code",
   "execution_count": null,
   "metadata": {},
   "outputs": [],
   "source": [
    "#lista_id_comedia=id_comedia.tolist()\n",
    "# lista_id_comedia"
   ]
  }
 ],
 "metadata": {
  "kernelspec": {
   "display_name": "Python 3",
   "language": "python",
   "name": "python3"
  },
  "language_info": {
   "codemirror_mode": {
    "name": "ipython",
    "version": 3
   },
   "file_extension": ".py",
   "mimetype": "text/x-python",
   "name": "python",
   "nbconvert_exporter": "python",
   "pygments_lexer": "ipython3",
   "version": "3.11.9"
  }
 },
 "nbformat": 4,
 "nbformat_minor": 2
}
