{
 "cells": [
  {
   "cell_type": "code",
   "execution_count": 2,
   "metadata": {},
   "outputs": [],
   "source": [
    "from bs4 import BeautifulSoup\n",
    "import requests\n",
    "import pandas as pd\n",
    "import re"
   ]
  },
  {
   "cell_type": "code",
   "execution_count": 3,
   "metadata": {},
   "outputs": [],
   "source": [
    "# Importar librerías para automatización de navegadores web con Selenium\n",
    "# -----------------------------------------------------------------------\n",
    "from selenium import webdriver  # Selenium es una herramienta para automatizar la interacción con navegadores web.\n",
    "from webdriver_manager.chrome import ChromeDriverManager  # ChromeDriverManager gestiona la instalación del controlador de Chrome.\n",
    "from selenium.webdriver.common.keys import Keys  # Keys es útil para simular eventos de teclado en Selenium.\n",
    "from selenium.webdriver.support.ui import Select  # Select se utiliza para interactuar con elementos <select> en páginas web.\n",
    "from selenium.webdriver.common.by import By"
   ]
  },
  {
   "cell_type": "code",
   "execution_count": 4,
   "metadata": {},
   "outputs": [],
   "source": [
    "# Importar librerías para pausar la ejecución\n",
    "# -----------------------------------------------------------------------\n",
    "from time import sleep  # Sleep se utiliza para pausar la ejecución del programa por un número de segundos."
   ]
  },
  {
   "cell_type": "markdown",
   "metadata": {},
   "source": [
    "Fase 2: Extracción de Detalles de Películas con Selenium\n",
    "Una vez que tengan una lista de películas de la API, el siguiente paso es obtener información más detallada sobre ellas. Utilizaras la herramienta de automatización web Selenium para navegar a sitios web de reseñas de películas (IMDB y Rotten Tomatoes) y extraer detalles como calificaciones, actores y directores. En concreto deberás extraer información sobre:\n",
    "\n",
    "Puntuacion de IMDB (en caso de que la tenga).\n",
    "\n",
    "Puntuación de Rotten Tomatoes (Tomatometer).\n",
    "\n",
    "Dirección (director/a o directore/as de cada película).\n",
    "\n",
    "Gionistas (de cada película).\n",
    "\n",
    "Argumento.\n",
    "\n",
    "Duración (en minutos).\n",
    "\n",
    "Nombre de la película"
   ]
  },
  {
   "cell_type": "code",
   "execution_count": 7,
   "metadata": {},
   "outputs": [
    {
     "name": "stdout",
     "output_type": "stream",
     "text": [
      "Error al procesar la búsqueda para el ID tt11237950: Message: no such element: Unable to locate element: {\"method\":\"css selector\",\"selector\":\"#__next > main > div > section.ipc-page-background.ipc-page-background--base.sc-304f99f6-0.fSJiHR > section > div:nth-child(5) > section > section > div.sc-92625f35-3.frxYSZ > div.sc-b7c53eda-0.dUpRPQ > ul > li:nth-child(2)\"}\n",
      "  (Session info: chrome=124.0.6367.119); For documentation on this error, please visit: https://www.selenium.dev/documentation/webdriver/troubleshooting/errors#no-such-element-exception\n",
      "Stacktrace:\n",
      "\tGetHandleVerifier [0x00007FF7C6BB1502+60802]\n",
      "\t(No symbol) [0x00007FF7C6B2AC02]\n",
      "\t(No symbol) [0x00007FF7C69E7CE4]\n",
      "\t(No symbol) [0x00007FF7C6A36D4D]\n",
      "\t(No symbol) [0x00007FF7C6A36E1C]\n",
      "\t(No symbol) [0x00007FF7C6A7CE37]\n",
      "\t(No symbol) [0x00007FF7C6A5ABBF]\n",
      "\t(No symbol) [0x00007FF7C6A7A224]\n",
      "\t(No symbol) [0x00007FF7C6A5A923]\n",
      "\t(No symbol) [0x00007FF7C6A28FEC]\n",
      "\t(No symbol) [0x00007FF7C6A29C21]\n",
      "\tGetHandleVerifier [0x00007FF7C6EB411D+3217821]\n",
      "\tGetHandleVerifier [0x00007FF7C6EF60B7+3488055]\n",
      "\tGetHandleVerifier [0x00007FF7C6EEF03F+3459263]\n",
      "\tGetHandleVerifier [0x00007FF7C6C6B846+823494]\n",
      "\t(No symbol) [0x00007FF7C6B35F9F]\n",
      "\t(No symbol) [0x00007FF7C6B30EC4]\n",
      "\t(No symbol) [0x00007FF7C6B31052]\n",
      "\t(No symbol) [0x00007FF7C6B218A4]\n",
      "\tBaseThreadInitThunk [0x00007FF930F9257D+29]\n",
      "\tRtlUserThreadStart [0x00007FF93236AA48+40]\n",
      "\n"
     ]
    }
   ],
   "source": [
    "# Llamo al navegador\n",
    "\n",
    "driver=webdriver.Chrome()\n",
    "driver.get(\"https://www.imdb.com/?ref_=nv_home\")\n",
    "driver.find_element(\"css selector\", \"#__next > div > div > div.sc-jrcTuL.bPmWiM > div > button.icb-btn.sc-bcXHqe.sc-dkrFOg.sc-iBYQkv.dcvrLS.ddtuHe.dRCGjd\").click()\n",
    "\n",
    "# Hago grande el navegador para que aparezcan todas las opciones posibles de la web\n",
    "\n",
    "driver.maximize_window()\n",
    "\n",
    "sleep(5)\n",
    "\n",
    "\n",
    "# Creamos diccionario para guardar la informacion\n",
    "\n",
    "diccionario_info_pelis={\"puntuacion\":[],\n",
    "                        \"direccion\":[], \n",
    "                        \"guionistas\":[], \n",
    "                        \"argumento\":[], \n",
    "                        \"duracion\":[], \n",
    "                        \"nombre_pelicula\":[] }\n",
    "\n",
    "\n",
    "# Accedemos a la primera pelicula de la lista de la API que es \"Mom´s coming\"\n",
    "\n",
    "lista_id_muestra= ['tt10579986','tt10597228','tt11097384','tt11152168','tt11237950']\n",
    "\n",
    "for id in lista_id_muestra:\n",
    "\n",
    "    try:\n",
    "\n",
    "      busqueda = driver.find_element(\"css selector\",\"#suggestion-search\")\n",
    "\n",
    "      busqueda.clear()\n",
    "\n",
    "      busqueda.send_keys(id, Keys.ENTER)\n",
    "\n",
    "\n",
    "\n",
    "      #driver.find_element(\"css selector\",\"#suggestion-search\").send_keys(Keys.ENTER)\n",
    "\n",
    "\n",
    "      # Añadimos un poco de scroll para que se vea mejor\n",
    "\n",
    "      #driver.execute_script(\"window.scrollTo(0,250)\")\n",
    "\n",
    "      # Extraemos la informacion que necesitamos\n",
    "\n",
    "      nombre_pelicula=driver.find_element(\"css selector\", \"#__next > main > div > section.ipc-page-background.ipc-page-background--base.sc-304f99f6-0.fSJiHR > section > div:nth-child(5) > section > section > div.sc-92625f35-3.frxYSZ > div.sc-b7c53eda-0.dUpRPQ > h1 > span\").text \n",
    "      #nombre_pelicula = driver.find_element(\"css selector\",\"#__next > main > div > section.ipc-page-background.ipc-page-background--base.sc-304f99f6-0.fSJiHR > section > div:nth-child(5) > section > section > div.sc-4e4cc5f9-3.dDRspk > div.sc-b7c53eda-0.dUpRPQ > h1 > span\").text\n",
    "      diccionario_info_pelis[\"nombre_pelicula\"].append(nombre_pelicula)\n",
    "\n",
    "      direccion_peli= driver.find_element(\"css selector\", \"#__next > main > div > section.ipc-page-background.ipc-page-background--base.sc-304f99f6-0.fSJiHR > div > section > div > div.sc-978e9339-1.ihWZgK.ipc-page-grid__item.ipc-page-grid__item--span-2 > section.ipc-page-section.ipc-page-section--base.sc-bfec09a1-0.jgUBLM.title-cast.title-cast--movie.celwidget > ul > li:nth-child(1) > div > ul > li > a\").text\n",
    "      diccionario_info_pelis[\"direccion\"].append(direccion_peli)\n",
    "\n",
    "      guionistas_peli= driver.find_element(\"css selector\", \"#__next > main > div > section.ipc-page-background.ipc-page-background--base.sc-304f99f6-0.fSJiHR > div > section > div > div.sc-978e9339-1.ihWZgK.ipc-page-grid__item.ipc-page-grid__item--span-2 > section.ipc-page-section.ipc-page-section--base.sc-bfec09a1-0.jgUBLM.title-cast.title-cast--movie.celwidget > ul > li:nth-child(2) > div > ul > li > a\").text\n",
    "      diccionario_info_pelis[\"guionistas\"].append(guionistas_peli)\n",
    "\n",
    "      \n",
    "      argumento_peli=driver.find_element(\"xpath\", '//*[@id=\"__next\"]/main/div/section[1]/section/div[3]/section/section/div[3]/div[2]/div[1]/section/p/span[1]').get_attribute(\"class\")\n",
    "      #argumento_peli= driver.find_element(\"xpath\", '/html/body/div[2]/main/div/section[1]/div/section/div/div[1]/section[3]/div[2]/div[1]/div/div/div').text\n",
    "      diccionario_info_pelis[\"argumento\"].append(argumento_peli) #__next > main > div > section.ipc-page-background.ipc-page-background--base.sc-304f99f6-0.fSJiHR > div > section > div > div.sc-978e9339-1.ihWZgK.ipc-page-grid__item.ipc-page-grid__item--span-2 > section:nth-child(28) > div.sc-f65f65be-0.bBlII > ul > li:nth-child(1) > div\n",
    "\n",
    "      etiqueta2= \"#__next > main > div > section.ipc-page-background.ipc-page-background--base.sc-304f99f6-0.fSJiHR > section > div:nth-child(5) > section > section > div.sc-92625f35-3.frxYSZ > div.sc-b7c53eda-0.dUpRPQ > ul > li:nth-child(2)\"\n",
    "      \n",
    "      try: \n",
    "         duracion_peli=driver.find_element(\"css selector\",\"#__next > main > div > section.ipc-page-background.ipc-page-background--base.sc-304f99f6-0.fSJiHR > section > div:nth-child(5) > section > section > div.sc-92625f35-3.frxYSZ > div.sc-b7c53eda-0.dUpRPQ > ul > li:nth-child(3)\").text\n",
    "         #duracion_peli= driver.find_element(\"css selector\",\"__next > main > div > section.ipc-page-background.ipc-page-background--base.sc-304f99f6-0.fSJiHR > div > section > div > div.sc-978e9339-1.ihWZgK.ipc-page-grid__item.ipc-page-grid__item--span-2 > section:nth-child(28) > div.sc-f65f65be-0.bBlII > ul > li:nth-child(1) > div\").text\n",
    "         diccionario_info_pelis[\"duracion\"].append(duracion_peli)\n",
    "\n",
    "      except:\n",
    "         duracion_peli=driver.find_element(\"css selector\",\"#__next > main > div > section.ipc-page-background.ipc-page-background--base.sc-304f99f6-0.fSJiHR > section > div:nth-child(5) > section > section > div.sc-92625f35-3.frxYSZ > div.sc-b7c53eda-0.dUpRPQ > ul > li:nth-child(2)\").text\n",
    "         diccionario_info_pelis[\"duracion\"].append(duracion_peli)\n",
    "\n",
    "      #puntuacion = driver.find_element\n",
    "      #diccionario_info_pelis[\"\"].append() \n",
    "\n",
    "    except Exception as null:\n",
    "        print(f\"Error al procesar la búsqueda para el ID {id}: {str(null)}\")\n",
    "\n",
    "    driver.back()"
   ]
  },
  {
   "cell_type": "code",
   "execution_count": 8,
   "metadata": {},
   "outputs": [
    {
     "data": {
      "text/plain": [
       "{'puntuacion': [],\n",
       " 'direccion': ['Rishiking',\n",
       "  'Erik Krefeld',\n",
       "  'Johan Renck',\n",
       "  'John Krasinski',\n",
       "  'Frederick Keeve'],\n",
       " 'guionistas': ['Rishiking',\n",
       "  'Stevie Kinchen',\n",
       "  'Jaroslav Kalfar',\n",
       "  'John Krasinski',\n",
       "  'Frederick Keeve'],\n",
       " 'argumento': ['sc-7193fc79-0 ftEVcu',\n",
       "  'sc-7193fc79-0 ftEVcu',\n",
       "  'sc-7193fc79-0 ftEVcu',\n",
       "  'sc-7193fc79-0 ftEVcu',\n",
       "  'sc-7193fc79-0 ftEVcu'],\n",
       " 'duracion': ['2h 2min', '1h 30min', '1h 47min', '1h 44min'],\n",
       " 'nombre_pelicula': [\"Mom's Coming\",\n",
       "  'Love Song and Power',\n",
       "  'El astronauta',\n",
       "  'Amigos imaginarios',\n",
       "  'The Accompanist Awakening']}"
      ]
     },
     "execution_count": 8,
     "metadata": {},
     "output_type": "execute_result"
    }
   ],
   "source": [
    "diccionario_info_pelis"
   ]
  }
 ],
 "metadata": {
  "kernelspec": {
   "display_name": "Python 3",
   "language": "python",
   "name": "python3"
  },
  "language_info": {
   "codemirror_mode": {
    "name": "ipython",
    "version": 3
   },
   "file_extension": ".py",
   "mimetype": "text/x-python",
   "name": "python",
   "nbconvert_exporter": "python",
   "pygments_lexer": "ipython3",
   "version": "3.11.9"
  }
 },
 "nbformat": 4,
 "nbformat_minor": 2
}
