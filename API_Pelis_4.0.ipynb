{
 "cells": [
  {
   "cell_type": "code",
   "execution_count": null,
   "metadata": {},
   "outputs": [],
   "source": [
    "from bs4 import BeautifulSoup \n",
    "import pandas as pd\n",
    "import requests \n",
    "import re\n",
    "\n",
    "pd.set_option ('display.max_columns', None)"
   ]
  },
  {
   "cell_type": "code",
   "execution_count": null,
   "metadata": {},
   "outputs": [],
   "source": [
    "url = \"https://moviesdatabase.p.rapidapi.com/titles\"\n",
    "\n",
    "headers = {\n",
    "    \"X-RapidAPI-Key\": \"431e779057msh1f0c87c2937a329p125efcjsn45064e4b4925\",\n",
    "    \"X-RapidAPI-Host\": \"moviesdatabase.p.rapidapi.com\"\n",
    "}\n",
    "\n",
    "querystring = {\n",
    "    \"genre\": \"Drama\",\n",
    "    \"startYear\": \"2010\",\n",
    "    \"titleType\": \"movie\",\n",
    "    \"endYear\": \"2024\"\n",
    "}\n",
    "\n",
    "def llamar_pelis(url, headers, querystring):\n",
    "    response = requests.get(url, headers=headers, params=querystring)\n",
    "    if response.status_code == 200:\n",
    "        return response.json()\n",
    "    else:\n",
    "        print(\"Error en la petición tipo:\", response.status_code, response.reason)\n",
    "        return None\n"
   ]
  },
  {
   "cell_type": "code",
   "execution_count": null,
   "metadata": {},
   "outputs": [],
   "source": [
    "llamar_pelis (url, headers, querystring)"
   ]
  },
  {
   "cell_type": "code",
   "execution_count": null,
   "metadata": {},
   "outputs": [],
   "source": [
    "# Llamada inicial a la API\n",
    "resultados_iniciales = llamar_pelis(url, headers, querystring)\n",
    "if resultados_iniciales:\n",
    "    print(resultados_iniciales)  # Imprime los resultados iniciales para verificar\n",
    "else:\n",
    "    print(\"No se recibieron datos.\")"
   ]
  },
  {
   "cell_type": "code",
   "execution_count": null,
   "metadata": {},
   "outputs": [],
   "source": [
    "def llamar_pelis(url, headers, querystring):\n",
    "    datos_paginas = []\n",
    "    base_url = \"https://moviesdatabase.p.rapidapi.com\"  # url base para completar las urls de las paginas\n",
    "    while url:\n",
    "        # Verifica si la url esta completa, si no, la completa con nuestros parametros. Evita errores\n",
    "        if not url.startswith('http'):\n",
    "            url = base_url + url\n",
    "        response = requests.get(url, headers=headers, params=querystring)\n",
    "        if response.status_code == 200:\n",
    "            json_pelis = response.json()\n",
    "            datos_paginas.extend(json_pelis['results'])  \n",
    "            url = json_pelis.get('next')  # Obtiene la siguiente página si existe\n",
    "            querystring = {}  # Limpia el querystring porque la url 'next' debería incluir los paráme\n",
    "        else:\n",
    "            print(\"Error en la solicitud:\", response.status_code, response.reason)\n",
    "            return None\n",
    "    return {\"results\": datos_paginas}"
   ]
  },
  {
   "cell_type": "code",
   "execution_count": null,
   "metadata": {},
   "outputs": [],
   "source": [
    "# Llamada completa con paginación\n",
    "datos_limpios = llamar_pelis(url, headers, querystring)\n",
    "if datos_limpios:\n",
    "    print(datos_limpios)  # Imprime los resultados para verificar la paginación\n",
    "else:\n",
    "    print(\"Opsss, parece que no se han recibido datos\")"
   ]
  },
  {
   "cell_type": "code",
   "execution_count": null,
   "metadata": {},
   "outputs": [],
   "source": [
    "def limpiar_json(datos_json):\n",
    "    # Lista para mantener los registros extraídos\n",
    "    peliculas = []\n",
    "\n",
    "    # Itera sobre cada película en los resultados\n",
    "    for pelicula in datos_json['results']:\n",
    "        # Extrae los datos requeridos\n",
    "        tipo = pelicula['titleType']['text']\n",
    "        nombre = pelicula['titleText']['text']\n",
    "        year = pelicula['releaseYear']['year']\n",
    "        mes = pelicula['releaseDate']['month'] if 'releaseDate' in pelicula and pelicula['releaseDate'] is not None else 'Desconocido'\n",
    "        id_pelicula = pelicula['id']\n",
    "\n",
    "        # Agrega un registro por cada película\n",
    "        peliculas.append({\n",
    "            'Tipo': tipo,\n",
    "            'Nombre': nombre,\n",
    "            'Año de Estreno': year,\n",
    "            'Mes de Estreno': mes,\n",
    "            'ID': id_pelicula\n",
    "        })\n",
    "\n",
    "    # Crea un DataFrame con la lista de registros\n",
    "    dataframe_peliculas = pd.DataFrame(peliculas)\n",
    "    \n",
    "    return dataframe_peliculas"
   ]
  },
  {
   "cell_type": "code",
   "execution_count": null,
   "metadata": {},
   "outputs": [],
   "source": [
    "datos_limpios = llamar_pelis(url, headers, querystring)\n",
    "df = limpiar_json(datos_limpios)"
   ]
  },
  {
   "cell_type": "code",
   "execution_count": null,
   "metadata": {},
   "outputs": [],
   "source": [
    "df"
   ]
  }
 ],
 "metadata": {
  "kernelspec": {
   "display_name": "base",
   "language": "python",
   "name": "python3"
  },
  "language_info": {
   "codemirror_mode": {
    "name": "ipython",
    "version": 3
   },
   "file_extension": ".py",
   "mimetype": "text/x-python",
   "name": "python",
   "nbconvert_exporter": "python",
   "pygments_lexer": "ipython3",
   "version": "3.9.7"
  }
 },
 "nbformat": 4,
 "nbformat_minor": 2
}
