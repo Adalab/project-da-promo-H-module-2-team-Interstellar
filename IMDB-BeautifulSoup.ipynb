{
 "cells": [
  {
   "cell_type": "code",
   "execution_count": 1,
   "metadata": {},
   "outputs": [],
   "source": [
    "from bs4 import BeautifulSoup\n",
    "import requests\n",
    "import pandas as pd\n",
    "import re"
   ]
  },
  {
   "cell_type": "markdown",
   "metadata": {},
   "source": [
    "FASE 2: combinar Selenium con Beautifulsoup (video ANA de Selenium)"
   ]
  },
  {
   "cell_type": "code",
   "execution_count": null,
   "metadata": {},
   "outputs": [],
   "source": [
    "# Habria que filtrar la lista de peliculas por su id y crear una lista de id\n",
    "# Ya se ha filtrado en API_Pelis.Drama"
   ]
  },
  {
   "cell_type": "code",
   "execution_count": null,
   "metadata": {},
   "outputs": [],
   "source": [
    "# Crear una iteracion para que busque las peliculas en base a su id y ejecute la solicitud de info \n",
    "\n",
    "# La url de las peliculas en base a su id es : https://www.imdb.com/title/tt10579986/\n",
    "\n",
    "# lista_id_muestra= ['tt10579986','tt10597228','tt11097384','tt11152168','tt11237950']\n",
    "\n",
    "# lista_url=[]\n",
    "\n",
    "# for id in lista_id_muestra:\n",
    "\n",
    "#     lista_url.append(f\"https://www.imdb.com/title/{id}/\")\n"
   ]
  },
  {
   "cell_type": "code",
   "execution_count": null,
   "metadata": {},
   "outputs": [],
   "source": [
    "#lista_url"
   ]
  },
  {
   "cell_type": "markdown",
   "metadata": {},
   "source": [
    "Una vez creada la lista de URL, iteramos por cada una de las url para extraer toda la info con Beautifulsoup"
   ]
  },
  {
   "cell_type": "code",
   "execution_count": 2,
   "metadata": {},
   "outputs": [
    {
     "data": {
      "text/plain": [
       "403"
      ]
     },
     "execution_count": 2,
     "metadata": {},
     "output_type": "execute_result"
    }
   ],
   "source": [
    "# Pruebo con una pelicula primero\n",
    "\n",
    "url= \"https://www.imdb.com/title/tt10579986/\" \n",
    "\n",
    "res=requests.get(url)\n",
    "res.status_code\n",
    "\n"
   ]
  },
  {
   "cell_type": "code",
   "execution_count": null,
   "metadata": {},
   "outputs": [],
   "source": []
  }
 ],
 "metadata": {
  "kernelspec": {
   "display_name": "base",
   "language": "python",
   "name": "python3"
  },
  "language_info": {
   "codemirror_mode": {
    "name": "ipython",
    "version": 3
   },
   "file_extension": ".py",
   "mimetype": "text/x-python",
   "name": "python",
   "nbconvert_exporter": "python",
   "pygments_lexer": "ipython3",
   "version": "3.9.7"
  }
 },
 "nbformat": 4,
 "nbformat_minor": 2
}
