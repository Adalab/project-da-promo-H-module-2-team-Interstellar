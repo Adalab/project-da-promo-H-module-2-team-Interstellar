{
 "cells": [
  {
   "cell_type": "code",
   "execution_count": 10,
   "metadata": {},
   "outputs": [],
   "source": [
    "import requests\n",
    "import pandas as pd"
   ]
  },
  {
   "cell_type": "code",
   "execution_count": 11,
   "metadata": {},
   "outputs": [],
   "source": [
    "api_key = 'af196f0478mshd90862dc657e127p18d90bjsn598fe178eab7'\n",
    "year1 = 2012\n",
    "year2 = 2014\n",
    "genre = 'Drama'"
   ]
  },
  {
   "cell_type": "code",
   "execution_count": 12,
   "metadata": {},
   "outputs": [],
   "source": [
    "class RecolectorPeliculas:\n",
    "    def __init__(self, api_key):\n",
    "        self.base_url = \"https://moviesdatabase.p.rapidapi.com/titles\"\n",
    "        self.headers = {\n",
    "            \"X-RapidAPI-Key\": api_key,\n",
    "            \"X-RapidAPI-Host\": \"moviesdatabase.p.rapidapi.com\"\n",
    "        }\n",
    "\n",
    "    def llamar_pelis_api(self, year1, year2, genre):\n",
    "        datos_paginas = []\n",
    "        querystring = {\"genre\": genre, \"startYear\": year1, \"titleType\": \"movie\", \"endYear\": year2}\n",
    "        page = 1\n",
    "\n",
    "        while True:\n",
    "            response = requests.get(self.base_url, headers=self.headers, params=querystring)\n",
    "            if response.status_code == 200:\n",
    "                json_pelis = response.json()\n",
    "                datos_paginas.extend(json_pelis['results'])\n",
    "                if 'next' in json_pelis and json_pelis['next']:\n",
    "                    querystring['page'] = page + 1\n",
    "                else:\n",
    "                    break\n",
    "            else:\n",
    "                print(\"Error en la solicitud:\", response.status_code, response.reason)\n",
    "                return None\n",
    "\n",
    "        return {\"results\": datos_paginas}\n",
    "\n",
    "    def limpiar_json(self, datos_json):\n",
    "        pelis = []\n",
    "        for movie in datos_json['results']:\n",
    "            type = movie.get('titleType', {}).get('text', 'No disponible')\n",
    "            name = movie.get('titleText', {}).get('text', 'No disponible')\n",
    "            year = movie.get('releaseYear', {}).get('year', 'No disponible')\n",
    "            month = movie.get('releaseDate', {}).get('month', 'No consta') if movie.get('releaseDate') else 'No consta'\n",
    "            id_movie = movie.get('id', 'No disponible')\n",
    "            \n",
    "            pelis.append({\n",
    "                'Tipo': type,\n",
    "                'Nombre': name,\n",
    "                'Año de Estreno': year,\n",
    "                'Mes de Estreno': month,\n",
    "                'ID': id_movie\n",
    "            })\n",
    "        return pd.DataFrame(pelis)\n",
    "\n",
    "    def conseguir_datos_pelis(self, year1, year2, genre):\n",
    "        datos = self.llamar_pelis_api(year1, year2, genre)\n",
    "        if datos:\n",
    "            return self.limpiar_json(datos)\n",
    "        else:\n",
    "            return None\n",
    "\n",
    "def convertir_csv(df, nombrecsv):\n",
    "    df.to_csv(nombrecsv, index=False)"
   ]
  },
  {
   "cell_type": "code",
   "execution_count": 13,
   "metadata": {},
   "outputs": [
    {
     "name": "stdout",
     "output_type": "stream",
     "text": [
      "Error en la solicitud: 429 Too Many Requests\n"
     ]
    }
   ],
   "source": [
    "recolector = RecolectorPeliculas(api_key)\n",
    "    \n",
    "df_pelis = recolector.conseguir_datos_pelis(year1, year2, genre)"
   ]
  },
  {
   "cell_type": "code",
   "execution_count": null,
   "metadata": {},
   "outputs": [],
   "source": [
    "   \n",
    "if df_pelis is not None:\n",
    "    nombre_csv = \"Películas_Drama_2011-2012.csv\"  \n",
    "    convertir_csv(df_pelis, nombre_csv)\n",
    "    print(f\"Datos guardados exitosamente en {nombre_csv}\")\n",
    "else:\n",
    "    print(\"No ha podido obtener datos de la API.\")"
   ]
  }
 ],
 "metadata": {
  "kernelspec": {
   "display_name": "base",
   "language": "python",
   "name": "python3"
  },
  "language_info": {
   "codemirror_mode": {
    "name": "ipython",
    "version": 3
   },
   "file_extension": ".py",
   "mimetype": "text/x-python",
   "name": "python",
   "nbconvert_exporter": "python",
   "pygments_lexer": "ipython3",
   "version": "3.9.7"
  }
 },
 "nbformat": 4,
 "nbformat_minor": 2
}
