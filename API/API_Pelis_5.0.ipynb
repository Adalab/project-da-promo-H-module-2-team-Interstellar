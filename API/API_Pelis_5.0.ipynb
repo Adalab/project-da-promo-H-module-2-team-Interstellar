{
 "cells": [
  {
   "cell_type": "code",
   "execution_count": null,
   "metadata": {},
   "outputs": [],
   "source": [
    "from bs4 import BeautifulSoup\n",
    "import pandas as pd\n",
    "import requests\n",
    "import re\n",
    "\n",
    "pd.set_option('display.max_columns', None)"
   ]
  },
  {
   "cell_type": "code",
   "execution_count": null,
   "metadata": {},
   "outputs": [],
   "source": [
    "api_key = \"431e779057msh1f0c87c2937a329p125efcjsn45064e4b4925\" # Define la clave de la API"
   ]
  },
  {
   "cell_type": "code",
   "execution_count": null,
   "metadata": {},
   "outputs": [],
   "source": [
    "class RecolectorPeliculas:  # Define una clase llamada RecolectorPeliculas\n",
    "    def __init__(self, api_key):  # Define un método inicializador para la clase\n",
    "        self.base_url = \"https://moviesdatabase.p.rapidapi.com\"  # Asigna la URL base de la API\n",
    "        self.headers = {  # Define un diccionario con los encabezados de la solicitud\n",
    "            \"X-RapidAPI-Key\": api_key,  # Clave de la API para autenticación\n",
    "            \"X-RapidAPI-Host\": \"moviesdatabase.p.rapidapi.com\"  # Host de la API \n",
    "        }\n",
    "\n",
    "    def llamar_pelis_api(self, year1, year2, genre):  # Define un método para llamar a la API de películas\n",
    "        url = f\"{self.base_url}/titles\"  # Define la URL completa para la solicitud a la API\n",
    "        datos_paginas = []  # Inicializa una lista vacía para almacenar los datos\n",
    "        querystring = {\"genre\": genre, \"startYear\": year1, \"titleType\": \"movie\", \"endYear\": year2}  # Parámetros de la consulta\n",
    "\n",
    "        while url:  # Inicia un bucle while que se ejecuta mientras la URL no esté vacía\n",
    "            if not url.startswith('http'):  # Verifica si la URL no comienza con 'http'\n",
    "                url = self.base_url + url  # Añade la URL base si es necesario\n",
    "            response = requests.get(url, headers=self.headers, params=querystring)  # Realiza una solicitud GET a la API\n",
    "\n",
    "            if response.status_code == 200:  # Comprueba si la solicitud fue exitosa\n",
    "                json_pelis = response.json()  # Convierte la respuesta en JSON\n",
    "                datos_paginas.extend(json_pelis['results'])  # Agrega los resultados a la lista de páginas de datos\n",
    "                url = json_pelis.get('next')  # Actualiza la URL para iterar por las páginas de resultados\n",
    "                querystring = {}  # Limpia los parámetros de consulta para la próxima solicitud\n",
    "            else:  # Si la solicitud falla\n",
    "                print(\"Error en la solicitud:\", response.status_code, response.reason)  # Imprime un mensaje de error\n",
    "                return None  # Retorna None debido a un error\n",
    "\n",
    "        return {\"results\": datos_paginas}  # Retorna un diccionario con los datos recopilados\n",
    "\n",
    "    def limpiar_json(datos_paginas):  # Define un método para limpiar los datos JSON obtenidos\n",
    "        pelis = []  # Crea una lista vacía para almacenar los datos de películas\n",
    "        for movie in datos_paginas['results']:  # Itera sobre cada película en los resultados\n",
    "            type = movie['titleType']['text']  # Extrae el tipo de título de la película\n",
    "            name = movie['titleText']['text']  # Extrae el nombre de la película\n",
    "            year = movie['releaseYear']['year']  # Extrae el año de lanzamiento de la película\n",
    "            month = movie['releaseDate']['month'] if 'releaseDate' in movie and movie['releaseDate'] is not None else 'No consta'  # Extrae el mes de lanzamiento o asigna 'No consta'\n",
    "            id_movie = movie['id']  # Extrae el ID de la película\n",
    "            \n",
    "            pelis.append({  # Añade los datos de la película al diccionario de películas\n",
    "                'Tipo': type,  # Tipo de película\n",
    "                'Nombre': name,  # Nombre de la película\n",
    "                'Año de Estreno': year,  # Año de estreno de la película\n",
    "                'Mes de Estreno': month,  # Mes de estreno de la película\n",
    "                'ID': id_movie  # ID de la película\n",
    "            })\n",
    "        return pd.DataFrame(pelis)  # Retorna un DataFrame de pandas con los datos de películas\n",
    "\n",
    "    def conseguir_datos_pelis(self, year1, year2, genre):  # Define un método para obtener los datos de las películas\n",
    "        datos = self.llamar_pelis_api(year1, year2, genre)  # Llama al método para llamar a la API de películas\n",
    "        if datos:  # Si se obtienen datos correctamente\n",
    "            return self.limpiar_json(datos)  # Llama al método para limpiar los datos y retorna el DataFrame resultante\n",
    "        else:  # Si falla la obtención de datos\n",
    "            return None  # Retorna None\n",
    "\n",
    "def convertir_csv(df, nombrecsv):  # Define una función para convertir un DataFrame a CSV\n",
    "    df.to_csv(nombrecsv, index=False)  # Convierte el DataFrame a CSV y lo guarda en el archivo especificado"
   ]
  },
  {
   "cell_type": "code",
   "execution_count": null,
   "metadata": {},
   "outputs": [],
   "source": [
    "# Ejemplo de uso\n",
    "coleccion_pelis = RecolectorPeliculas(api_key)  # Crea una instancia de la clase RecolectorPeliculas con la clave API proporcionada\n",
    "\n",
    "# Obtener datos de películas de un género específico entre 2010 y 2024\n",
    "df_pelis = coleccion_pelis.conseguir_datos_pelis(2010, 2024, \"Drama\")  # Llama al método para obtener los datos de películas de comedia\n",
    "print(df_pelis.head(50))  # Imprime los primeros 50 registros del DataFrame de películas obtenido"
   ]
  },
  {
   "cell_type": "code",
   "execution_count": null,
   "metadata": {},
   "outputs": [],
   "source": [
    "# Guardar los datos en un archivo CSV\n",
    "convertir_csv(df_pelis, \"Películas_Comedia_2010-2024.csv\")  # Llama a la función para convertir y guardar los datos en un archivo CSV"
   ]
  }
 ],
 "metadata": {
  "kernelspec": {
   "display_name": "base",
   "language": "python",
   "name": "python3"
  },
  "language_info": {
   "codemirror_mode": {
    "name": "ipython",
    "version": 3
   },
   "file_extension": ".py",
   "mimetype": "text/x-python",
   "name": "python",
   "nbconvert_exporter": "python",
   "pygments_lexer": "ipython3",
   "version": "3.9.7"
  }
 },
 "nbformat": 4,
 "nbformat_minor": 2
}
