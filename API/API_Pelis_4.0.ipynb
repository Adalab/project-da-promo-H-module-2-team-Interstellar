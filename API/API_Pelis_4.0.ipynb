{
 "cells": [
  {
   "cell_type": "code",
   "execution_count": 37,
   "metadata": {},
   "outputs": [],
   "source": [
    "from bs4 import BeautifulSoup  # Importa BeautifulSoup \n",
    "import pandas as pd  # Importa la biblioteca pandas y la renombra como pd\n",
    "import requests  # Importa la biblioteca requests\n",
    "import re  # Importa la biblioteca re\n",
    "\n",
    "pd.set_option('display.max_columns', None)  # Configura pandas para mostrar todas las columnas de un DataFrame al imprimir\n",
    "\n",
    "url = \"https://moviesdatabase.p.rapidapi.com/titles\"  # ENDPOINT\n",
    "\n",
    "headers = {\n",
    "    \"X-RapidAPI-Key\": \"431e779057msh1f0c87c2937a329p125efcjsn45064e4b4925\",  # Clave de API para autenticación\n",
    "    \"X-RapidAPI-Host\": \"moviesdatabase.p.rapidapi.com\"  # Host de la API \n",
    "}"
   ]
  },
  {
   "cell_type": "code",
   "execution_count": 38,
   "metadata": {},
   "outputs": [],
   "source": [
    "\n",
    "def llamar_pelis(url, headers, year):  # Define una función llamada llamar_pelis \n",
    "    datos_paginas = []  # Inicializa una lista vacía para almacenar datos\n",
    "    base_url = \"https://moviesdatabase.p.rapidapi.com\"  # URL base para la API\n",
    "    querystring = {\"genre\": \"Comedy\", \"startYear\": year, \"titleType\": \"movie\", \"endYear\": year}  # Parámetros de la consulta\n",
    "    while url:  # Un bucle while que se ejecuta mientras url no esté vacía\n",
    "        if not url.startswith('http'):  # Verifica si la url no comienza con 'http'\n",
    "            url = base_url + url  # Prepara la url completa añadiendo base_url si es necesario\n",
    "        response = requests.get(url, headers=headers, params=querystring)  # Realiza una solicitud GET a la API\n",
    "        if response.status_code == 200:  # Comprueba si el estado de la respuesta es 200 (éxito)\n",
    "            json_pelis = response.json()  # Convierte la respuesta en JSON\n",
    "            datos_paginas.extend(json_pelis['results'])  # Agrega los resultados al listado de datos_paginas\n",
    "            url = json_pelis.get('next')  # Actualiza la url con el valor de 'next' si existe, para itinerar por páginas\n",
    "            querystring = {}  # Limpia los parámetros de la consulta para la siguiente solicitud\n",
    "        else:\n",
    "            print(\"Error en la solicitud:\", response.status_code, response.reason)  # Imprime un mensaje de error si falla la solicitud\n",
    "            return None  # Termina la función retornando None debido a error\n",
    "    return {\"results\": datos_paginas}  # Devuelve un diccionario con los datos recopilados"
   ]
  },
  {
   "cell_type": "code",
   "execution_count": 39,
   "metadata": {},
   "outputs": [],
   "source": [
    "def limpiar_json(datos_json):  # Define una función para procesar y limpiar los datos JSON\n",
    "    peliculas = []  # Crea una lista vacía para almacenar datos de películas\n",
    "    for pelicula in datos_json['results']:  # Itera sobre cada película en los resultados\n",
    "        tipo = pelicula['titleType']['text']  # Extrae el tipo de título de la películ\n",
    "        nombre = pelicula['titleText']['text']  # Extrae el nombre de la película\n",
    "        year = pelicula['releaseYear']['year']  # Extrae el año de lanzamiento de la película\n",
    "        mes = pelicula['releaseDate']['month'] if 'releaseDate' in pelicula and pelicula['releaseDate'] is not None else 'No consta'  # Extrae el mes de lanzamiento o asigna 'No consta'.\n",
    "        id_pelicula = pelicula['id']\n",
    "        \n",
    "        peliculas.append({\n",
    "            'Tipo': tipo,  # Añade el tipo al diccionario\n",
    "            'Nombre': nombre,  # Añade el nombre al diccionario\n",
    "            'Año de Estreno': year,  # Añade el año de estreno al diccionario\n",
    "            'Mes de Estreno': mes,  # Añade el mes de estreno al diccionario\n",
    "            'ID': id_pelicula  # Añade el ID al diccionario\n",
    "        })\n",
    "    return pd.DataFrame(peliculas)  # Retorna un DataFrame de pandas con los datos de películas"
   ]
  },
  {
   "cell_type": "code",
   "execution_count": 16,
   "metadata": {},
   "outputs": [
    {
     "name": "stdout",
     "output_type": "stream",
     "text": [
      "       Tipo                   Nombre  Año de Estreno Mes de Estreno  \\\n",
      "0     Movie       This Wretched Life            2010              7   \n",
      "1     Movie              Blind Sided            2010      No consta   \n",
      "2     Movie         Anderson's Cross            2010              5   \n",
      "3     Movie                 Rapunzel            2010             12   \n",
      "4     Movie            Venus & Vegas            2010             11   \n",
      "...     ...                      ...             ...            ...   \n",
      "4755  Movie    Valentine ya Njaramba            2011             11   \n",
      "4756  Movie  Glukhar. «Opyat Novyy!»            2011             12   \n",
      "4757  Movie         Mahi Dom Ghermez            2011      No consta   \n",
      "4758  Movie       Amooye Khasise Man            2011      No consta   \n",
      "4759  Movie     Babaye Man Khanandas            2011      No consta   \n",
      "\n",
      "              ID  \n",
      "0      tt0331312  \n",
      "1      tt0337882  \n",
      "2      tt0393049  \n",
      "3      tt0398286  \n",
      "4      tt0423474  \n",
      "...          ...  \n",
      "4755  tt30830982  \n",
      "4756  tt31614044  \n",
      "4757  tt31653019  \n",
      "4758  tt32063259  \n",
      "4759  tt32152499  \n",
      "\n",
      "[4760 rows x 5 columns]\n"
     ]
    }
   ],
   "source": [
    "# Proceso iterativo sobre el rango de años\n",
    "alldata0 = []  # Crea una lista vacía para almacenar los DataFrames de cada año\n",
    "for year in range(2010, 2012):  # Itera sobre cada año desde 2010 hasta 2024\n",
    "    datos_anuales = llamar_pelis(url, headers, year)  # Llama a la función llamar_pelis para obtener datos del año\n",
    "    if datos_anuales:  # Si se recibieron datos exitosamente\n",
    "        df_anual = limpiar_json(datos_anuales)  # Llama a la función limpiar_json para procesar los datos\n",
    "        alldata0.append(df_anual)  # Añade el DataFrame al listado de todos los datos\n",
    "\n",
    "# Concatena todos los DataFrames anuales en uno solo\n",
    "df_final0 = pd.concat(alldata0, ignore_index=True)  # Usa concatenación para unir todos los DataFrames y reindexa\n",
    "print(df_final0)  # Imprime los primeros 50 registros del DataFrame final"
   ]
  },
  {
   "cell_type": "code",
   "execution_count": 17,
   "metadata": {},
   "outputs": [],
   "source": [
    "df_final0.to_csv(\"Películas_Comedia_2010-2011.csv\", index=False)"
   ]
  },
  {
   "cell_type": "code",
   "execution_count": 18,
   "metadata": {},
   "outputs": [
    {
     "name": "stdout",
     "output_type": "stream",
     "text": [
      "Error en la solicitud: 429 Too Many Requests\n",
      "       Tipo                   Nombre  Año de Estreno Mes de Estreno  \\\n",
      "0     Movie            The Rum Diary            2011             12   \n",
      "1     Movie          Gnomeo & Juliet            2011              2   \n",
      "2     Movie     Seven Fallen Objects            2011              5   \n",
      "3     Movie                    Satin            2011              3   \n",
      "4     Movie            Puss in Boots            2011             12   \n",
      "...     ...                      ...             ...            ...   \n",
      "2461  Movie    Valentine ya Njaramba            2011             11   \n",
      "2462  Movie  Glukhar. «Opyat Novyy!»            2011             12   \n",
      "2463  Movie         Mahi Dom Ghermez            2011      No consta   \n",
      "2464  Movie       Amooye Khasise Man            2011      No consta   \n",
      "2465  Movie     Babaye Man Khanandas            2011      No consta   \n",
      "\n",
      "              ID  \n",
      "0      tt0376136  \n",
      "1      tt0377981  \n",
      "2      tt0407194  \n",
      "3      tt0433397  \n",
      "4      tt0448694  \n",
      "...          ...  \n",
      "2461  tt30830982  \n",
      "2462  tt31614044  \n",
      "2463  tt31653019  \n",
      "2464  tt32063259  \n",
      "2465  tt32152499  \n",
      "\n",
      "[2466 rows x 5 columns]\n"
     ]
    }
   ],
   "source": [
    "# Proceso iterativo sobre el rango de años\n",
    "alldata1 = []  # Crea una lista vacía para almacenar los DataFrames de cada año\n",
    "for year in range(2011, 2013):  # Itera sobre cada año desde 2010 hasta 2024\n",
    "    datos_anuales = llamar_pelis(url, headers, year)  # Llama a la función llamar_pelis para obtener datos del año\n",
    "    if datos_anuales:  # Si se recibieron datos exitosamente\n",
    "        df_anual = limpiar_json(datos_anuales)  # Llama a la función limpiar_json para procesar los datos\n",
    "        alldata1.append(df_anual)  # Añade el DataFrame al listado de todos los datos\n",
    "\n",
    "# Concatena todos los DataFrames anuales en uno solo\n",
    "df_final1 = pd.concat(alldata1, ignore_index=True)  # Usa concatenación para unir todos los DataFrames y reindexa\n",
    "print(df_final1)  # Imprime los primeros 50 registros del DataFrame final"
   ]
  },
  {
   "cell_type": "code",
   "execution_count": 19,
   "metadata": {},
   "outputs": [],
   "source": [
    "df_final1.to_csv(\"Películas_Comedia_2011-2012.csv\", index=False)"
   ]
  },
  {
   "cell_type": "code",
   "execution_count": 32,
   "metadata": {},
   "outputs": [
    {
     "name": "stdout",
     "output_type": "stream",
     "text": [
      "       Tipo               Nombre  Año de Estreno Mes de Estreno          ID\n",
      "0     Movie           Foodfight!            2012              2   tt0249516\n",
      "1     Movie       Life's a Beach            2012              5   tt0285252\n",
      "2     Movie    The Three Stooges            2012              4   tt0383010\n",
      "3     Movie               Gambit            2012              6   tt0404978\n",
      "4     Movie          Acorralados            2012              6   tt0426566\n",
      "...     ...                  ...             ...            ...         ...\n",
      "5457  Movie    Halloween Haunt 2            2013             10  tt31631864\n",
      "5458  Movie    Ezdevaje Mashroot            2013      No consta  tt31989902\n",
      "5459  Movie  Sabhuku Vharazipi 2            2013             10  tt32056002\n",
      "5460  Movie                Pfuma            2013              9  tt32163340\n",
      "5461  Movie     Hui jia guò nian            2013           None  tt32199974\n",
      "\n",
      "[5462 rows x 5 columns]\n"
     ]
    }
   ],
   "source": [
    "# Proceso iterativo sobre el rango de años\n",
    "alldata2 = []  # Crea una lista vacía para almacenar los DataFrames de cada año\n",
    "for year in range(2012, 2014):  # Itera sobre cada año desde 2010 hasta 2024\n",
    "    datos_anuales = llamar_pelis(url, headers, year)  # Llama a la función llamar_pelis para obtener datos del año\n",
    "    if datos_anuales:  # Si se recibieron datos exitosamente\n",
    "        df_anual = limpiar_json(datos_anuales)  # Llama a la función limpiar_json para procesar los datos\n",
    "        alldata2.append(df_anual)  # Añade el DataFrame al listado de todos los datos\n",
    "\n",
    "# Concatena todos los DataFrames anuales en uno solo\n",
    "df_final2 = pd.concat(alldata2, ignore_index=True)  # Usa concatenación para unir todos los DataFrames y reindexa\n",
    "print(df_final2)  # Imprime los primeros 50 registros del DataFrame final"
   ]
  },
  {
   "cell_type": "code",
   "execution_count": 33,
   "metadata": {},
   "outputs": [],
   "source": [
    "df_final2.to_csv(\"Películas_Comedia_2012-2013.csv\", index=False)"
   ]
  },
  {
   "cell_type": "code",
   "execution_count": 34,
   "metadata": {},
   "outputs": [
    {
     "name": "stdout",
     "output_type": "stream",
     "text": [
      "Error en la solicitud: 429 Too Many Requests\n",
      "       Tipo                           Nombre  Año de Estreno Mes de Estreno  \\\n",
      "0     Movie                Return to Babylon            2013              8   \n",
      "1     Movie  The Secret Life of Walter Mitty            2013              1   \n",
      "2     Movie                      Blunt Movie            2013              4   \n",
      "3     Movie       Alan Partridge: Alpha Papa            2013              8   \n",
      "4     Movie                       The Croods            2013              3   \n",
      "...     ...                              ...             ...            ...   \n",
      "2817  Movie                Halloween Haunt 2            2013             10   \n",
      "2818  Movie                Ezdevaje Mashroot            2013      No consta   \n",
      "2819  Movie              Sabhuku Vharazipi 2            2013             10   \n",
      "2820  Movie                            Pfuma            2013              9   \n",
      "2821  Movie                 Hui jia guò nian            2013           None   \n",
      "\n",
      "              ID  \n",
      "0      tt0255820  \n",
      "1      tt0359950  \n",
      "2      tt0452183  \n",
      "3      tt0469021  \n",
      "4      tt0481499  \n",
      "...          ...  \n",
      "2817  tt31631864  \n",
      "2818  tt31989902  \n",
      "2819  tt32056002  \n",
      "2820  tt32163340  \n",
      "2821  tt32199974  \n",
      "\n",
      "[2822 rows x 5 columns]\n"
     ]
    }
   ],
   "source": [
    "# Proceso iterativo sobre el rango de años\n",
    "alldata3 = []  # Crea una lista vacía para almacenar los DataFrames de cada año\n",
    "for year in range(2013, 2015):  # Itera sobre cada año desde 2010 hasta 2024\n",
    "    datos_anuales = llamar_pelis(url, headers, year)  # Llama a la función llamar_pelis para obtener datos del año\n",
    "    if datos_anuales:  # Si se recibieron datos exitosamente\n",
    "        df_anual = limpiar_json(datos_anuales)  # Llama a la función limpiar_json para procesar los datos\n",
    "        alldata3.append(df_anual)  # Añade el DataFrame al listado de todos los datos\n",
    "\n",
    "# Concatena todos los DataFrames anuales en uno solo\n",
    "df_final3 = pd.concat(alldata3, ignore_index=True)  # Usa concatenación para unir todos los DataFrames y reindexa\n",
    "print(df_final3)  # Imprime los primeros 50 registros del DataFrame final"
   ]
  },
  {
   "cell_type": "code",
   "execution_count": 35,
   "metadata": {},
   "outputs": [],
   "source": [
    "df_final3.to_csv(\"Películas_Comedia_2013-2014.csv\", index=False)"
   ]
  },
  {
   "cell_type": "code",
   "execution_count": 40,
   "metadata": {},
   "outputs": [
    {
     "name": "stdout",
     "output_type": "stream",
     "text": [
      "       Tipo                 Nombre  Año de Estreno Mes de Estreno          ID\n",
      "0     Movie             Frivolinas            2014             10   tt0016906\n",
      "1     Movie              Rice Girl            2014              7   tt0329539\n",
      "2     Movie           Before We Go            2014             11   tt0443465\n",
      "3     Movie        A Long Way Down            2014              3   tt0458413\n",
      "4     Movie           Kid Cannabis            2014              7   tt0780548\n",
      "...     ...                    ...             ...            ...         ...\n",
      "5928  Movie          Full of Death            2015           None  tt30497207\n",
      "5929  Movie          The Flashback            2015              9  tt31407728\n",
      "5930  Movie               Noy Choy            2015             12  tt31540186\n",
      "5931  Movie  Andreas Bo - Original            2015             11  tt31638578\n",
      "5932  Movie           Super Koudou            2015              5  tt31868540\n",
      "\n",
      "[5933 rows x 5 columns]\n"
     ]
    }
   ],
   "source": [
    "# Proceso iterativo sobre el rango de años\n",
    "alldata4 = []  # Crea una lista vacía para almacenar los DataFrames de cada año\n",
    "for year in range(2014, 2016):  # Itera sobre cada año desde 2010 hasta 2024\n",
    "    datos_anuales = llamar_pelis(url, headers, year)  # Llama a la función llamar_pelis para obtener datos del año\n",
    "    if datos_anuales:  # Si se recibieron datos exitosamente\n",
    "        df_anual = limpiar_json(datos_anuales)  # Llama a la función limpiar_json para procesar los datos\n",
    "        alldata4.append(df_anual)  # Añade el DataFrame al listado de todos los datos\n",
    "\n",
    "# Concatena todos los DataFrames anuales en uno solo\n",
    "df_final4 = pd.concat(alldata4, ignore_index=True)  # Usa concatenación para unir todos los DataFrames y reindexa\n",
    "print(df_final4)  # Imprime los primeros 50 registros del DataFrame final"
   ]
  },
  {
   "cell_type": "code",
   "execution_count": 41,
   "metadata": {},
   "outputs": [],
   "source": [
    "df_final4.to_csv(\"Películas_Comedia_2014-2015.csv\", index=False)"
   ]
  },
  {
   "cell_type": "code",
   "execution_count": 42,
   "metadata": {},
   "outputs": [
    {
     "name": "stdout",
     "output_type": "stream",
     "text": [
      "       Tipo                        Nombre  Año de Estreno Mes de Estreno  \\\n",
      "0     Movie                Soapte de amor            2015              4   \n",
      "1     Movie                   Transeúntes            2015              4   \n",
      "2     Movie                       Ant-Man            2015              7   \n",
      "3     Movie            The Wedding Ringer            2015              3   \n",
      "4     Movie                Gli sbancati 2            2015             12   \n",
      "...     ...                           ...             ...            ...   \n",
      "5978  Movie                   Zack Kapcai            2016              7   \n",
      "5979  Movie                 Bye Bye Dubai            2016              9   \n",
      "5980  Movie                      Tallatet            2016              5   \n",
      "5981  Movie             Troppo Napoletano            2016              4   \n",
      "5982  Movie  Kecoh! Primadona Kena Hantu!            2016             10   \n",
      "\n",
      "              ID  \n",
      "0      tt0191476  \n",
      "1      tt0346045  \n",
      "2      tt0478970  \n",
      "3      tt0884732  \n",
      "4     tt10090052  \n",
      "...          ...  \n",
      "5978  tt31473775  \n",
      "5979  tt31638113  \n",
      "5980  tt31851463  \n",
      "5981  tt31739175  \n",
      "5982  tt32236802  \n",
      "\n",
      "[5983 rows x 5 columns]\n"
     ]
    }
   ],
   "source": [
    "# Proceso iterativo sobre el rango de años\n",
    "alldata5 = []  # Crea una lista vacía para almacenar los DataFrames de cada año\n",
    "for year in range(2015, 2017):  # Itera sobre cada año desde 2010 hasta 2024\n",
    "    datos_anuales = llamar_pelis(url, headers, year)  # Llama a la función llamar_pelis para obtener datos del año\n",
    "    if datos_anuales:  # Si se recibieron datos exitosamente\n",
    "        df_anual = limpiar_json(datos_anuales)  # Llama a la función limpiar_json para procesar los datos\n",
    "        alldata5.append(df_anual)  # Añade el DataFrame al listado de todos los datos\n",
    "\n",
    "# Concatena todos los DataFrames anuales en uno solo\n",
    "df_final5 = pd.concat(alldata5, ignore_index=True)  # Usa concatenación para unir todos los DataFrames y reindexa\n",
    "print(df_final5)  # Imprime los primeros 50 registros del DataFrame final"
   ]
  },
  {
   "cell_type": "code",
   "execution_count": 43,
   "metadata": {},
   "outputs": [],
   "source": [
    "df_final5.to_csv(\"Películas_Comedia_2015-2016.csv\", index=False)"
   ]
  },
  {
   "cell_type": "code",
   "execution_count": null,
   "metadata": {},
   "outputs": [],
   "source": [
    "# Proceso iterativo sobre el rango de años\n",
    "alldata6 = []  # Crea una lista vacía para almacenar los DataFrames de cada año\n",
    "for year in range(2016, 2018):  # Itera sobre cada año desde 2010 hasta 2024\n",
    "    datos_anuales = llamar_pelis(url, headers, year)  # Llama a la función llamar_pelis para obtener datos del año\n",
    "    if datos_anuales:  # Si se recibieron datos exitosamente\n",
    "        df_anual = limpiar_json(datos_anuales)  # Llama a la función limpiar_json para procesar los datos\n",
    "        alldata6.append(df_anual)  # Añade el DataFrame al listado de todos los datos\n",
    "\n",
    "# Concatena todos los DataFrames anuales en uno solo\n",
    "df_final6 = pd.concat(alldata6, ignore_index=True)  # Usa concatenación para unir todos los DataFrames y reindexa\n",
    "print(df_final6)  # Imprime los primeros 50 registros del DataFrame final"
   ]
  },
  {
   "cell_type": "code",
   "execution_count": null,
   "metadata": {},
   "outputs": [],
   "source": [
    "df_final6.to_csv(\"Películas_Comedia_2016-2017.csv\", index=False)"
   ]
  },
  {
   "cell_type": "code",
   "execution_count": null,
   "metadata": {},
   "outputs": [],
   "source": [
    "# Proceso iterativo sobre el rango de años\n",
    "alldata7 = []  # Crea una lista vacía para almacenar los DataFrames de cada año\n",
    "for year in range(2017, 2019):  # Itera sobre cada año desde 2010 hasta 2024\n",
    "    datos_anuales = llamar_pelis(url, headers, year)  # Llama a la función llamar_pelis para obtener datos del año\n",
    "    if datos_anuales:  # Si se recibieron datos exitosamente\n",
    "        df_anual = limpiar_json(datos_anuales)  # Llama a la función limpiar_json para procesar los datos\n",
    "        alldata7.append(df_anual)  # Añade el DataFrame al listado de todos los datos\n",
    "\n",
    "# Concatena todos los DataFrames anuales en uno solo\n",
    "df_final7 = pd.concat(alldata7, ignore_index=True)  # Usa concatenación para unir todos los DataFrames y reindexa\n",
    "print(df_final7)  # Imprime los primeros 50 registros del DataFrame final"
   ]
  },
  {
   "cell_type": "code",
   "execution_count": null,
   "metadata": {},
   "outputs": [],
   "source": [
    "df_final7.to_csv(\"Películas_Comedia_2017-2018.csv\", index=False)"
   ]
  },
  {
   "cell_type": "code",
   "execution_count": null,
   "metadata": {},
   "outputs": [],
   "source": [
    "# Proceso iterativo sobre el rango de años\n",
    "alldata8 = []  # Crea una lista vacía para almacenar los DataFrames de cada año\n",
    "for year in range(2018, 2020):  # Itera sobre cada año desde 2010 hasta 2024\n",
    "    datos_anuales = llamar_pelis(url, headers, year)  # Llama a la función llamar_pelis para obtener datos del año\n",
    "    if datos_anuales:  # Si se recibieron datos exitosamente\n",
    "        df_anual = limpiar_json(datos_anuales)  # Llama a la función limpiar_json para procesar los datos\n",
    "        alldata8.append(df_anual)  # Añade el DataFrame al listado de todos los datos\n",
    "\n",
    "# Concatena todos los DataFrames anuales en uno solo\n",
    "df_final8 = pd.concat(alldata8, ignore_index=True)  # Usa concatenación para unir todos los DataFrames y reindexa\n",
    "print(df_final8)  # Imprime los primeros 50 registros del DataFrame final"
   ]
  },
  {
   "cell_type": "code",
   "execution_count": null,
   "metadata": {},
   "outputs": [],
   "source": [
    "df_final8.to_csv(\"Películas_Comedia_2018-2019.csv\", index=False)"
   ]
  },
  {
   "cell_type": "code",
   "execution_count": null,
   "metadata": {},
   "outputs": [],
   "source": [
    "# Proceso iterativo sobre el rango de años\n",
    "alldata9 = []  # Crea una lista vacía para almacenar los DataFrames de cada año\n",
    "for year in range(2019, 2021):  # Itera sobre cada año desde 2010 hasta 2024\n",
    "    datos_anuales = llamar_pelis(url, headers, year)  # Llama a la función llamar_pelis para obtener datos del año\n",
    "    if datos_anuales:  # Si se recibieron datos exitosamente\n",
    "        df_anual = limpiar_json(datos_anuales)  # Llama a la función limpiar_json para procesar los datos\n",
    "        alldata9.append(df_anual)  # Añade el DataFrame al listado de todos los datos\n",
    "\n",
    "# Concatena todos los DataFrames anuales en uno solo\n",
    "df_final9 = pd.concat(alldata9, ignore_index=True)  # Usa concatenación para unir todos los DataFrames y reindexa\n",
    "print(df_final9)  # Imprime los primeros 50 registros del DataFrame final"
   ]
  },
  {
   "cell_type": "code",
   "execution_count": null,
   "metadata": {},
   "outputs": [],
   "source": [
    "df_final9.to_csv(\"Películas_Comedia_2019-2020.csv\", index=False)"
   ]
  },
  {
   "cell_type": "code",
   "execution_count": null,
   "metadata": {},
   "outputs": [],
   "source": [
    "# Proceso iterativo sobre el rango de años\n",
    "alldata10 = []  # Crea una lista vacía para almacenar los DataFrames de cada año\n",
    "for year in range(2020, 2022):  # Itera sobre cada año desde 2010 hasta 2024\n",
    "    datos_anuales = llamar_pelis(url, headers, year)  # Llama a la función llamar_pelis para obtener datos del año\n",
    "    if datos_anuales:  # Si se recibieron datos exitosamente\n",
    "        df_anual = limpiar_json(datos_anuales)  # Llama a la función limpiar_json para procesar los datos\n",
    "        alldata10.append(df_anual)  # Añade el DataFrame al listado de todos los datos\n",
    "\n",
    "# Concatena todos los DataFrames anuales en uno solo\n",
    "df_final10 = pd.concat(alldata10, ignore_index=True)  # Usa concatenación para unir todos los DataFrames y reindexa\n",
    "print(df_final10)  # Imprime los primeros 50 registros del DataFrame final"
   ]
  },
  {
   "cell_type": "code",
   "execution_count": null,
   "metadata": {},
   "outputs": [],
   "source": [
    "df_final10.to_csv(\"Películas_Comedia_2020-2021.csv\", index=False)"
   ]
  },
  {
   "cell_type": "code",
   "execution_count": null,
   "metadata": {},
   "outputs": [],
   "source": [
    "# Proceso iterativo sobre el rango de años\n",
    "alldata11 = []  # Crea una lista vacía para almacenar los DataFrames de cada año\n",
    "for year in range(2021, 2023):  # Itera sobre cada año desde 2010 hasta 2024\n",
    "    datos_anuales = llamar_pelis(url, headers, year)  # Llama a la función llamar_pelis para obtener datos del año\n",
    "    if datos_anuales:  # Si se recibieron datos exitosamente\n",
    "        df_anual = limpiar_json(datos_anuales)  # Llama a la función limpiar_json para procesar los datos\n",
    "        alldata11.append(df_anual)  # Añade el DataFrame al listado de todos los datos\n",
    "\n",
    "# Concatena todos los DataFrames anuales en uno solo\n",
    "df_final11 = pd.concat(alldata11, ignore_index=True)  # Usa concatenación para unir todos los DataFrames y reindexa\n",
    "print(df_final11)  # Imprime los primeros 50 registros del DataFrame final"
   ]
  },
  {
   "cell_type": "code",
   "execution_count": null,
   "metadata": {},
   "outputs": [],
   "source": [
    "df_final11.to_csv(\"Películas_Comedia_2021-2022.csv\", index=False)"
   ]
  },
  {
   "cell_type": "code",
   "execution_count": null,
   "metadata": {},
   "outputs": [],
   "source": [
    "# Proceso iterativo sobre el rango de años\n",
    "alldata12 = []  # Crea una lista vacía para almacenar los DataFrames de cada año\n",
    "for year in range(2022, 2024):  # Itera sobre cada año desde 2010 hasta 2024\n",
    "    datos_anuales = llamar_pelis(url, headers, year)  # Llama a la función llamar_pelis para obtener datos del año\n",
    "    if datos_anuales:  # Si se recibieron datos exitosamente\n",
    "        df_anual = limpiar_json(datos_anuales)  # Llama a la función limpiar_json para procesar los datos\n",
    "        alldata12.append(df_anual)  # Añade el DataFrame al listado de todos los datos\n",
    "\n",
    "# Concatena todos los DataFrames anuales en uno solo\n",
    "df_final12 = pd.concat(alldata12, ignore_index=True)  # Usa concatenación para unir todos los DataFrames y reindexa\n",
    "print(df_final12)  # Imprime los primeros 50 registros del DataFrame final"
   ]
  },
  {
   "cell_type": "code",
   "execution_count": null,
   "metadata": {},
   "outputs": [],
   "source": [
    "df_final12.to_csv(\"Películas_Comedia_2022-2023.csv\", index=False)"
   ]
  },
  {
   "cell_type": "code",
   "execution_count": null,
   "metadata": {},
   "outputs": [],
   "source": [
    "# Proceso iterativo sobre el rango de años\n",
    "alldata13 = []  # Crea una lista vacía para almacenar los DataFrames de cada año\n",
    "for year in range(2023, 2025):  # Itera sobre cada año desde 2010 hasta 2024\n",
    "    datos_anuales = llamar_pelis(url, headers, year)  # Llama a la función llamar_pelis para obtener datos del año\n",
    "    if datos_anuales:  # Si se recibieron datos exitosamente\n",
    "        df_anual = limpiar_json(datos_anuales)  # Llama a la función limpiar_json para procesar los datos\n",
    "        alldata13.append(df_anual)  # Añade el DataFrame al listado de todos los datos\n",
    "\n",
    "# Concatena todos los DataFrames anuales en uno solo\n",
    "df_final13 = pd.concat(alldata13, ignore_index=True)  # Usa concatenación para unir todos los DataFrames y reindexa\n",
    "print(df_final13)  # Imprime los primeros 50 registros del DataFrame final"
   ]
  },
  {
   "cell_type": "code",
   "execution_count": null,
   "metadata": {},
   "outputs": [],
   "source": [
    "df_final13.to_csv(\"Películas_Comedia_2023-2024.csv\", index=False)"
   ]
  },
  {
   "cell_type": "code",
   "execution_count": null,
   "metadata": {},
   "outputs": [],
   "source": [
    "# Proceso iterativo sobre el rango de años\n",
    "alldata14 = []  # Crea una lista vacía para almacenar los DataFrames de cada año\n",
    "for year in range(2024, 2026):  # Itera sobre cada año desde 2010 hasta 2024\n",
    "    datos_anuales = llamar_pelis(url, headers, year)  # Llama a la función llamar_pelis para obtener datos del año\n",
    "    if datos_anuales:  # Si se recibieron datos exitosamente\n",
    "        df_anual = limpiar_json(datos_anuales)  # Llama a la función limpiar_json para procesar los datos\n",
    "        alldata14.append(df_anual)  # Añade el DataFrame al listado de todos los datos\n",
    "\n",
    "# Concatena todos los DataFrames anuales en uno solo\n",
    "df_final14 = pd.concat(alldata14, ignore_index=True)  # Usa concatenación para unir todos los DataFrames y reindexa\n",
    "print(df_final14)  # Imprime los primeros 50 registros del DataFrame final"
   ]
  },
  {
   "cell_type": "code",
   "execution_count": 12,
   "metadata": {},
   "outputs": [],
   "source": [
    "df_final14.to_csv(\"Películas_Comedia_2024.csv\", index=False)"
   ]
  }
 ],
 "metadata": {
  "kernelspec": {
   "display_name": "base",
   "language": "python",
   "name": "python3"
  },
  "language_info": {
   "codemirror_mode": {
    "name": "ipython",
    "version": 3
   },
   "file_extension": ".py",
   "mimetype": "text/x-python",
   "name": "python",
   "nbconvert_exporter": "python",
   "pygments_lexer": "ipython3",
   "version": "3.9.7"
  }
 },
 "nbformat": 4,
 "nbformat_minor": 2
}
